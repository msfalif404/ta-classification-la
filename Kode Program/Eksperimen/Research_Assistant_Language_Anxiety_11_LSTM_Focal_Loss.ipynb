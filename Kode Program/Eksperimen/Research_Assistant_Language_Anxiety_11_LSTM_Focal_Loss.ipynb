{
  "nbformat": 4,
  "nbformat_minor": 0,
  "metadata": {
    "colab": {
      "provenance": [],
      "gpuType": "T4"
    },
    "kernelspec": {
      "name": "python3",
      "display_name": "Python 3"
    },
    "language_info": {
      "name": "python"
    },
    "accelerator": "GPU"
  },
  "cells": [
    {
      "cell_type": "markdown",
      "source": [
        "# Text Classification: Language Anxiety"
      ],
      "metadata": {
        "id": "Hn6Sp1gN_HH6"
      }
    },
    {
      "cell_type": "markdown",
      "source": [
        "## Importing Library"
      ],
      "metadata": {
        "id": "S3MPDHn4_LMr"
      }
    },
    {
      "cell_type": "code",
      "execution_count": null,
      "metadata": {
        "id": "4UnOxFgzvRIO"
      },
      "outputs": [],
      "source": [
        "import numpy as np\n",
        "import pandas as pd\n",
        "import matplotlib.pyplot as plt\n",
        "import seaborn as sns\n",
        "\n",
        "from sklearn.preprocessing import LabelEncoder\n",
        "from sklearn.model_selection import train_test_split, RandomizedSearchCV\n",
        "\n",
        "import tensorflow as tf\n",
        "from tensorflow.keras.preprocessing.text import Tokenizer\n",
        "from tensorflow.keras.preprocessing.sequence import pad_sequences\n",
        "from tensorflow.keras.callbacks import EarlyStopping, ModelCheckpoint\n",
        "\n",
        "from tensorflow.keras.models import Sequential\n",
        "from tensorflow.keras.layers import Dense, LSTM, GRU, Bidirectional, Embedding, Dropout, GlobalAveragePooling1D, Flatten, SpatialDropout1D\n",
        "\n",
        "from tensorflow.keras.optimizers import AdamW\n",
        "from sklearn.utils import shuffle\n",
        "\n",
        "import keras\n",
        "\n",
        "from sklearn.utils import class_weight\n",
        "from sklearn.metrics import f1_score\n",
        "\n",
        "import random"
      ]
    },
    {
      "cell_type": "code",
      "source": [
        "# Set random seed for reproducibility\n",
        "seed = 2045\n",
        "np.random.seed(seed)\n",
        "tf.random.set_seed(seed)\n",
        "random.seed(seed)"
      ],
      "metadata": {
        "id": "PaUixVM_Kb_q"
      },
      "execution_count": null,
      "outputs": []
    },
    {
      "cell_type": "markdown",
      "source": [
        "## Reading The Dataset"
      ],
      "metadata": {
        "id": "pg1FVcrW_O-t"
      }
    },
    {
      "cell_type": "code",
      "source": [
        "df = pd.read_excel('/content/Clean_Merged_Anxiety_Dataset_Updated AI Label.xlsx')\n",
        "df = df[df['is_ai_generated_label'] == 0]\n",
        "df = df[[\"Post\", \"LA Class\"]]\n",
        "\n",
        "# Pisahkan kelas anxiety\n",
        "# df_anxiety = df[df[\"LA Class\"] == \"Anxiety\"]\n",
        "# df_no_anxiety = df[df[\"LA Class\"] == \"No Anxiety\"]\n",
        "\n",
        "# Sampling data anxiety supaya jadi sekitar 60 baris\n",
        "# df_anxiety_sampled = df_anxiety.sample(n=150, random_state=42)  # Random sampling 60 baris\n",
        "\n",
        "# Gabungkan kembali data yang sudah disampling\n",
        "# df = pd.concat([df_anxiety_sampled, df_no_anxiety], ignore_index=True)\n",
        "\n",
        "df.head()"
      ],
      "metadata": {
        "colab": {
          "base_uri": "https://localhost:8080/",
          "height": 206
        },
        "id": "Q-MegjxuwH7t",
        "outputId": "8deeff52-58bb-423b-9826-4c62abb3555d"
      },
      "execution_count": null,
      "outputs": [
        {
          "output_type": "execute_result",
          "data": {
            "text/plain": [
              "                                                Post    LA Class\n",
              "1  The innovation of technology has transformed a...     Anxiety\n",
              "3  Lack of sexual education in children in Indone...  No Anxiety\n",
              "4  Imagine no longer needing to be stuck in traff...     Anxiety\n",
              "5  Eco-friendly is a way of living without harmin...     Anxiety\n",
              "6  With the Increasing focus on Generative Al, 20...  No Anxiety"
            ],
            "text/html": [
              "\n",
              "  <div id=\"df-439448fa-3938-45ef-9d3c-da08166cedff\" class=\"colab-df-container\">\n",
              "    <div>\n",
              "<style scoped>\n",
              "    .dataframe tbody tr th:only-of-type {\n",
              "        vertical-align: middle;\n",
              "    }\n",
              "\n",
              "    .dataframe tbody tr th {\n",
              "        vertical-align: top;\n",
              "    }\n",
              "\n",
              "    .dataframe thead th {\n",
              "        text-align: right;\n",
              "    }\n",
              "</style>\n",
              "<table border=\"1\" class=\"dataframe\">\n",
              "  <thead>\n",
              "    <tr style=\"text-align: right;\">\n",
              "      <th></th>\n",
              "      <th>Post</th>\n",
              "      <th>LA Class</th>\n",
              "    </tr>\n",
              "  </thead>\n",
              "  <tbody>\n",
              "    <tr>\n",
              "      <th>1</th>\n",
              "      <td>The innovation of technology has transformed a...</td>\n",
              "      <td>Anxiety</td>\n",
              "    </tr>\n",
              "    <tr>\n",
              "      <th>3</th>\n",
              "      <td>Lack of sexual education in children in Indone...</td>\n",
              "      <td>No Anxiety</td>\n",
              "    </tr>\n",
              "    <tr>\n",
              "      <th>4</th>\n",
              "      <td>Imagine no longer needing to be stuck in traff...</td>\n",
              "      <td>Anxiety</td>\n",
              "    </tr>\n",
              "    <tr>\n",
              "      <th>5</th>\n",
              "      <td>Eco-friendly is a way of living without harmin...</td>\n",
              "      <td>Anxiety</td>\n",
              "    </tr>\n",
              "    <tr>\n",
              "      <th>6</th>\n",
              "      <td>With the Increasing focus on Generative Al, 20...</td>\n",
              "      <td>No Anxiety</td>\n",
              "    </tr>\n",
              "  </tbody>\n",
              "</table>\n",
              "</div>\n",
              "    <div class=\"colab-df-buttons\">\n",
              "\n",
              "  <div class=\"colab-df-container\">\n",
              "    <button class=\"colab-df-convert\" onclick=\"convertToInteractive('df-439448fa-3938-45ef-9d3c-da08166cedff')\"\n",
              "            title=\"Convert this dataframe to an interactive table.\"\n",
              "            style=\"display:none;\">\n",
              "\n",
              "  <svg xmlns=\"http://www.w3.org/2000/svg\" height=\"24px\" viewBox=\"0 -960 960 960\">\n",
              "    <path d=\"M120-120v-720h720v720H120Zm60-500h600v-160H180v160Zm220 220h160v-160H400v160Zm0 220h160v-160H400v160ZM180-400h160v-160H180v160Zm440 0h160v-160H620v160ZM180-180h160v-160H180v160Zm440 0h160v-160H620v160Z\"/>\n",
              "  </svg>\n",
              "    </button>\n",
              "\n",
              "  <style>\n",
              "    .colab-df-container {\n",
              "      display:flex;\n",
              "      gap: 12px;\n",
              "    }\n",
              "\n",
              "    .colab-df-convert {\n",
              "      background-color: #E8F0FE;\n",
              "      border: none;\n",
              "      border-radius: 50%;\n",
              "      cursor: pointer;\n",
              "      display: none;\n",
              "      fill: #1967D2;\n",
              "      height: 32px;\n",
              "      padding: 0 0 0 0;\n",
              "      width: 32px;\n",
              "    }\n",
              "\n",
              "    .colab-df-convert:hover {\n",
              "      background-color: #E2EBFA;\n",
              "      box-shadow: 0px 1px 2px rgba(60, 64, 67, 0.3), 0px 1px 3px 1px rgba(60, 64, 67, 0.15);\n",
              "      fill: #174EA6;\n",
              "    }\n",
              "\n",
              "    .colab-df-buttons div {\n",
              "      margin-bottom: 4px;\n",
              "    }\n",
              "\n",
              "    [theme=dark] .colab-df-convert {\n",
              "      background-color: #3B4455;\n",
              "      fill: #D2E3FC;\n",
              "    }\n",
              "\n",
              "    [theme=dark] .colab-df-convert:hover {\n",
              "      background-color: #434B5C;\n",
              "      box-shadow: 0px 1px 3px 1px rgba(0, 0, 0, 0.15);\n",
              "      filter: drop-shadow(0px 1px 2px rgba(0, 0, 0, 0.3));\n",
              "      fill: #FFFFFF;\n",
              "    }\n",
              "  </style>\n",
              "\n",
              "    <script>\n",
              "      const buttonEl =\n",
              "        document.querySelector('#df-439448fa-3938-45ef-9d3c-da08166cedff button.colab-df-convert');\n",
              "      buttonEl.style.display =\n",
              "        google.colab.kernel.accessAllowed ? 'block' : 'none';\n",
              "\n",
              "      async function convertToInteractive(key) {\n",
              "        const element = document.querySelector('#df-439448fa-3938-45ef-9d3c-da08166cedff');\n",
              "        const dataTable =\n",
              "          await google.colab.kernel.invokeFunction('convertToInteractive',\n",
              "                                                    [key], {});\n",
              "        if (!dataTable) return;\n",
              "\n",
              "        const docLinkHtml = 'Like what you see? Visit the ' +\n",
              "          '<a target=\"_blank\" href=https://colab.research.google.com/notebooks/data_table.ipynb>data table notebook</a>'\n",
              "          + ' to learn more about interactive tables.';\n",
              "        element.innerHTML = '';\n",
              "        dataTable['output_type'] = 'display_data';\n",
              "        await google.colab.output.renderOutput(dataTable, element);\n",
              "        const docLink = document.createElement('div');\n",
              "        docLink.innerHTML = docLinkHtml;\n",
              "        element.appendChild(docLink);\n",
              "      }\n",
              "    </script>\n",
              "  </div>\n",
              "\n",
              "\n",
              "<div id=\"df-eadceeb5-e4a7-41eb-9601-75c70567e295\">\n",
              "  <button class=\"colab-df-quickchart\" onclick=\"quickchart('df-eadceeb5-e4a7-41eb-9601-75c70567e295')\"\n",
              "            title=\"Suggest charts\"\n",
              "            style=\"display:none;\">\n",
              "\n",
              "<svg xmlns=\"http://www.w3.org/2000/svg\" height=\"24px\"viewBox=\"0 0 24 24\"\n",
              "     width=\"24px\">\n",
              "    <g>\n",
              "        <path d=\"M19 3H5c-1.1 0-2 .9-2 2v14c0 1.1.9 2 2 2h14c1.1 0 2-.9 2-2V5c0-1.1-.9-2-2-2zM9 17H7v-7h2v7zm4 0h-2V7h2v10zm4 0h-2v-4h2v4z\"/>\n",
              "    </g>\n",
              "</svg>\n",
              "  </button>\n",
              "\n",
              "<style>\n",
              "  .colab-df-quickchart {\n",
              "      --bg-color: #E8F0FE;\n",
              "      --fill-color: #1967D2;\n",
              "      --hover-bg-color: #E2EBFA;\n",
              "      --hover-fill-color: #174EA6;\n",
              "      --disabled-fill-color: #AAA;\n",
              "      --disabled-bg-color: #DDD;\n",
              "  }\n",
              "\n",
              "  [theme=dark] .colab-df-quickchart {\n",
              "      --bg-color: #3B4455;\n",
              "      --fill-color: #D2E3FC;\n",
              "      --hover-bg-color: #434B5C;\n",
              "      --hover-fill-color: #FFFFFF;\n",
              "      --disabled-bg-color: #3B4455;\n",
              "      --disabled-fill-color: #666;\n",
              "  }\n",
              "\n",
              "  .colab-df-quickchart {\n",
              "    background-color: var(--bg-color);\n",
              "    border: none;\n",
              "    border-radius: 50%;\n",
              "    cursor: pointer;\n",
              "    display: none;\n",
              "    fill: var(--fill-color);\n",
              "    height: 32px;\n",
              "    padding: 0;\n",
              "    width: 32px;\n",
              "  }\n",
              "\n",
              "  .colab-df-quickchart:hover {\n",
              "    background-color: var(--hover-bg-color);\n",
              "    box-shadow: 0 1px 2px rgba(60, 64, 67, 0.3), 0 1px 3px 1px rgba(60, 64, 67, 0.15);\n",
              "    fill: var(--button-hover-fill-color);\n",
              "  }\n",
              "\n",
              "  .colab-df-quickchart-complete:disabled,\n",
              "  .colab-df-quickchart-complete:disabled:hover {\n",
              "    background-color: var(--disabled-bg-color);\n",
              "    fill: var(--disabled-fill-color);\n",
              "    box-shadow: none;\n",
              "  }\n",
              "\n",
              "  .colab-df-spinner {\n",
              "    border: 2px solid var(--fill-color);\n",
              "    border-color: transparent;\n",
              "    border-bottom-color: var(--fill-color);\n",
              "    animation:\n",
              "      spin 1s steps(1) infinite;\n",
              "  }\n",
              "\n",
              "  @keyframes spin {\n",
              "    0% {\n",
              "      border-color: transparent;\n",
              "      border-bottom-color: var(--fill-color);\n",
              "      border-left-color: var(--fill-color);\n",
              "    }\n",
              "    20% {\n",
              "      border-color: transparent;\n",
              "      border-left-color: var(--fill-color);\n",
              "      border-top-color: var(--fill-color);\n",
              "    }\n",
              "    30% {\n",
              "      border-color: transparent;\n",
              "      border-left-color: var(--fill-color);\n",
              "      border-top-color: var(--fill-color);\n",
              "      border-right-color: var(--fill-color);\n",
              "    }\n",
              "    40% {\n",
              "      border-color: transparent;\n",
              "      border-right-color: var(--fill-color);\n",
              "      border-top-color: var(--fill-color);\n",
              "    }\n",
              "    60% {\n",
              "      border-color: transparent;\n",
              "      border-right-color: var(--fill-color);\n",
              "    }\n",
              "    80% {\n",
              "      border-color: transparent;\n",
              "      border-right-color: var(--fill-color);\n",
              "      border-bottom-color: var(--fill-color);\n",
              "    }\n",
              "    90% {\n",
              "      border-color: transparent;\n",
              "      border-bottom-color: var(--fill-color);\n",
              "    }\n",
              "  }\n",
              "</style>\n",
              "\n",
              "  <script>\n",
              "    async function quickchart(key) {\n",
              "      const quickchartButtonEl =\n",
              "        document.querySelector('#' + key + ' button');\n",
              "      quickchartButtonEl.disabled = true;  // To prevent multiple clicks.\n",
              "      quickchartButtonEl.classList.add('colab-df-spinner');\n",
              "      try {\n",
              "        const charts = await google.colab.kernel.invokeFunction(\n",
              "            'suggestCharts', [key], {});\n",
              "      } catch (error) {\n",
              "        console.error('Error during call to suggestCharts:', error);\n",
              "      }\n",
              "      quickchartButtonEl.classList.remove('colab-df-spinner');\n",
              "      quickchartButtonEl.classList.add('colab-df-quickchart-complete');\n",
              "    }\n",
              "    (() => {\n",
              "      let quickchartButtonEl =\n",
              "        document.querySelector('#df-eadceeb5-e4a7-41eb-9601-75c70567e295 button');\n",
              "      quickchartButtonEl.style.display =\n",
              "        google.colab.kernel.accessAllowed ? 'block' : 'none';\n",
              "    })();\n",
              "  </script>\n",
              "</div>\n",
              "\n",
              "    </div>\n",
              "  </div>\n"
            ],
            "application/vnd.google.colaboratory.intrinsic+json": {
              "type": "dataframe",
              "variable_name": "df",
              "summary": "{\n  \"name\": \"df\",\n  \"rows\": 216,\n  \"fields\": [\n    {\n      \"column\": \"Post\",\n      \"properties\": {\n        \"dtype\": \"string\",\n        \"num_unique_values\": 215,\n        \"samples\": [\n          \"My favorite place is Cikole. Cikole Lembang is a popular tourism destination known for its natural beauty and outdoor recreational activities. One of my favorite attractions in Cikole Lembang is the Cikole Pine Forest, a vast area of lush greenery filled with towering pine trees. Pine Forest served the best tea that we can enjoy while we enjoying the atmosphere, and talk with your family, friends or your loved one. They also have several resorts and camping sites where visitors can enjoy a peaceful stay surrounded by nature. This place offers stunning views of the surrounding mountains and valleys, providing a perfect setting for a tranquil getaway.Overall, Cikole Lembang is a fantastic destination for me, my friends and also a fantastic destination for nature lovers. Whether you're looking to explore the pine forest, experience thrilling outdoor activities, or simply relax in a serene environment, Cikole Lembang has something to offer for everyone.\",\n          \"My favorite place is Bandung, a tempting city with its enchanting natural charm and rich culture. Among his favorite places, Kawah Putih is a charming destination with its volcanic lake with a turquoise green pattern that attracts the hearts of every visitor. Not far from there, Tangkuban Perahu offers a spectacular natural panorama of the volcanic crater, making it a magnet for adventure and photography lovers. For those who are looking for entertainment and shopping, the Braga Trail is a paradise with buildings that are packed with boutiques, cafes, and interesting art galleries. The Dago area offers a cool mountain atmosphere and beautiful natural panoramas, while Cihampelas is a paradise for fashion lovers with various clothing stores and knick-knacks. Meanwhile, to see the charming sunset, Moko Hill is the perfect place. Not to forget, Bandung's typical culinary delights such as batagor, whipped noodles, and Maranggi satay are a certain attraction energy for tourists. From natural tourism to cultural and culinary activities, Bandung has everything to pamper its visitors. Explore the beauty of Bandung and feel its unforgettable charm, a city that is always inviting to make again.\",\n          \"Early last year, my family and I went to one of the orangutan breeding centers called Nyaru Menteng. Nyaru Menteng is an orangutan breeding center under the Borneo Orangutan Survival Foundation. Nyaru Menteng not only houses orangutans, but also many endemic Bornean animals, including Enggang Bird. Nyaru Menteng is one of the famous tourist attractions in Central Kalimantan. In 2022, Nyaru Menteng was used to one of the filming locations for the movie Petualangan Sherina 2.The location of Nyary Menteng is not too far from my house, which is about 28 km. The trip takes 1 hour by car. I always feel happy when traveling to Nyaru Menteng because I see the right and left sides of the road that are still filled with shady forests. I didn't even have time to hold my cell phone because there was no network and I was more interested in seeing the scenery on the side of the road.My family and I have been there twice to see orangutans or just to spoil our eyes with shady trees and to see unique animals. There we will also be presented with a short film about cases of violence experienced by forest people. We are made aware that the orang hutan is an endemic Bornean animal that is already rare and must be protected. Every time I go there, I always feel sad because there are still many people who are greedy by keeping rare animals even though it is illegal.\"\n        ],\n        \"semantic_type\": \"\",\n        \"description\": \"\"\n      }\n    },\n    {\n      \"column\": \"LA Class\",\n      \"properties\": {\n        \"dtype\": \"category\",\n        \"num_unique_values\": 2,\n        \"samples\": [\n          \"No Anxiety\",\n          \"Anxiety\"\n        ],\n        \"semantic_type\": \"\",\n        \"description\": \"\"\n      }\n    }\n  ]\n}"
            }
          },
          "metadata": {},
          "execution_count": 3
        }
      ]
    },
    {
      "cell_type": "markdown",
      "source": [
        "## Checking Class Distribution"
      ],
      "metadata": {
        "id": "iEJSfwzq_Qua"
      }
    },
    {
      "cell_type": "code",
      "source": [
        "# Mengambil nilai perhitungan distribusi kelas\n",
        "class_counts = df['LA Class'].value_counts()\n",
        "\n",
        "# Membuat diagram batang\n",
        "plt.figure(figsize=(8, 6))\n",
        "class_counts.plot(kind='bar', color='skyblue')\n",
        "plt.title('Distribution of Classes')\n",
        "plt.xlabel('Class')\n",
        "plt.ylabel('Count')\n",
        "plt.xticks(rotation=0)  # Untuk memutar label sumbu x agar lebih mudah dibaca\n",
        "plt.tight_layout()\n",
        "plt.show()"
      ],
      "metadata": {
        "colab": {
          "base_uri": "https://localhost:8080/",
          "height": 607
        },
        "id": "HL00NXYHwUlg",
        "outputId": "eae182f0-ce3f-4914-c113-03dd484402ea"
      },
      "execution_count": null,
      "outputs": [
        {
          "output_type": "display_data",
          "data": {
            "text/plain": [
              "<Figure size 800x600 with 1 Axes>"
            ],
            "image/png": "[encoded data removed]"
          },
          "metadata": {}
        }
      ]
    },
    {
      "cell_type": "code",
      "source": [
        "df['LA Class'].value_counts()"
      ],
      "metadata": {
        "colab": {
          "base_uri": "https://localhost:8080/",
          "height": 178
        },
        "id": "_0eRKHofx_jB",
        "outputId": "b7c45cd6-6dfa-46b9-a99d-4ebd04b71cbe"
      },
      "execution_count": null,
      "outputs": [
        {
          "output_type": "execute_result",
          "data": {
            "text/plain": [
              "LA Class\n",
              "Anxiety       168\n",
              "No Anxiety     48\n",
              "Name: count, dtype: int64"
            ],
            "text/html": [
              "<div>\n",
              "<style scoped>\n",
              "    .dataframe tbody tr th:only-of-type {\n",
              "        vertical-align: middle;\n",
              "    }\n",
              "\n",
              "    .dataframe tbody tr th {\n",
              "        vertical-align: top;\n",
              "    }\n",
              "\n",
              "    .dataframe thead th {\n",
              "        text-align: right;\n",
              "    }\n",
              "</style>\n",
              "<table border=\"1\" class=\"dataframe\">\n",
              "  <thead>\n",
              "    <tr style=\"text-align: right;\">\n",
              "      <th></th>\n",
              "      <th>count</th>\n",
              "    </tr>\n",
              "    <tr>\n",
              "      <th>LA Class</th>\n",
              "      <th></th>\n",
              "    </tr>\n",
              "  </thead>\n",
              "  <tbody>\n",
              "    <tr>\n",
              "      <th>Anxiety</th>\n",
              "      <td>168</td>\n",
              "    </tr>\n",
              "    <tr>\n",
              "      <th>No Anxiety</th>\n",
              "      <td>48</td>\n",
              "    </tr>\n",
              "  </tbody>\n",
              "</table>\n",
              "</div><br><label><b>dtype:</b> int64</label>"
            ]
          },
          "metadata": {},
          "execution_count": 5
        }
      ]
    },
    {
      "cell_type": "markdown",
      "source": [
        "## Encode Target Variable"
      ],
      "metadata": {
        "id": "1UtRaqH8_UoS"
      }
    },
    {
      "cell_type": "code",
      "source": [
        "# Menggunakan mapping manual dengan map\n",
        "df['la_class'] = df['LA Class'].map({'Anxiety': 1, 'No Anxiety': 0})\n",
        "\n",
        "# Menampilkan hasil\n",
        "print(\"Mapping kelas ke nilai encoded:\")\n",
        "print(df[['LA Class', 'la_class']])\n",
        "\n",
        "# Menghapus kolom asli\n",
        "df.drop(columns=['LA Class'], inplace=True)"
      ],
      "metadata": {
        "colab": {
          "base_uri": "https://localhost:8080/"
        },
        "id": "Q9ZyPBkmwgGl",
        "outputId": "ebc36f34-88dc-47b4-ef47-7b4ee71aed26"
      },
      "execution_count": null,
      "outputs": [
        {
          "output_type": "stream",
          "name": "stdout",
          "text": [
            "Mapping kelas ke nilai encoded:\n",
            "       LA Class  la_class\n",
            "1       Anxiety         1\n",
            "3    No Anxiety         0\n",
            "4       Anxiety         1\n",
            "5       Anxiety         1\n",
            "6    No Anxiety         0\n",
            "..          ...       ...\n",
            "347     Anxiety         1\n",
            "351  No Anxiety         0\n",
            "354     Anxiety         1\n",
            "355     Anxiety         1\n",
            "356     Anxiety         1\n",
            "\n",
            "[216 rows x 2 columns]\n"
          ]
        }
      ]
    },
    {
      "cell_type": "markdown",
      "source": [
        "## Contraction Mapping"
      ],
      "metadata": {
        "id": "TtL5Wt8K5uW0"
      }
    },
    {
      "cell_type": "code",
      "source": [
        "contraction_mapping = {\n",
        "    \"ain't\": \"am not\",\n",
        "    \"aren't\": \"are not\",\n",
        "    \"can't\": \"cannot\",\n",
        "    \"can't've\": \"cannot have\",\n",
        "    \"'cause\": \"because\",\n",
        "    \"could've\": \"could have\",\n",
        "    \"couldn't\": \"could not\",\n",
        "    \"couldn't've\": \"could not have\",\n",
        "    \"didn't\": \"did not\",\n",
        "    \"doesn't\": \"does not\",\n",
        "    \"don't\": \"do not\",\n",
        "    \"hadn't\": \"had not\",\n",
        "    \"hadn't've\": \"had not have\",\n",
        "    \"hasn't\": \"has not\",\n",
        "    \"haven't\": \"have not\",\n",
        "    \"he'd\": \"he had\",\n",
        "    \"he'd've\": \"he would have\",\n",
        "    \"he'll\": \"he will\",\n",
        "    \"he'll've\": \"he will have\",\n",
        "    \"he's\": \"he is\",\n",
        "    \"how'd\": \"how did\",\n",
        "    \"how'd'y\": \"how do you\",\n",
        "    \"how'll\": \"how will\",\n",
        "    \"how's\": \"how does\",\n",
        "    \"I'd\": \"I had\",\n",
        "    \"I'd've\": \"I would have\",\n",
        "    \"I'll\": \"I will\",\n",
        "    \"I'll've\": \"I will have\",\n",
        "    \"I'm\": \"I am\",\n",
        "    \"I've\": \"I have\",\n",
        "    \"isn't\": \"is not\",\n",
        "    \"it'd\": \"it had\",\n",
        "    \"it'd've\": \"it would have\",\n",
        "    \"it'll\": \"it will\",\n",
        "    \"it'll've\": \"it will have\",\n",
        "    \"it's\": \"it is\",\n",
        "    \"let's\": \"let us\",\n",
        "    \"ma'am\": \"madam\",\n",
        "    \"mayn't\": \"may not\",\n",
        "    \"might've\": \"might have\",\n",
        "    \"mightn't\": \"might not\",\n",
        "    \"mightn't've\": \"might not have\",\n",
        "    \"must've\": \"must have\",\n",
        "    \"mustn't\": \"must not\",\n",
        "    \"mustn't've\": \"must not have\",\n",
        "    \"needn't\": \"need not\",\n",
        "    \"needn't've\": \"need not have\",\n",
        "    \"o'clock\": \"of the clock\",\n",
        "    \"oughtn't\": \"ought not\",\n",
        "    \"oughtn't've\": \"ought not have\",\n",
        "    \"shan't\": \"shall not\",\n",
        "    \"sha'n't\": \"shall not\",\n",
        "    \"shan't've\": \"shall not have\",\n",
        "    \"she'd\": \"she had\",\n",
        "    \"she'd've\": \"she would have\",\n",
        "    \"she'll\": \"she she will\",\n",
        "    \"she'll've\": \"she will have\",\n",
        "    \"she's\": \"she is\",\n",
        "    \"should've\": \"should have\",\n",
        "    \"shouldn't\": \"should not\",\n",
        "    \"shouldn't've\": \"should not have\",\n",
        "    \"so've\": \"so have\",\n",
        "    \"so's\": \"so is\",\n",
        "    \"that'd\": \"that had\",\n",
        "    \"that'd've\": \"that would have\",\n",
        "    \"that's\": \"that is\",\n",
        "    \"there'd\": \"there had\",\n",
        "    \"there'd've\": \"there would have\",\n",
        "    \"there's\": \"there is\",\n",
        "    \"they'd\": \"they had\",\n",
        "    \"they'd've\": \"they would have\",\n",
        "    \"they'll\": \"they will\",\n",
        "    \"they'll've\": \"they will have\",\n",
        "    \"they're\": \"they are\",\n",
        "    \"they've\": \"they have\",\n",
        "    \"to've\": \"to have\",\n",
        "    \"wasn't\": \"was not\",\n",
        "    \"we'd\": \"we had\",\n",
        "    \"we'd've\": \"we would have\",\n",
        "    \"we'll\": \"we will\",\n",
        "    \"we'll've\": \"we will have\",\n",
        "    \"we're\": \"we are\",\n",
        "    \"we've\": \"we have\",\n",
        "    \"weren't\": \"were not\",\n",
        "    \"what'll\": \"what will\",\n",
        "    \"what'll've\": \"what will have\",\n",
        "    \"what're\": \"what are\",\n",
        "    \"what's\": \"what is\",\n",
        "    \"what've\": \"what have\",\n",
        "    \"when's\": \"when is\",\n",
        "    \"when've\": \"when have\",\n",
        "    \"where'd\": \"where did\",\n",
        "    \"where's\": \"where is\",\n",
        "    \"where've\": \"where have\",\n",
        "    \"who'll\": \"who will\",\n",
        "    \"who'll've\": \"who will have\",\n",
        "    \"who's\": \"who is\",\n",
        "    \"who've\": \"who have\",\n",
        "    \"why's\": \"why is\",\n",
        "    \"why've\": \"why have\",\n",
        "    \"will've\": \"will have\",\n",
        "    \"won't\": \"will not\",\n",
        "    \"won't've\": \"will not have\",\n",
        "    \"would've\": \"would have\",\n",
        "    \"wouldn't\": \"would not\",\n",
        "    \"wouldn't've\": \"would not have\",\n",
        "    \"y'all\": \"you all\",\n",
        "    \"y'all'd\": \"you all would\",\n",
        "    \"y'all'd've\": \"you all would have\",\n",
        "    \"y'all're\": \"you all are\",\n",
        "    \"y'all've\": \"you all have\",\n",
        "    \"you'd\": \"you had\",\n",
        "    \"you'd've\": \"you would have\",\n",
        "    \"you'll\": \"you will\",\n",
        "    \"you'll've\": \"you will have\",\n",
        "    \"you're\": \"you are\",\n",
        "    \"you've\": \"you have\"\n",
        "}\n",
        "\n",
        "def expand_contractions(text, contraction_mapping):\n",
        "    for contraction, expanded in contraction_mapping.items():\n",
        "        text = text.replace(contraction, expanded)\n",
        "    return text\n",
        "\n",
        "df['Post'] = df['Post'].apply(lambda x: expand_contractions(x, contraction_mapping))"
      ],
      "metadata": {
        "id": "vPOCdAsr5vp4"
      },
      "execution_count": null,
      "outputs": []
    },
    {
      "cell_type": "markdown",
      "source": [
        "## Cleaning The Text"
      ],
      "metadata": {
        "id": "SausJ_HC5w_E"
      }
    },
    {
      "cell_type": "code",
      "source": [
        "import re\n",
        "import nltk\n",
        "# nltk.download('stopwords')\n",
        "# nltk.download('wordnet')\n",
        "from nltk.corpus import stopwords\n",
        "from nltk.stem import WordNetLemmatizer\n",
        "\n",
        "nltk.download('stopwords')\n",
        "nltk.download('wordnet')\n",
        "all_stopwords = stopwords.words('english')\n",
        "all_stopwords.remove('not')\n",
        "\n",
        "lemmatizer = WordNetLemmatizer()\n",
        "\n",
        "def preprocess_text(text):\n",
        "    # Hapus karakter non-alphanumeric\n",
        "    text = re.sub('[^a-zA-Z]', ' ', text)\n",
        "    # Konversi teks ke huruf kecil\n",
        "    text = text.lower()\n",
        "    # Split teks menjadi kata-kata\n",
        "    words = text.split()\n",
        "    # Lematisasi dan hapus stop words\n",
        "    words = [lemmatizer.lemmatize(word) for word in words if word not in set(stopwords.words('english'))]\n",
        "    # Gabungkan kata-kata kembali menjadi satu string\n",
        "    processed_text = ' '.join(words)\n",
        "\n",
        "    return processed_text\n",
        "\n",
        "df['Post'] = df['Post'].apply(preprocess_text)"
      ],
      "metadata": {
        "id": "TnsbWXRQ50aJ",
        "colab": {
          "base_uri": "https://localhost:8080/"
        },
        "outputId": "6530e3b6-408e-4b00-d991-59d71c7fddc7"
      },
      "execution_count": null,
      "outputs": [
        {
          "output_type": "stream",
          "name": "stderr",
          "text": [
            "[nltk_data] Downloading package stopwords to /root/nltk_data...\n",
            "[nltk_data]   Unzipping corpora/stopwords.zip.\n",
            "[nltk_data] Downloading package wordnet to /root/nltk_data...\n"
          ]
        }
      ]
    },
    {
      "cell_type": "markdown",
      "source": [
        "## Calculating Text Length"
      ],
      "metadata": {
        "id": "1RQUoVvh_WtZ"
      }
    },
    {
      "cell_type": "code",
      "source": [
        "df['text_length'] = df['Post'].apply(len)\n",
        "df.head()"
      ],
      "metadata": {
        "id": "zVjNvtrbwlAO",
        "colab": {
          "base_uri": "https://localhost:8080/",
          "height": 206
        },
        "outputId": "f95ea588-7e9a-4cd5-d992-2f7094b11f63"
      },
      "execution_count": null,
      "outputs": [
        {
          "output_type": "execute_result",
          "data": {
            "text/plain": [
              "                                                Post  la_class  text_length\n",
              "1  innovation technology transformed almost every...         1         2892\n",
              "3  lack sexual education child indonesia contribu...         0         3354\n",
              "4  imagine longer needing stuck traffic every mor...         1         2352\n",
              "5  eco friendly way living without harming enviro...         1         3417\n",
              "6  increasing focus generative al mark important ...         0         2551"
            ],
            "text/html": [
              "\n",
              "  <div id=\"df-59e39a0e-0338-4fc1-870c-e7c71bdcb44e\" class=\"colab-df-container\">\n",
              "    <div>\n",
              "<style scoped>\n",
              "    .dataframe tbody tr th:only-of-type {\n",
              "        vertical-align: middle;\n",
              "    }\n",
              "\n",
              "    .dataframe tbody tr th {\n",
              "        vertical-align: top;\n",
              "    }\n",
              "\n",
              "    .dataframe thead th {\n",
              "        text-align: right;\n",
              "    }\n",
              "</style>\n",
              "<table border=\"1\" class=\"dataframe\">\n",
              "  <thead>\n",
              "    <tr style=\"text-align: right;\">\n",
              "      <th></th>\n",
              "      <th>Post</th>\n",
              "      <th>la_class</th>\n",
              "      <th>text_length</th>\n",
              "    </tr>\n",
              "  </thead>\n",
              "  <tbody>\n",
              "    <tr>\n",
              "      <th>1</th>\n",
              "      <td>innovation technology transformed almost every...</td>\n",
              "      <td>1</td>\n",
              "      <td>2892</td>\n",
              "    </tr>\n",
              "    <tr>\n",
              "      <th>3</th>\n",
              "      <td>lack sexual education child indonesia contribu...</td>\n",
              "      <td>0</td>\n",
              "      <td>3354</td>\n",
              "    </tr>\n",
              "    <tr>\n",
              "      <th>4</th>\n",
              "      <td>imagine longer needing stuck traffic every mor...</td>\n",
              "      <td>1</td>\n",
              "      <td>2352</td>\n",
              "    </tr>\n",
              "    <tr>\n",
              "      <th>5</th>\n",
              "      <td>eco friendly way living without harming enviro...</td>\n",
              "      <td>1</td>\n",
              "      <td>3417</td>\n",
              "    </tr>\n",
              "    <tr>\n",
              "      <th>6</th>\n",
              "      <td>increasing focus generative al mark important ...</td>\n",
              "      <td>0</td>\n",
              "      <td>2551</td>\n",
              "    </tr>\n",
              "  </tbody>\n",
              "</table>\n",
              "</div>\n",
              "    <div class=\"colab-df-buttons\">\n",
              "\n",
              "  <div class=\"colab-df-container\">\n",
              "    <button class=\"colab-df-convert\" onclick=\"convertToInteractive('df-59e39a0e-0338-4fc1-870c-e7c71bdcb44e')\"\n",
              "            title=\"Convert this dataframe to an interactive table.\"\n",
              "            style=\"display:none;\">\n",
              "\n",
              "  <svg xmlns=\"http://www.w3.org/2000/svg\" height=\"24px\" viewBox=\"0 -960 960 960\">\n",
              "    <path d=\"M120-120v-720h720v720H120Zm60-500h600v-160H180v160Zm220 220h160v-160H400v160Zm0 220h160v-160H400v160ZM180-400h160v-160H180v160Zm440 0h160v-160H620v160ZM180-180h160v-160H180v160Zm440 0h160v-160H620v160Z\"/>\n",
              "  </svg>\n",
              "    </button>\n",
              "\n",
              "  <style>\n",
              "    .colab-df-container {\n",
              "      display:flex;\n",
              "      gap: 12px;\n",
              "    }\n",
              "\n",
              "    .colab-df-convert {\n",
              "      background-color: #E8F0FE;\n",
              "      border: none;\n",
              "      border-radius: 50%;\n",
              "      cursor: pointer;\n",
              "      display: none;\n",
              "      fill: #1967D2;\n",
              "      height: 32px;\n",
              "      padding: 0 0 0 0;\n",
              "      width: 32px;\n",
              "    }\n",
              "\n",
              "    .colab-df-convert:hover {\n",
              "      background-color: #E2EBFA;\n",
              "      box-shadow: 0px 1px 2px rgba(60, 64, 67, 0.3), 0px 1px 3px 1px rgba(60, 64, 67, 0.15);\n",
              "      fill: #174EA6;\n",
              "    }\n",
              "\n",
              "    .colab-df-buttons div {\n",
              "      margin-bottom: 4px;\n",
              "    }\n",
              "\n",
              "    [theme=dark] .colab-df-convert {\n",
              "      background-color: #3B4455;\n",
              "      fill: #D2E3FC;\n",
              "    }\n",
              "\n",
              "    [theme=dark] .colab-df-convert:hover {\n",
              "      background-color: #434B5C;\n",
              "      box-shadow: 0px 1px 3px 1px rgba(0, 0, 0, 0.15);\n",
              "      filter: drop-shadow(0px 1px 2px rgba(0, 0, 0, 0.3));\n",
              "      fill: #FFFFFF;\n",
              "    }\n",
              "  </style>\n",
              "\n",
              "    <script>\n",
              "      const buttonEl =\n",
              "        document.querySelector('#df-59e39a0e-0338-4fc1-870c-e7c71bdcb44e button.colab-df-convert');\n",
              "      buttonEl.style.display =\n",
              "        google.colab.kernel.accessAllowed ? 'block' : 'none';\n",
              "\n",
              "      async function convertToInteractive(key) {\n",
              "        const element = document.querySelector('#df-59e39a0e-0338-4fc1-870c-e7c71bdcb44e');\n",
              "        const dataTable =\n",
              "          await google.colab.kernel.invokeFunction('convertToInteractive',\n",
              "                                                    [key], {});\n",
              "        if (!dataTable) return;\n",
              "\n",
              "        const docLinkHtml = 'Like what you see? Visit the ' +\n",
              "          '<a target=\"_blank\" href=https://colab.research.google.com/notebooks/data_table.ipynb>data table notebook</a>'\n",
              "          + ' to learn more about interactive tables.';\n",
              "        element.innerHTML = '';\n",
              "        dataTable['output_type'] = 'display_data';\n",
              "        await google.colab.output.renderOutput(dataTable, element);\n",
              "        const docLink = document.createElement('div');\n",
              "        docLink.innerHTML = docLinkHtml;\n",
              "        element.appendChild(docLink);\n",
              "      }\n",
              "    </script>\n",
              "  </div>\n",
              "\n",
              "\n",
              "<div id=\"df-e9f8534c-2e57-4f63-9cbc-71b91dc1faee\">\n",
              "  <button class=\"colab-df-quickchart\" onclick=\"quickchart('df-e9f8534c-2e57-4f63-9cbc-71b91dc1faee')\"\n",
              "            title=\"Suggest charts\"\n",
              "            style=\"display:none;\">\n",
              "\n",
              "<svg xmlns=\"http://www.w3.org/2000/svg\" height=\"24px\"viewBox=\"0 0 24 24\"\n",
              "     width=\"24px\">\n",
              "    <g>\n",
              "        <path d=\"M19 3H5c-1.1 0-2 .9-2 2v14c0 1.1.9 2 2 2h14c1.1 0 2-.9 2-2V5c0-1.1-.9-2-2-2zM9 17H7v-7h2v7zm4 0h-2V7h2v10zm4 0h-2v-4h2v4z\"/>\n",
              "    </g>\n",
              "</svg>\n",
              "  </button>\n",
              "\n",
              "<style>\n",
              "  .colab-df-quickchart {\n",
              "      --bg-color: #E8F0FE;\n",
              "      --fill-color: #1967D2;\n",
              "      --hover-bg-color: #E2EBFA;\n",
              "      --hover-fill-color: #174EA6;\n",
              "      --disabled-fill-color: #AAA;\n",
              "      --disabled-bg-color: #DDD;\n",
              "  }\n",
              "\n",
              "  [theme=dark] .colab-df-quickchart {\n",
              "      --bg-color: #3B4455;\n",
              "      --fill-color: #D2E3FC;\n",
              "      --hover-bg-color: #434B5C;\n",
              "      --hover-fill-color: #FFFFFF;\n",
              "      --disabled-bg-color: #3B4455;\n",
              "      --disabled-fill-color: #666;\n",
              "  }\n",
              "\n",
              "  .colab-df-quickchart {\n",
              "    background-color: var(--bg-color);\n",
              "    border: none;\n",
              "    border-radius: 50%;\n",
              "    cursor: pointer;\n",
              "    display: none;\n",
              "    fill: var(--fill-color);\n",
              "    height: 32px;\n",
              "    padding: 0;\n",
              "    width: 32px;\n",
              "  }\n",
              "\n",
              "  .colab-df-quickchart:hover {\n",
              "    background-color: var(--hover-bg-color);\n",
              "    box-shadow: 0 1px 2px rgba(60, 64, 67, 0.3), 0 1px 3px 1px rgba(60, 64, 67, 0.15);\n",
              "    fill: var(--button-hover-fill-color);\n",
              "  }\n",
              "\n",
              "  .colab-df-quickchart-complete:disabled,\n",
              "  .colab-df-quickchart-complete:disabled:hover {\n",
              "    background-color: var(--disabled-bg-color);\n",
              "    fill: var(--disabled-fill-color);\n",
              "    box-shadow: none;\n",
              "  }\n",
              "\n",
              "  .colab-df-spinner {\n",
              "    border: 2px solid var(--fill-color);\n",
              "    border-color: transparent;\n",
              "    border-bottom-color: var(--fill-color);\n",
              "    animation:\n",
              "      spin 1s steps(1) infinite;\n",
              "  }\n",
              "\n",
              "  @keyframes spin {\n",
              "    0% {\n",
              "      border-color: transparent;\n",
              "      border-bottom-color: var(--fill-color);\n",
              "      border-left-color: var(--fill-color);\n",
              "    }\n",
              "    20% {\n",
              "      border-color: transparent;\n",
              "      border-left-color: var(--fill-color);\n",
              "      border-top-color: var(--fill-color);\n",
              "    }\n",
              "    30% {\n",
              "      border-color: transparent;\n",
              "      border-left-color: var(--fill-color);\n",
              "      border-top-color: var(--fill-color);\n",
              "      border-right-color: var(--fill-color);\n",
              "    }\n",
              "    40% {\n",
              "      border-color: transparent;\n",
              "      border-right-color: var(--fill-color);\n",
              "      border-top-color: var(--fill-color);\n",
              "    }\n",
              "    60% {\n",
              "      border-color: transparent;\n",
              "      border-right-color: var(--fill-color);\n",
              "    }\n",
              "    80% {\n",
              "      border-color: transparent;\n",
              "      border-right-color: var(--fill-color);\n",
              "      border-bottom-color: var(--fill-color);\n",
              "    }\n",
              "    90% {\n",
              "      border-color: transparent;\n",
              "      border-bottom-color: var(--fill-color);\n",
              "    }\n",
              "  }\n",
              "</style>\n",
              "\n",
              "  <script>\n",
              "    async function quickchart(key) {\n",
              "      const quickchartButtonEl =\n",
              "        document.querySelector('#' + key + ' button');\n",
              "      quickchartButtonEl.disabled = true;  // To prevent multiple clicks.\n",
              "      quickchartButtonEl.classList.add('colab-df-spinner');\n",
              "      try {\n",
              "        const charts = await google.colab.kernel.invokeFunction(\n",
              "            'suggestCharts', [key], {});\n",
              "      } catch (error) {\n",
              "        console.error('Error during call to suggestCharts:', error);\n",
              "      }\n",
              "      quickchartButtonEl.classList.remove('colab-df-spinner');\n",
              "      quickchartButtonEl.classList.add('colab-df-quickchart-complete');\n",
              "    }\n",
              "    (() => {\n",
              "      let quickchartButtonEl =\n",
              "        document.querySelector('#df-e9f8534c-2e57-4f63-9cbc-71b91dc1faee button');\n",
              "      quickchartButtonEl.style.display =\n",
              "        google.colab.kernel.accessAllowed ? 'block' : 'none';\n",
              "    })();\n",
              "  </script>\n",
              "</div>\n",
              "\n",
              "    </div>\n",
              "  </div>\n"
            ],
            "application/vnd.google.colaboratory.intrinsic+json": {
              "type": "dataframe",
              "variable_name": "df",
              "summary": "{\n  \"name\": \"df\",\n  \"rows\": 216,\n  \"fields\": [\n    {\n      \"column\": \"Post\",\n      \"properties\": {\n        \"dtype\": \"string\",\n        \"num_unique_values\": 215,\n        \"samples\": [\n          \"favorite place cikole cikole lembang popular tourism destination known natural beauty outdoor recreational activity one favorite attraction cikole lembang cikole pine forest vast area lush greenery filled towering pine tree pine forest served best tea enjoy enjoying atmosphere talk family friend loved one also several resort camping site visitor enjoy peaceful stay surrounded nature place offer stunning view surrounding mountain valley providing perfect setting tranquil getaway overall cikole lembang fantastic destination friend also fantastic destination nature lover whether looking explore pine forest experience thrilling outdoor activity simply relax serene environment cikole lembang something offer everyone\",\n          \"favorite place bandung tempting city enchanting natural charm rich culture among favorite place kawah putih charming destination volcanic lake turquoise green pattern attracts heart every visitor far tangkuban perahu offer spectacular natural panorama volcanic crater making magnet adventure photography lover looking entertainment shopping braga trail paradise building packed boutique cafe interesting art gallery dago area offer cool mountain atmosphere beautiful natural panorama cihampelas paradise fashion lover various clothing store knick knack meanwhile see charming sunset moko hill perfect place forget bandung typical culinary delight batagor whipped noodle maranggi satay certain attraction energy tourist natural tourism cultural culinary activity bandung everything pamper visitor explore beauty bandung feel unforgettable charm city always inviting make\",\n          \"early last year family went one orangutan breeding center called nyaru menteng nyaru menteng orangutan breeding center borneo orangutan survival foundation nyaru menteng house orangutan also many endemic bornean animal including enggang bird nyaru menteng one famous tourist attraction central kalimantan nyaru menteng used one filming location movie petualangan sherina location nyary menteng far house km trip take hour car always feel happy traveling nyaru menteng see right left side road still filled shady forest even time hold cell phone network interested seeing scenery side road family twice see orangutan spoil eye shady tree see unique animal also presented short film case violence experienced forest people made aware orang hutan endemic bornean animal already rare must protected every time go always feel sad still many people greedy keeping rare animal even though illegal\"\n        ],\n        \"semantic_type\": \"\",\n        \"description\": \"\"\n      }\n    },\n    {\n      \"column\": \"la_class\",\n      \"properties\": {\n        \"dtype\": \"number\",\n        \"std\": 0,\n        \"min\": 0,\n        \"max\": 1,\n        \"num_unique_values\": 2,\n        \"samples\": [\n          0,\n          1\n        ],\n        \"semantic_type\": \"\",\n        \"description\": \"\"\n      }\n    },\n    {\n      \"column\": \"text_length\",\n      \"properties\": {\n        \"dtype\": \"number\",\n        \"std\": 800,\n        \"min\": 214,\n        \"max\": 5026,\n        \"num_unique_values\": 198,\n        \"samples\": [\n          400,\n          1141\n        ],\n        \"semantic_type\": \"\",\n        \"description\": \"\"\n      }\n    }\n  ]\n}"
            }
          },
          "metadata": {},
          "execution_count": 9
        }
      ]
    },
    {
      "cell_type": "markdown",
      "source": [
        "## Splitting The Dataset Into Train And Test"
      ],
      "metadata": {
        "id": "WbYtTWtf__Uu"
      }
    },
    {
      "cell_type": "code",
      "source": [
        "X_train, X_test, y_train, y_test = train_test_split(df['Post'], df['la_class'], test_size = 0.25, stratify = df['la_class'], random_state = 42)"
      ],
      "metadata": {
        "id": "bB6ZftsZwvNH"
      },
      "execution_count": null,
      "outputs": []
    },
    {
      "cell_type": "markdown",
      "source": [
        "## Hyperparameter"
      ],
      "metadata": {
        "id": "JxSiiaMcACWy"
      }
    },
    {
      "cell_type": "code",
      "source": [
        "max_len = df['text_length'].max()\n",
        "trunc_type = 'post'\n",
        "padding_type = 'pre'\n",
        "oov_tok = '<OOV>'\n",
        "vocab_size = 500"
      ],
      "metadata": {
        "id": "f-CMGxq0w5G1"
      },
      "execution_count": null,
      "outputs": []
    },
    {
      "cell_type": "markdown",
      "source": [
        "## Tokenizing"
      ],
      "metadata": {
        "id": "BsLDIwZbBGE1"
      }
    },
    {
      "cell_type": "code",
      "source": [
        "tokenizer = Tokenizer(num_words = vocab_size,\n",
        "                      char_level = False,\n",
        "                      oov_token = oov_tok)\n",
        "tokenizer.fit_on_texts(X_train)"
      ],
      "metadata": {
        "id": "-fG9tTCEw749"
      },
      "execution_count": null,
      "outputs": []
    },
    {
      "cell_type": "markdown",
      "source": [
        "## Get The Word Index"
      ],
      "metadata": {
        "id": "lBjhmGVkBO1M"
      }
    },
    {
      "cell_type": "code",
      "source": [
        "word_index = tokenizer.word_index\n",
        "total_words = len(word_index)\n",
        "total_words"
      ],
      "metadata": {
        "id": "e8Dpr2_Yw_jW",
        "colab": {
          "base_uri": "https://localhost:8080/"
        },
        "outputId": "17548f24-f406-4a5f-9edf-6c0bbf991ba3"
      },
      "execution_count": null,
      "outputs": [
        {
          "output_type": "execute_result",
          "data": {
            "text/plain": [
              "4594"
            ]
          },
          "metadata": {},
          "execution_count": 13
        }
      ]
    },
    {
      "cell_type": "markdown",
      "source": [
        "## Creating Train Sequences"
      ],
      "metadata": {
        "id": "wCoy2unOBVOs"
      }
    },
    {
      "cell_type": "code",
      "source": [
        "training_sequences = tokenizer.texts_to_sequences(X_train)\n",
        "training_padded = pad_sequences(training_sequences,\n",
        "                                maxlen = max_len,\n",
        "                                padding = padding_type,\n",
        "                                truncating = trunc_type)"
      ],
      "metadata": {
        "id": "hkne-4DgxBWV"
      },
      "execution_count": null,
      "outputs": []
    },
    {
      "cell_type": "markdown",
      "source": [
        "## Creating Test Sequences"
      ],
      "metadata": {
        "id": "5LFm3Em9BXN7"
      }
    },
    {
      "cell_type": "code",
      "source": [
        "testing_sequences = tokenizer.texts_to_sequences(X_test)\n",
        "testing_padded = pad_sequences(testing_sequences,\n",
        "                               maxlen = max_len,\n",
        "                               padding = padding_type,\n",
        "                               truncating = trunc_type)"
      ],
      "metadata": {
        "id": "45e6YMk2xDBR"
      },
      "execution_count": null,
      "outputs": []
    },
    {
      "cell_type": "code",
      "source": [
        "print('Shape of training tensor: ', training_padded.shape)\n",
        "print('Shape of testing tensor: ', testing_padded.shape)"
      ],
      "metadata": {
        "id": "1_vwJgfUxGBI",
        "colab": {
          "base_uri": "https://localhost:8080/"
        },
        "outputId": "1b42d275-34c3-4eed-bbdc-183b675d8379"
      },
      "execution_count": null,
      "outputs": [
        {
          "output_type": "stream",
          "name": "stdout",
          "text": [
            "Shape of training tensor:  (162, 5026)\n",
            "Shape of testing tensor:  (54, 5026)\n"
          ]
        }
      ]
    },
    {
      "cell_type": "markdown",
      "source": [
        "## Dense Architecture"
      ],
      "metadata": {
        "id": "v3gqfyJlBnxS"
      }
    },
    {
      "cell_type": "code",
      "source": [
        "# Menghitung class weights\n",
        "class_weights = class_weight.compute_class_weight('balanced',\n",
        "                                                  classes=np.unique(y_train),\n",
        "                                                  y=y_train)\n",
        "\n",
        "# Definisikan nilai class weights sebagai dictionary\n",
        "class_weight_dict = dict(enumerate(class_weights))\n",
        "class_weight_dict"
      ],
      "metadata": {
        "id": "k2qIzZfK9wl-",
        "colab": {
          "base_uri": "https://localhost:8080/"
        },
        "outputId": "4c95c098-a85c-4eb7-ae9f-c78d8ff1aa71"
      },
      "execution_count": null,
      "outputs": [
        {
          "output_type": "execute_result",
          "data": {
            "text/plain": [
              "{0: 2.25, 1: 0.6428571428571429}"
            ]
          },
          "metadata": {},
          "execution_count": 17
        }
      ]
    },
    {
      "cell_type": "markdown",
      "source": [
        "### Define Paramter"
      ],
      "metadata": {
        "id": "7r6jEQVtBrvz"
      }
    },
    {
      "cell_type": "code",
      "source": [
        "vocab_size = 1000\n",
        "embedding_dim = 32"
      ],
      "metadata": {
        "id": "Bb5eY9hfxHr6"
      },
      "execution_count": null,
      "outputs": []
    },
    {
      "cell_type": "markdown",
      "source": [
        "### Focal Loss"
      ],
      "metadata": {
        "id": "KRL0YZX5IS8p"
      }
    },
    {
      "cell_type": "code",
      "source": [
        "def focal_loss(gamma=5., alpha=0.75):\n",
        "    def focal_loss_fixed(y_true, y_pred):\n",
        "        epsilon = tf.keras.backend.epsilon()\n",
        "        y_pred = tf.keras.backend.clip(y_pred, epsilon, 1. - epsilon)\n",
        "        pt = tf.where(tf.keras.backend.equal(y_true, 1), y_pred, 1 - y_pred)\n",
        "        return -tf.keras.backend.sum(alpha * tf.keras.backend.pow(1. - pt, gamma) * tf.keras.backend.log(pt))\n",
        "\n",
        "    return focal_loss_fixed"
      ],
      "metadata": {
        "id": "IdiLw7pBIUen"
      },
      "execution_count": null,
      "outputs": []
    },
    {
      "cell_type": "markdown",
      "source": [
        "## LSTM Architecture"
      ],
      "metadata": {
        "id": "mKwGxBw1gf0c"
      }
    },
    {
      "cell_type": "code",
      "source": [
        "model3 = Sequential()\n",
        "model3.add(Embedding(vocab_size, embedding_dim, input_length = max_len))\n",
        "model3.add(SpatialDropout1D(0.4))\n",
        "model3.add(LSTM(128, return_sequences = False))\n",
        "model3.add(Dropout(0.4))\n",
        "model3.add(Dense(1, activation = 'tanh'))"
      ],
      "metadata": {
        "id": "ux-cqfCu0Sz6",
        "colab": {
          "base_uri": "https://localhost:8080/"
        },
        "outputId": "bb83d521-50b1-4998-f378-2e9e07ca1d3b"
      },
      "execution_count": null,
      "outputs": [
        {
          "output_type": "stream",
          "name": "stderr",
          "text": [
            "/usr/local/lib/python3.11/dist-packages/keras/src/layers/core/embedding.py:90: UserWarning: Argument `input_length` is deprecated. Just remove it.\n",
            "  warnings.warn(\n"
          ]
        }
      ]
    },
    {
      "cell_type": "code",
      "source": [
        "from tensorflow.keras.callbacks import ReduceLROnPlateau\n",
        "\n",
        "optimizer = tf.keras.optimizers.AdamW(learning_rate=0.0001, weight_decay=1e-4)\n",
        "\n",
        "# Callback ReduceLROnPlateau\n",
        "lr_callback = ReduceLROnPlateau(\n",
        "    monitor='val_loss',   # Memonitor validasi loss\n",
        "    factor=0.5,           # Learning rate dikali 0.5 (turun 50%)\n",
        "    patience=7,           # Jika dalam 3 epoch tidak membaik, LR akan dikurangi\n",
        "    min_lr=0.0005,        # Learning rate minimum agar tidak turun terlalu kecil\n",
        "    cooldown=2,\n",
        "    verbose=1\n",
        ")\n",
        "\n",
        "\n",
        "model3.compile(loss=focal_loss(),\n",
        "               optimizer = optimizer,\n",
        "               metrics = ['accuracy'])"
      ],
      "metadata": {
        "id": "XcqtLkGi0U-2"
      },
      "execution_count": null,
      "outputs": []
    },
    {
      "cell_type": "code",
      "source": [
        "num_epochs = 100\n",
        "early_stop = EarlyStopping(monitor='val_loss', patience=20)\n",
        "history = model3.fit(training_padded,\n",
        "                     y_train,\n",
        "                     epochs=num_epochs,\n",
        "                     validation_data=(testing_padded, y_test),\n",
        "                     callbacks =[early_stop, lr_callback],\n",
        "                     verbose=2)"
      ],
      "metadata": {
        "id": "Xyh_cp2U0Yhc",
        "colab": {
          "base_uri": "https://localhost:8080/"
        },
        "outputId": "23964aca-c471-4547-c69c-ea918a241b22"
      },
      "execution_count": null,
      "outputs": [
        {
          "output_type": "stream",
          "name": "stdout",
          "text": [
            "Epoch 1/100\n",
            "6/6 - 10s - 2s/step - accuracy: 0.2222 - loss: 197.3059 - val_accuracy: 0.2222 - val_loss: 77.6035 - learning_rate: 1.0000e-04\n",
            "Epoch 2/100\n",
            "6/6 - 4s - 666ms/step - accuracy: 0.2222 - loss: 106.4343 - val_accuracy: 0.2222 - val_loss: 56.2950 - learning_rate: 1.0000e-04\n",
            "Epoch 3/100\n",
            "6/6 - 1s - 167ms/step - accuracy: 0.2222 - loss: 65.9495 - val_accuracy: 0.2222 - val_loss: 48.3008 - learning_rate: 1.0000e-04\n",
            "Epoch 4/100\n",
            "6/6 - 2s - 268ms/step - accuracy: 0.2222 - loss: 57.5087 - val_accuracy: 0.2222 - val_loss: 43.5189 - learning_rate: 1.0000e-04\n",
            "Epoch 5/100\n",
            "6/6 - 2s - 367ms/step - accuracy: 0.2222 - loss: 50.9089 - val_accuracy: 0.2222 - val_loss: 40.1184 - learning_rate: 1.0000e-04\n",
            "Epoch 6/100\n",
            "6/6 - 1s - 166ms/step - accuracy: 0.2222 - loss: 47.2144 - val_accuracy: 0.2222 - val_loss: 37.4266 - learning_rate: 1.0000e-04\n",
            "Epoch 7/100\n",
            "6/6 - 1s - 212ms/step - accuracy: 0.2222 - loss: 43.1941 - val_accuracy: 0.2222 - val_loss: 35.1779 - learning_rate: 1.0000e-04\n",
            "Epoch 8/100\n",
            "6/6 - 1s - 168ms/step - accuracy: 0.2222 - loss: 42.3166 - val_accuracy: 0.2222 - val_loss: 33.1585 - learning_rate: 1.0000e-04\n",
            "Epoch 9/100\n",
            "6/6 - 1s - 168ms/step - accuracy: 0.2222 - loss: 39.5822 - val_accuracy: 0.2222 - val_loss: 31.2461 - learning_rate: 1.0000e-04\n",
            "Epoch 10/100\n",
            "6/6 - 1s - 213ms/step - accuracy: 0.2222 - loss: 37.3151 - val_accuracy: 0.2222 - val_loss: 29.4041 - learning_rate: 1.0000e-04\n",
            "Epoch 11/100\n",
            "6/6 - 1s - 207ms/step - accuracy: 0.2222 - loss: 35.4024 - val_accuracy: 0.2222 - val_loss: 27.5970 - learning_rate: 1.0000e-04\n",
            "Epoch 12/100\n",
            "6/6 - 1s - 168ms/step - accuracy: 0.2222 - loss: 33.4813 - val_accuracy: 0.2222 - val_loss: 25.7927 - learning_rate: 1.0000e-04\n",
            "Epoch 13/100\n",
            "6/6 - 1s - 208ms/step - accuracy: 0.2222 - loss: 30.7936 - val_accuracy: 0.2222 - val_loss: 23.9762 - learning_rate: 1.0000e-04\n",
            "Epoch 14/100\n",
            "6/6 - 2s - 253ms/step - accuracy: 0.2222 - loss: 28.2726 - val_accuracy: 0.2222 - val_loss: 22.1394 - learning_rate: 1.0000e-04\n",
            "Epoch 15/100\n",
            "6/6 - 2s - 341ms/step - accuracy: 0.2222 - loss: 26.8007 - val_accuracy: 0.2222 - val_loss: 20.2554 - learning_rate: 1.0000e-04\n",
            "Epoch 16/100\n",
            "6/6 - 1s - 211ms/step - accuracy: 0.2222 - loss: 24.7632 - val_accuracy: 0.2222 - val_loss: 18.3187 - learning_rate: 1.0000e-04\n",
            "Epoch 17/100\n",
            "6/6 - 1s - 212ms/step - accuracy: 0.2222 - loss: 22.1951 - val_accuracy: 0.2222 - val_loss: 16.2938 - learning_rate: 1.0000e-04\n",
            "Epoch 18/100\n",
            "6/6 - 1s - 171ms/step - accuracy: 0.2222 - loss: 19.3030 - val_accuracy: 0.2222 - val_loss: 14.1931 - learning_rate: 1.0000e-04\n",
            "Epoch 19/100\n",
            "6/6 - 1s - 171ms/step - accuracy: 0.2222 - loss: 17.3864 - val_accuracy: 0.2222 - val_loss: 11.9886 - learning_rate: 1.0000e-04\n",
            "Epoch 20/100\n",
            "6/6 - 1s - 214ms/step - accuracy: 0.2222 - loss: 14.5455 - val_accuracy: 0.2222 - val_loss: 9.6564 - learning_rate: 1.0000e-04\n",
            "Epoch 21/100\n",
            "6/6 - 1s - 203ms/step - accuracy: 0.2222 - loss: 12.1617 - val_accuracy: 0.2222 - val_loss: 7.1503 - learning_rate: 1.0000e-04\n",
            "Epoch 22/100\n",
            "6/6 - 2s - 256ms/step - accuracy: 0.2222 - loss: 9.0426 - val_accuracy: 0.2222 - val_loss: 4.3076 - learning_rate: 1.0000e-04\n",
            "Epoch 23/100\n",
            "6/6 - 2s - 373ms/step - accuracy: 0.3457 - loss: 4.0973 - val_accuracy: 0.7407 - val_loss: 5.8250 - learning_rate: 1.0000e-04\n",
            "Epoch 24/100\n",
            "6/6 - 1s - 163ms/step - accuracy: 0.6111 - loss: 3.9575 - val_accuracy: 0.2778 - val_loss: 1.7183 - learning_rate: 1.0000e-04\n",
            "Epoch 25/100\n",
            "6/6 - 1s - 163ms/step - accuracy: 0.2346 - loss: 3.3583 - val_accuracy: 0.3519 - val_loss: 1.4895 - learning_rate: 1.0000e-04\n",
            "Epoch 26/100\n",
            "6/6 - 1s - 212ms/step - accuracy: 0.3272 - loss: 2.3105 - val_accuracy: 0.5000 - val_loss: 0.7454 - learning_rate: 1.0000e-04\n",
            "Epoch 27/100\n",
            "6/6 - 1s - 165ms/step - accuracy: 0.6296 - loss: 1.7515 - val_accuracy: 0.7593 - val_loss: 1.1752 - learning_rate: 1.0000e-04\n",
            "Epoch 28/100\n",
            "6/6 - 1s - 163ms/step - accuracy: 0.6605 - loss: 1.4797 - val_accuracy: 0.5185 - val_loss: 0.6806 - learning_rate: 1.0000e-04\n",
            "Epoch 29/100\n",
            "6/6 - 1s - 167ms/step - accuracy: 0.4938 - loss: 1.4792 - val_accuracy: 0.4444 - val_loss: 0.6481 - learning_rate: 1.0000e-04\n",
            "Epoch 30/100\n",
            "6/6 - 1s - 208ms/step - accuracy: 0.5062 - loss: 1.2458 - val_accuracy: 0.5185 - val_loss: 0.6130 - learning_rate: 1.0000e-04\n",
            "Epoch 31/100\n",
            "6/6 - 1s - 164ms/step - accuracy: 0.5679 - loss: 1.2564 - val_accuracy: 0.6481 - val_loss: 0.6308 - learning_rate: 1.0000e-04\n",
            "Epoch 32/100\n",
            "6/6 - 1s - 235ms/step - accuracy: 0.6111 - loss: 1.0865 - val_accuracy: 0.6667 - val_loss: 0.6256 - learning_rate: 1.0000e-04\n",
            "Epoch 33/100\n",
            "6/6 - 1s - 205ms/step - accuracy: 0.5617 - loss: 1.1700 - val_accuracy: 0.7037 - val_loss: 0.6037 - learning_rate: 1.0000e-04\n",
            "Epoch 34/100\n",
            "6/6 - 1s - 168ms/step - accuracy: 0.5494 - loss: 1.2582 - val_accuracy: 0.6481 - val_loss: 0.5647 - learning_rate: 1.0000e-04\n",
            "Epoch 35/100\n",
            "6/6 - 1s - 210ms/step - accuracy: 0.5556 - loss: 1.0917 - val_accuracy: 0.6296 - val_loss: 0.5432 - learning_rate: 1.0000e-04\n",
            "Epoch 36/100\n",
            "6/6 - 1s - 211ms/step - accuracy: 0.5741 - loss: 1.0135 - val_accuracy: 0.7037 - val_loss: 0.5576 - learning_rate: 1.0000e-04\n",
            "Epoch 37/100\n",
            "6/6 - 1s - 167ms/step - accuracy: 0.5988 - loss: 0.9561 - val_accuracy: 0.7593 - val_loss: 0.5827 - learning_rate: 1.0000e-04\n",
            "Epoch 38/100\n",
            "6/6 - 1s - 168ms/step - accuracy: 0.5864 - loss: 1.0120 - val_accuracy: 0.7593 - val_loss: 0.5593 - learning_rate: 1.0000e-04\n",
            "Epoch 39/100\n",
            "6/6 - 1s - 170ms/step - accuracy: 0.6111 - loss: 1.2083 - val_accuracy: 0.6852 - val_loss: 0.5065 - learning_rate: 1.0000e-04\n",
            "Epoch 40/100\n",
            "6/6 - 1s - 167ms/step - accuracy: 0.5802 - loss: 1.0990 - val_accuracy: 0.6111 - val_loss: 0.4957 - learning_rate: 1.0000e-04\n",
            "Epoch 41/100\n",
            "6/6 - 1s - 212ms/step - accuracy: 0.5370 - loss: 0.9370 - val_accuracy: 0.6852 - val_loss: 0.4889 - learning_rate: 1.0000e-04\n",
            "Epoch 42/100\n",
            "6/6 - 1s - 215ms/step - accuracy: 0.5741 - loss: 0.8138 - val_accuracy: 0.7593 - val_loss: 0.5223 - learning_rate: 1.0000e-04\n",
            "Epoch 43/100\n",
            "6/6 - 1s - 236ms/step - accuracy: 0.5802 - loss: 1.1905 - val_accuracy: 0.7593 - val_loss: 0.5035 - learning_rate: 1.0000e-04\n",
            "Epoch 44/100\n",
            "6/6 - 1s - 169ms/step - accuracy: 0.5741 - loss: 0.8869 - val_accuracy: 0.7778 - val_loss: 0.4950 - learning_rate: 1.0000e-04\n",
            "Epoch 45/100\n",
            "6/6 - 1s - 214ms/step - accuracy: 0.6296 - loss: 0.9934 - val_accuracy: 0.7778 - val_loss: 0.4932 - learning_rate: 1.0000e-04\n",
            "Epoch 46/100\n",
            "6/6 - 1s - 168ms/step - accuracy: 0.6173 - loss: 0.8236 - val_accuracy: 0.7778 - val_loss: 0.5129 - learning_rate: 1.0000e-04\n",
            "Epoch 47/100\n",
            "6/6 - 1s - 171ms/step - accuracy: 0.6667 - loss: 0.9873 - val_accuracy: 0.7778 - val_loss: 0.4743 - learning_rate: 1.0000e-04\n",
            "Epoch 48/100\n",
            "6/6 - 1s - 204ms/step - accuracy: 0.5185 - loss: 1.0659 - val_accuracy: 0.7778 - val_loss: 0.4654 - learning_rate: 1.0000e-04\n",
            "Epoch 49/100\n",
            "6/6 - 1s - 163ms/step - accuracy: 0.5988 - loss: 0.7957 - val_accuracy: 0.7778 - val_loss: 0.4650 - learning_rate: 1.0000e-04\n",
            "Epoch 50/100\n",
            "6/6 - 1s - 167ms/step - accuracy: 0.6173 - loss: 0.9651 - val_accuracy: 0.7778 - val_loss: 0.4593 - learning_rate: 1.0000e-04\n",
            "Epoch 51/100\n",
            "6/6 - 1s - 163ms/step - accuracy: 0.5741 - loss: 0.8236 - val_accuracy: 0.7778 - val_loss: 0.4539 - learning_rate: 1.0000e-04\n",
            "Epoch 52/100\n",
            "6/6 - 1s - 211ms/step - accuracy: 0.5988 - loss: 0.9109 - val_accuracy: 0.7778 - val_loss: 0.4531 - learning_rate: 1.0000e-04\n",
            "Epoch 53/100\n",
            "6/6 - 1s - 234ms/step - accuracy: 0.5494 - loss: 1.0346 - val_accuracy: 0.7593 - val_loss: 0.4346 - learning_rate: 1.0000e-04\n",
            "Epoch 54/100\n",
            "6/6 - 2s - 358ms/step - accuracy: 0.5185 - loss: 0.9045 - val_accuracy: 0.7593 - val_loss: 0.4311 - learning_rate: 1.0000e-04\n",
            "Epoch 55/100\n",
            "6/6 - 1s - 164ms/step - accuracy: 0.5926 - loss: 0.8428 - val_accuracy: 0.7593 - val_loss: 0.4345 - learning_rate: 1.0000e-04\n",
            "Epoch 56/100\n",
            "6/6 - 1s - 170ms/step - accuracy: 0.6235 - loss: 0.8918 - val_accuracy: 0.7778 - val_loss: 0.4442 - learning_rate: 1.0000e-04\n",
            "Epoch 57/100\n",
            "6/6 - 1s - 165ms/step - accuracy: 0.6173 - loss: 0.9616 - val_accuracy: 0.7778 - val_loss: 0.4327 - learning_rate: 1.0000e-04\n",
            "Epoch 58/100\n",
            "6/6 - 1s - 209ms/step - accuracy: 0.5741 - loss: 0.8389 - val_accuracy: 0.7778 - val_loss: 0.4460 - learning_rate: 1.0000e-04\n",
            "Epoch 59/100\n",
            "6/6 - 1s - 167ms/step - accuracy: 0.6235 - loss: 0.7294 - val_accuracy: 0.8148 - val_loss: 0.4721 - learning_rate: 1.0000e-04\n",
            "Epoch 60/100\n",
            "6/6 - 1s - 163ms/step - accuracy: 0.6790 - loss: 0.8661 - val_accuracy: 0.7963 - val_loss: 0.4436 - learning_rate: 1.0000e-04\n",
            "Epoch 61/100\n",
            "6/6 - 1s - 212ms/step - accuracy: 0.5556 - loss: 0.9781 - val_accuracy: 0.7593 - val_loss: 0.4140 - learning_rate: 1.0000e-04\n",
            "Epoch 62/100\n",
            "6/6 - 1s - 240ms/step - accuracy: 0.5679 - loss: 0.7456 - val_accuracy: 0.7593 - val_loss: 0.4123 - learning_rate: 1.0000e-04\n",
            "Epoch 63/100\n",
            "6/6 - 1s - 249ms/step - accuracy: 0.5309 - loss: 0.8334 - val_accuracy: 0.7778 - val_loss: 0.4211 - learning_rate: 1.0000e-04\n",
            "Epoch 64/100\n",
            "6/6 - 2s - 341ms/step - accuracy: 0.5926 - loss: 0.7827 - val_accuracy: 0.7963 - val_loss: 0.4628 - learning_rate: 1.0000e-04\n",
            "Epoch 65/100\n",
            "6/6 - 1s - 165ms/step - accuracy: 0.6852 - loss: 0.7217 - val_accuracy: 0.8148 - val_loss: 0.4483 - learning_rate: 1.0000e-04\n",
            "Epoch 66/100\n",
            "6/6 - 1s - 164ms/step - accuracy: 0.6667 - loss: 0.9069 - val_accuracy: 0.7593 - val_loss: 0.4068 - learning_rate: 1.0000e-04\n",
            "Epoch 67/100\n",
            "6/6 - 1s - 163ms/step - accuracy: 0.5185 - loss: 0.8313 - val_accuracy: 0.7593 - val_loss: 0.4072 - learning_rate: 1.0000e-04\n",
            "Epoch 68/100\n",
            "6/6 - 1s - 209ms/step - accuracy: 0.5864 - loss: 0.7602 - val_accuracy: 0.7593 - val_loss: 0.4034 - learning_rate: 1.0000e-04\n",
            "Epoch 69/100\n",
            "6/6 - 1s - 162ms/step - accuracy: 0.6358 - loss: 0.6775 - val_accuracy: 0.7963 - val_loss: 0.4160 - learning_rate: 1.0000e-04\n",
            "Epoch 70/100\n",
            "6/6 - 1s - 217ms/step - accuracy: 0.6235 - loss: 0.6830 - val_accuracy: 0.7963 - val_loss: 0.4229 - learning_rate: 1.0000e-04\n",
            "Epoch 71/100\n",
            "6/6 - 1s - 163ms/step - accuracy: 0.5864 - loss: 0.7982 - val_accuracy: 0.7963 - val_loss: 0.4226 - learning_rate: 1.0000e-04\n",
            "Epoch 72/100\n",
            "6/6 - 1s - 227ms/step - accuracy: 0.6173 - loss: 0.7077 - val_accuracy: 0.7963 - val_loss: 0.4271 - learning_rate: 1.0000e-04\n",
            "Epoch 73/100\n",
            "6/6 - 2s - 359ms/step - accuracy: 0.6173 - loss: 0.6436 - val_accuracy: 0.7963 - val_loss: 0.4320 - learning_rate: 1.0000e-04\n",
            "Epoch 74/100\n",
            "6/6 - 1s - 214ms/step - accuracy: 0.7037 - loss: 0.6678 - val_accuracy: 0.7963 - val_loss: 0.4236 - learning_rate: 1.0000e-04\n",
            "Epoch 75/100\n",
            "6/6 - 1s - 208ms/step - accuracy: 0.6481 - loss: 0.7294 - val_accuracy: 0.7963 - val_loss: 0.4035 - learning_rate: 1.0000e-04\n",
            "Epoch 76/100\n",
            "6/6 - 1s - 163ms/step - accuracy: 0.5802 - loss: 0.7412 - val_accuracy: 0.7963 - val_loss: 0.4037 - learning_rate: 1.0000e-04\n",
            "Epoch 77/100\n",
            "6/6 - 1s - 161ms/step - accuracy: 0.6543 - loss: 0.6576 - val_accuracy: 0.8148 - val_loss: 0.4211 - learning_rate: 1.0000e-04\n",
            "Epoch 78/100\n",
            "6/6 - 1s - 213ms/step - accuracy: 0.6481 - loss: 0.8261 - val_accuracy: 0.7963 - val_loss: 0.4247 - learning_rate: 1.0000e-04\n",
            "Epoch 79/100\n",
            "6/6 - 1s - 165ms/step - accuracy: 0.6296 - loss: 0.6622 - val_accuracy: 0.7963 - val_loss: 0.4137 - learning_rate: 1.0000e-04\n",
            "Epoch 80/100\n",
            "6/6 - 1s - 164ms/step - accuracy: 0.6420 - loss: 0.8249 - val_accuracy: 0.7593 - val_loss: 0.3951 - learning_rate: 1.0000e-04\n",
            "Epoch 81/100\n",
            "6/6 - 1s - 167ms/step - accuracy: 0.6235 - loss: 0.7724 - val_accuracy: 0.7963 - val_loss: 0.3953 - learning_rate: 1.0000e-04\n",
            "Epoch 82/100\n",
            "6/6 - 1s - 210ms/step - accuracy: 0.5617 - loss: 0.7716 - val_accuracy: 0.7963 - val_loss: 0.4068 - learning_rate: 1.0000e-04\n",
            "Epoch 83/100\n",
            "6/6 - 2s - 377ms/step - accuracy: 0.6358 - loss: 0.6906 - val_accuracy: 0.7963 - val_loss: 0.4125 - learning_rate: 1.0000e-04\n",
            "Epoch 84/100\n",
            "6/6 - 1s - 216ms/step - accuracy: 0.6667 - loss: 0.6858 - val_accuracy: 0.7963 - val_loss: 0.4144 - learning_rate: 1.0000e-04\n",
            "Epoch 85/100\n",
            "6/6 - 1s - 175ms/step - accuracy: 0.6543 - loss: 0.6036 - val_accuracy: 0.7963 - val_loss: 0.4101 - learning_rate: 1.0000e-04\n",
            "Epoch 86/100\n",
            "6/6 - 1s - 204ms/step - accuracy: 0.6420 - loss: 0.7058 - val_accuracy: 0.7963 - val_loss: 0.4104 - learning_rate: 1.0000e-04\n",
            "Epoch 87/100\n",
            "6/6 - 1s - 212ms/step - accuracy: 0.6111 - loss: 0.7215 - val_accuracy: 0.7963 - val_loss: 0.4060 - learning_rate: 1.0000e-04\n",
            "Epoch 88/100\n",
            "6/6 - 1s - 207ms/step - accuracy: 0.6728 - loss: 0.6594 - val_accuracy: 0.7778 - val_loss: 0.4039 - learning_rate: 1.0000e-04\n",
            "Epoch 89/100\n",
            "6/6 - 1s - 171ms/step - accuracy: 0.6296 - loss: 0.7418 - val_accuracy: 0.7963 - val_loss: 0.3974 - learning_rate: 1.0000e-04\n",
            "Epoch 90/100\n",
            "6/6 - 1s - 173ms/step - accuracy: 0.7037 - loss: 0.5859 - val_accuracy: 0.7963 - val_loss: 0.3906 - learning_rate: 1.0000e-04\n",
            "Epoch 91/100\n",
            "6/6 - 1s - 239ms/step - accuracy: 0.5926 - loss: 0.6754 - val_accuracy: 0.7963 - val_loss: 0.3935 - learning_rate: 1.0000e-04\n",
            "Epoch 92/100\n",
            "6/6 - 2s - 354ms/step - accuracy: 0.6358 - loss: 0.7071 - val_accuracy: 0.7778 - val_loss: 0.3994 - learning_rate: 1.0000e-04\n",
            "Epoch 93/100\n",
            "6/6 - 1s - 169ms/step - accuracy: 0.6481 - loss: 0.7346 - val_accuracy: 0.7963 - val_loss: 0.3934 - learning_rate: 1.0000e-04\n",
            "Epoch 94/100\n",
            "6/6 - 1s - 207ms/step - accuracy: 0.5864 - loss: 0.7605 - val_accuracy: 0.7963 - val_loss: 0.3881 - learning_rate: 1.0000e-04\n",
            "Epoch 95/100\n",
            "6/6 - 1s - 173ms/step - accuracy: 0.5926 - loss: 0.7260 - val_accuracy: 0.7963 - val_loss: 0.3929 - learning_rate: 1.0000e-04\n",
            "Epoch 96/100\n",
            "6/6 - 1s - 205ms/step - accuracy: 0.6605 - loss: 0.6473 - val_accuracy: 0.7963 - val_loss: 0.3990 - learning_rate: 1.0000e-04\n",
            "Epoch 97/100\n",
            "6/6 - 1s - 166ms/step - accuracy: 0.6728 - loss: 0.6095 - val_accuracy: 0.7963 - val_loss: 0.4010 - learning_rate: 1.0000e-04\n",
            "Epoch 98/100\n",
            "6/6 - 1s - 215ms/step - accuracy: 0.6728 - loss: 0.5691 - val_accuracy: 0.7778 - val_loss: 0.4086 - learning_rate: 1.0000e-04\n",
            "Epoch 99/100\n",
            "6/6 - 1s - 209ms/step - accuracy: 0.6852 - loss: 0.5954 - val_accuracy: 0.7963 - val_loss: 0.3974 - learning_rate: 1.0000e-04\n",
            "Epoch 100/100\n",
            "6/6 - 2s - 260ms/step - accuracy: 0.6481 - loss: 0.6435 - val_accuracy: 0.7778 - val_loss: 0.3914 - learning_rate: 1.0000e-04\n"
          ]
        }
      ]
    },
    {
      "cell_type": "code",
      "source": [
        "# Plotting loss train dan validation\n",
        "plt.figure(figsize=(8, 6))\n",
        "plt.plot(history.history['accuracy'], label='Train Accuracy')\n",
        "plt.plot(history.history['val_accuracy'], label='Validation Accuracy')\n",
        "\n",
        "plt.title('LSTM Model: Training and Validation Accuracy', fontsize=18)  # Memperbesar teks judul\n",
        "plt.xlabel('Epochs', fontsize=16)  # Memperbesar teks sumbu x\n",
        "plt.ylabel('Loss', fontsize=16)  # Memperbesar teks sumbu y\n",
        "plt.xticks(fontsize=14)  # Memperbesar ukuran font ticks sumbu x\n",
        "plt.yticks(fontsize=14)  # Memperbesar ukuran font ticks sumbu y\n",
        "plt.legend()\n",
        "plt.tight_layout()"
      ],
      "metadata": {
        "id": "LtcVLdjqUGop",
        "colab": {
          "base_uri": "https://localhost:8080/"
        },
        "outputId": "109a4264-32f9-45ca-92fe-ea14a0f99e18"
      },
      "execution_count": null,
      "outputs": [
        {
          "output_type": "display_data",
          "data": {
            "text/plain": [
              "<Figure size 800x600 with 1 Axes>"
            ],
            "image/png": "[encoded data removed]"
          },
          "metadata": {}
        }
      ]
    },
    {
      "cell_type": "code",
      "source": [
        "# Plotting loss train dan validation\n",
        "plt.figure(figsize=(8, 6))\n",
        "plt.plot(history.history['loss'], label='Train Loss')\n",
        "plt.plot(history.history['val_loss'], label='Validation Loss')\n",
        "\n",
        "plt.title('LSTM: Training and Validation Loss', fontsize=18)  # Memperbesar teks judul\n",
        "plt.xlabel('Epochs', fontsize=16)  # Memperbesar teks sumbu x\n",
        "plt.ylabel('Loss', fontsize=16)  # Memperbesar teks sumbu y\n",
        "plt.xticks(fontsize=14)  # Memperbesar ukuran font ticks sumbu x\n",
        "plt.yticks(fontsize=14)  # Memperbesar ukuran font ticks sumbu y\n",
        "plt.legend()\n",
        "plt.tight_layout()"
      ],
      "metadata": {
        "id": "WeyFgq7C0uQj",
        "colab": {
          "base_uri": "https://localhost:8080/"
        },
        "outputId": "aad5d007-9494-47d1-e661-50a88540e675"
      },
      "execution_count": null,
      "outputs": [
        {
          "output_type": "display_data",
          "data": {
            "text/plain": [
              "<Figure size 800x600 with 1 Axes>"
            ],
            "image/png": "[encoded data removed]"
          },
          "metadata": {}
        }
      ]
    },
    {
      "cell_type": "code",
      "source": [
        "from sklearn.metrics import classification_report\n",
        "\n",
        "# Prediksi probabilitas\n",
        "y_pred_prob = model3.predict(testing_padded)\n",
        "\n",
        "# Mengubah probabilitas menjadi kelas biner\n",
        "y_pred_binary = (y_pred_prob > 0.5).astype(int)\n",
        "\n",
        "# Tampilkan classification report\n",
        "print(classification_report(y_test, y_pred_binary))"
      ],
      "metadata": {
        "id": "0-XSLha4A4OY",
        "colab": {
          "base_uri": "https://localhost:8080/"
        },
        "outputId": "e63099c7-d925-45d2-d652-cfc9358e5d09"
      },
      "execution_count": null,
      "outputs": [
        {
          "output_type": "stream",
          "name": "stdout",
          "text": [
            "\u001b[1m2/2\u001b[0m \u001b[32m━━━━━━━━━━━━━━━━━━━━\u001b[0m\u001b[37m\u001b[0m \u001b[1m0s\u001b[0m 191ms/step\n",
            "              precision    recall  f1-score   support\n",
            "\n",
            "           0       0.50      0.08      0.14        12\n",
            "           1       0.79      0.98      0.87        42\n",
            "\n",
            "    accuracy                           0.78        54\n",
            "   macro avg       0.64      0.53      0.51        54\n",
            "weighted avg       0.72      0.78      0.71        54\n",
            "\n"
          ]
        }
      ]
    },
    {
      "cell_type": "code",
      "source": [
        "from sklearn.metrics import classification_report\n",
        "\n",
        "# Prediksi probabilitas\n",
        "y_pred_prob = model3.predict(testing_padded)\n",
        "\n",
        "# Mengubah probabilitas menjadi kelas biner\n",
        "y_pred_binary = (y_pred_prob > 0.5).astype(int)\n",
        "\n",
        "# Generate classification report sebagai dictionary\n",
        "report = classification_report(y_test, y_pred_binary, output_dict=True)\n",
        "\n",
        "# Ambil nilai weighted F1-score\n",
        "weighted_f1 = report[\"weighted avg\"][\"f1-score\"]\n",
        "\n",
        "# Cetak classification report dan weighted F1-score\n",
        "print(classification_report(y_test, y_pred_binary))\n",
        "print(f\"Weighted F1-score: {weighted_f1:.4f}\")"
      ],
      "metadata": {
        "colab": {
          "base_uri": "https://localhost:8080/"
        },
        "id": "ijrzlyL9lk8f",
        "outputId": "f615d4cc-bac0-47b4-cb05-c869c9945e40"
      },
      "execution_count": null,
      "outputs": [
        {
          "output_type": "stream",
          "name": "stdout",
          "text": [
            "\u001b[1m2/2\u001b[0m \u001b[32m━━━━━━━━━━━━━━━━━━━━\u001b[0m\u001b[37m\u001b[0m \u001b[1m0s\u001b[0m 72ms/step\n",
            "              precision    recall  f1-score   support\n",
            "\n",
            "           0       0.50      0.08      0.14        12\n",
            "           1       0.79      0.98      0.87        42\n",
            "\n",
            "    accuracy                           0.78        54\n",
            "   macro avg       0.64      0.53      0.51        54\n",
            "weighted avg       0.72      0.78      0.71        54\n",
            "\n",
            "Weighted F1-score: 0.7102\n"
          ]
        }
      ]
    }
  ]
}