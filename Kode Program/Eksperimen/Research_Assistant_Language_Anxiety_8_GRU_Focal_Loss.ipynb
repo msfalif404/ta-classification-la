{
  "nbformat": 4,
  "nbformat_minor": 0,
  "metadata": {
    "colab": {
      "provenance": [],
      "gpuType": "T4"
    },
    "kernelspec": {
      "name": "python3",
      "display_name": "Python 3"
    },
    "language_info": {
      "name": "python"
    },
    "accelerator": "GPU"
  },
  "cells": [
    {
      "cell_type": "markdown",
      "source": [
        "# Text Classification: Language Anxiety"
      ],
      "metadata": {
        "id": "Hn6Sp1gN_HH6"
      }
    },
    {
      "cell_type": "markdown",
      "source": [
        "## Importing Library"
      ],
      "metadata": {
        "id": "S3MPDHn4_LMr"
      }
    },
    {
      "cell_type": "code",
      "execution_count": null,
      "metadata": {
        "id": "4UnOxFgzvRIO"
      },
      "outputs": [],
      "source": [
        "import numpy as np\n",
        "import pandas as pd\n",
        "import matplotlib.pyplot as plt\n",
        "import seaborn as sns\n",
        "\n",
        "from sklearn.preprocessing import LabelEncoder\n",
        "from sklearn.model_selection import train_test_split, RandomizedSearchCV\n",
        "\n",
        "import tensorflow as tf\n",
        "from tensorflow.keras.preprocessing.text import Tokenizer\n",
        "from tensorflow.keras.preprocessing.sequence import pad_sequences\n",
        "from tensorflow.keras.callbacks import EarlyStopping, ModelCheckpoint\n",
        "\n",
        "from tensorflow.keras.models import Sequential\n",
        "from tensorflow.keras.layers import Dense, LSTM, GRU, Bidirectional, Embedding, Dropout, GlobalAveragePooling1D, Flatten, SpatialDropout1D\n",
        "\n",
        "from tensorflow.keras.optimizers import AdamW\n",
        "from sklearn.utils import shuffle\n",
        "\n",
        "import keras\n",
        "\n",
        "from sklearn.utils import class_weight\n",
        "from sklearn.metrics import f1_score"
      ]
    },
    {
      "cell_type": "code",
      "source": [
        "# Set random seed for reproducibility\n",
        "seed = 1945\n",
        "np.random.seed(seed)\n",
        "tf.random.set_seed(seed)"
      ],
      "metadata": {
        "id": "PaUixVM_Kb_q"
      },
      "execution_count": null,
      "outputs": []
    },
    {
      "cell_type": "markdown",
      "source": [
        "## Reading The Dataset"
      ],
      "metadata": {
        "id": "pg1FVcrW_O-t"
      }
    },
    {
      "cell_type": "code",
      "source": [
        "df = pd.read_excel('/content/dataset_2class_better.xlsx')\n",
        "# df = df[df['is_ai_generated_label'] == 0]\n",
        "df = df[[\"post\", \"LA Classification\"]]\n",
        "\n",
        "# Pisahkan kelas anxiety\n",
        "# df_anxiety = df[df[\"LA Class\"] == \"Anxiety\"]\n",
        "# df_no_anxiety = df[df[\"LA Class\"] == \"No Anxiety\"]\n",
        "\n",
        "# Sampling data anxiety supaya jadi sekitar 60 baris\n",
        "# df_anxiety_sampled = df_anxiety.sample(n=150, random_state=42)  # Random sampling 60 baris\n",
        "\n",
        "# Gabungkan kembali data yang sudah disampling\n",
        "# df = pd.concat([df_anxiety_sampled, df_no_anxiety], ignore_index=True)\n",
        "\n",
        "df.head()"
      ],
      "metadata": {
        "colab": {
          "base_uri": "https://localhost:8080/",
          "height": 206
        },
        "id": "Q-MegjxuwH7t",
        "outputId": "7d54e7b2-abf6-46f4-f06c-82bcb22a87b3"
      },
      "execution_count": null,
      "outputs": [
        {
          "output_type": "execute_result",
          "data": {
            "text/plain": [
              "                                                post LA Classification\n",
              "0  The place I've been to that I love and always ...           Anxiety\n",
              "1  My favorite place is Hat Yai in Thailand, spec...           Anxiety\n",
              "2  One of my favorite places that i have been vis...        No Anxiety\n",
              "3  When I was in 6th grade, I went on a vacation ...           Anxiety\n",
              "4  My favorite place is Bali, I like Bali so much...           Anxiety"
            ],
            "text/html": [
              "\n",
              "  <div id=\"df-169c4607-02b7-4bcf-98bd-f4f4ee986e2f\" class=\"colab-df-container\">\n",
              "    <div>\n",
              "<style scoped>\n",
              "    .dataframe tbody tr th:only-of-type {\n",
              "        vertical-align: middle;\n",
              "    }\n",
              "\n",
              "    .dataframe tbody tr th {\n",
              "        vertical-align: top;\n",
              "    }\n",
              "\n",
              "    .dataframe thead th {\n",
              "        text-align: right;\n",
              "    }\n",
              "</style>\n",
              "<table border=\"1\" class=\"dataframe\">\n",
              "  <thead>\n",
              "    <tr style=\"text-align: right;\">\n",
              "      <th></th>\n",
              "      <th>post</th>\n",
              "      <th>LA Classification</th>\n",
              "    </tr>\n",
              "  </thead>\n",
              "  <tbody>\n",
              "    <tr>\n",
              "      <th>0</th>\n",
              "      <td>The place I've been to that I love and always ...</td>\n",
              "      <td>Anxiety</td>\n",
              "    </tr>\n",
              "    <tr>\n",
              "      <th>1</th>\n",
              "      <td>My favorite place is Hat Yai in Thailand, spec...</td>\n",
              "      <td>Anxiety</td>\n",
              "    </tr>\n",
              "    <tr>\n",
              "      <th>2</th>\n",
              "      <td>One of my favorite places that i have been vis...</td>\n",
              "      <td>No Anxiety</td>\n",
              "    </tr>\n",
              "    <tr>\n",
              "      <th>3</th>\n",
              "      <td>When I was in 6th grade, I went on a vacation ...</td>\n",
              "      <td>Anxiety</td>\n",
              "    </tr>\n",
              "    <tr>\n",
              "      <th>4</th>\n",
              "      <td>My favorite place is Bali, I like Bali so much...</td>\n",
              "      <td>Anxiety</td>\n",
              "    </tr>\n",
              "  </tbody>\n",
              "</table>\n",
              "</div>\n",
              "    <div class=\"colab-df-buttons\">\n",
              "\n",
              "  <div class=\"colab-df-container\">\n",
              "    <button class=\"colab-df-convert\" onclick=\"convertToInteractive('df-169c4607-02b7-4bcf-98bd-f4f4ee986e2f')\"\n",
              "            title=\"Convert this dataframe to an interactive table.\"\n",
              "            style=\"display:none;\">\n",
              "\n",
              "  <svg xmlns=\"http://www.w3.org/2000/svg\" height=\"24px\" viewBox=\"0 -960 960 960\">\n",
              "    <path d=\"M120-120v-720h720v720H120Zm60-500h600v-160H180v160Zm220 220h160v-160H400v160Zm0 220h160v-160H400v160ZM180-400h160v-160H180v160Zm440 0h160v-160H620v160ZM180-180h160v-160H180v160Zm440 0h160v-160H620v160Z\"/>\n",
              "  </svg>\n",
              "    </button>\n",
              "\n",
              "  <style>\n",
              "    .colab-df-container {\n",
              "      display:flex;\n",
              "      gap: 12px;\n",
              "    }\n",
              "\n",
              "    .colab-df-convert {\n",
              "      background-color: #E8F0FE;\n",
              "      border: none;\n",
              "      border-radius: 50%;\n",
              "      cursor: pointer;\n",
              "      display: none;\n",
              "      fill: #1967D2;\n",
              "      height: 32px;\n",
              "      padding: 0 0 0 0;\n",
              "      width: 32px;\n",
              "    }\n",
              "\n",
              "    .colab-df-convert:hover {\n",
              "      background-color: #E2EBFA;\n",
              "      box-shadow: 0px 1px 2px rgba(60, 64, 67, 0.3), 0px 1px 3px 1px rgba(60, 64, 67, 0.15);\n",
              "      fill: #174EA6;\n",
              "    }\n",
              "\n",
              "    .colab-df-buttons div {\n",
              "      margin-bottom: 4px;\n",
              "    }\n",
              "\n",
              "    [theme=dark] .colab-df-convert {\n",
              "      background-color: #3B4455;\n",
              "      fill: #D2E3FC;\n",
              "    }\n",
              "\n",
              "    [theme=dark] .colab-df-convert:hover {\n",
              "      background-color: #434B5C;\n",
              "      box-shadow: 0px 1px 3px 1px rgba(0, 0, 0, 0.15);\n",
              "      filter: drop-shadow(0px 1px 2px rgba(0, 0, 0, 0.3));\n",
              "      fill: #FFFFFF;\n",
              "    }\n",
              "  </style>\n",
              "\n",
              "    <script>\n",
              "      const buttonEl =\n",
              "        document.querySelector('#df-169c4607-02b7-4bcf-98bd-f4f4ee986e2f button.colab-df-convert');\n",
              "      buttonEl.style.display =\n",
              "        google.colab.kernel.accessAllowed ? 'block' : 'none';\n",
              "\n",
              "      async function convertToInteractive(key) {\n",
              "        const element = document.querySelector('#df-169c4607-02b7-4bcf-98bd-f4f4ee986e2f');\n",
              "        const dataTable =\n",
              "          await google.colab.kernel.invokeFunction('convertToInteractive',\n",
              "                                                    [key], {});\n",
              "        if (!dataTable) return;\n",
              "\n",
              "        const docLinkHtml = 'Like what you see? Visit the ' +\n",
              "          '<a target=\"_blank\" href=https://colab.research.google.com/notebooks/data_table.ipynb>data table notebook</a>'\n",
              "          + ' to learn more about interactive tables.';\n",
              "        element.innerHTML = '';\n",
              "        dataTable['output_type'] = 'display_data';\n",
              "        await google.colab.output.renderOutput(dataTable, element);\n",
              "        const docLink = document.createElement('div');\n",
              "        docLink.innerHTML = docLinkHtml;\n",
              "        element.appendChild(docLink);\n",
              "      }\n",
              "    </script>\n",
              "  </div>\n",
              "\n",
              "\n",
              "    <div id=\"df-da6a48e0-0db7-4f9d-879e-0bb51db28912\">\n",
              "      <button class=\"colab-df-quickchart\" onclick=\"quickchart('df-da6a48e0-0db7-4f9d-879e-0bb51db28912')\"\n",
              "                title=\"Suggest charts\"\n",
              "                style=\"display:none;\">\n",
              "\n",
              "<svg xmlns=\"http://www.w3.org/2000/svg\" height=\"24px\"viewBox=\"0 0 24 24\"\n",
              "     width=\"24px\">\n",
              "    <g>\n",
              "        <path d=\"M19 3H5c-1.1 0-2 .9-2 2v14c0 1.1.9 2 2 2h14c1.1 0 2-.9 2-2V5c0-1.1-.9-2-2-2zM9 17H7v-7h2v7zm4 0h-2V7h2v10zm4 0h-2v-4h2v4z\"/>\n",
              "    </g>\n",
              "</svg>\n",
              "      </button>\n",
              "\n",
              "<style>\n",
              "  .colab-df-quickchart {\n",
              "      --bg-color: #E8F0FE;\n",
              "      --fill-color: #1967D2;\n",
              "      --hover-bg-color: #E2EBFA;\n",
              "      --hover-fill-color: #174EA6;\n",
              "      --disabled-fill-color: #AAA;\n",
              "      --disabled-bg-color: #DDD;\n",
              "  }\n",
              "\n",
              "  [theme=dark] .colab-df-quickchart {\n",
              "      --bg-color: #3B4455;\n",
              "      --fill-color: #D2E3FC;\n",
              "      --hover-bg-color: #434B5C;\n",
              "      --hover-fill-color: #FFFFFF;\n",
              "      --disabled-bg-color: #3B4455;\n",
              "      --disabled-fill-color: #666;\n",
              "  }\n",
              "\n",
              "  .colab-df-quickchart {\n",
              "    background-color: var(--bg-color);\n",
              "    border: none;\n",
              "    border-radius: 50%;\n",
              "    cursor: pointer;\n",
              "    display: none;\n",
              "    fill: var(--fill-color);\n",
              "    height: 32px;\n",
              "    padding: 0;\n",
              "    width: 32px;\n",
              "  }\n",
              "\n",
              "  .colab-df-quickchart:hover {\n",
              "    background-color: var(--hover-bg-color);\n",
              "    box-shadow: 0 1px 2px rgba(60, 64, 67, 0.3), 0 1px 3px 1px rgba(60, 64, 67, 0.15);\n",
              "    fill: var(--button-hover-fill-color);\n",
              "  }\n",
              "\n",
              "  .colab-df-quickchart-complete:disabled,\n",
              "  .colab-df-quickchart-complete:disabled:hover {\n",
              "    background-color: var(--disabled-bg-color);\n",
              "    fill: var(--disabled-fill-color);\n",
              "    box-shadow: none;\n",
              "  }\n",
              "\n",
              "  .colab-df-spinner {\n",
              "    border: 2px solid var(--fill-color);\n",
              "    border-color: transparent;\n",
              "    border-bottom-color: var(--fill-color);\n",
              "    animation:\n",
              "      spin 1s steps(1) infinite;\n",
              "  }\n",
              "\n",
              "  @keyframes spin {\n",
              "    0% {\n",
              "      border-color: transparent;\n",
              "      border-bottom-color: var(--fill-color);\n",
              "      border-left-color: var(--fill-color);\n",
              "    }\n",
              "    20% {\n",
              "      border-color: transparent;\n",
              "      border-left-color: var(--fill-color);\n",
              "      border-top-color: var(--fill-color);\n",
              "    }\n",
              "    30% {\n",
              "      border-color: transparent;\n",
              "      border-left-color: var(--fill-color);\n",
              "      border-top-color: var(--fill-color);\n",
              "      border-right-color: var(--fill-color);\n",
              "    }\n",
              "    40% {\n",
              "      border-color: transparent;\n",
              "      border-right-color: var(--fill-color);\n",
              "      border-top-color: var(--fill-color);\n",
              "    }\n",
              "    60% {\n",
              "      border-color: transparent;\n",
              "      border-right-color: var(--fill-color);\n",
              "    }\n",
              "    80% {\n",
              "      border-color: transparent;\n",
              "      border-right-color: var(--fill-color);\n",
              "      border-bottom-color: var(--fill-color);\n",
              "    }\n",
              "    90% {\n",
              "      border-color: transparent;\n",
              "      border-bottom-color: var(--fill-color);\n",
              "    }\n",
              "  }\n",
              "</style>\n",
              "\n",
              "      <script>\n",
              "        async function quickchart(key) {\n",
              "          const quickchartButtonEl =\n",
              "            document.querySelector('#' + key + ' button');\n",
              "          quickchartButtonEl.disabled = true;  // To prevent multiple clicks.\n",
              "          quickchartButtonEl.classList.add('colab-df-spinner');\n",
              "          try {\n",
              "            const charts = await google.colab.kernel.invokeFunction(\n",
              "                'suggestCharts', [key], {});\n",
              "          } catch (error) {\n",
              "            console.error('Error during call to suggestCharts:', error);\n",
              "          }\n",
              "          quickchartButtonEl.classList.remove('colab-df-spinner');\n",
              "          quickchartButtonEl.classList.add('colab-df-quickchart-complete');\n",
              "        }\n",
              "        (() => {\n",
              "          let quickchartButtonEl =\n",
              "            document.querySelector('#df-da6a48e0-0db7-4f9d-879e-0bb51db28912 button');\n",
              "          quickchartButtonEl.style.display =\n",
              "            google.colab.kernel.accessAllowed ? 'block' : 'none';\n",
              "        })();\n",
              "      </script>\n",
              "    </div>\n",
              "\n",
              "    </div>\n",
              "  </div>\n"
            ],
            "application/vnd.google.colaboratory.intrinsic+json": {
              "type": "dataframe",
              "variable_name": "df",
              "summary": "{\n  \"name\": \"df\",\n  \"rows\": 324,\n  \"fields\": [\n    {\n      \"column\": \"post\",\n      \"properties\": {\n        \"dtype\": \"string\",\n        \"num_unique_values\": 322,\n        \"samples\": [\n          \"Everyone definitely has at least one most memorable place. My favorite place is Singapore. Last year, I and my family went to Singapore from Batam City by ferry. It only takes half an hour to get to Singapore. There was so many beautiful places that we visited, such as Changi Airport, Merlion Park, Masjid Sultan, Garden by the Bay, and the last one is Universal Studio. I like going on holiday to Singapore because the streets are neat, which is so different from Indonesia and the people are very organized.The most impressive place in Singapore in my opinion is Jewel Changi Airport. Jewel Changi Airport has the world's highest indoor waterfall. The beauty of this artificial waterfall is truly enchanting, the rays of sunlight that emit its rays make this location even more beautiful. Beautiful & cool comes from the fresh plants that surround this area.One of the main reasons my holiday to Singapore was so memorable was the time I spent with my family. It's rare for me to feel this togetherness because each of my family member lives in a different place. Like me, who had to study in Bandung, my first brother who was married and settled in Medan, my second brother who had an internship in Jakarta, and my parents who moved to work in Batam. That's why my trip to Singapore at this time was the most memorable trip and became one of my favorite places I have ever visited. I hope I can go to Singapore again and still go with my family.\",\n          \"When i was a kid, me and my family had a trip to Kepulauan Seribu, which is Putri Island to be precise on our vacation. We stayed around for 3 days/2 nights. We spent about couple hours to arrived there since it's located a bit far from the main land \\u00a0of Ancol, North Jakarta. Putri Island have become one of my favorite place to spent my holidays in because of it views and comfort i've experienced from staying in its resort. Sl on, I wont forgot the excitements i've got from doing several activities such as swimming upon an open sea, riding the banana boat, and fishing on a boat. For the first time ever I saw plenty of giant monitor lizards, which is a common domestic species there. As long as i live, i won't forget the memories i've shared with my family on that island, because of that... i have a reason to cherish my early days.\",\n          \"One of the place that i want to visit is Mentawai Island. For information, Mentawai Island is located at West Sumatra Province. It nears from Padang City. You can go to Mentawai Island with speedboat from Padang. Mentawai Island is beautiful. They have the best wave in the world. Thats why we can see many tourist outside Indonesia come to visit Mentawai. Not only the best wave, the beaches in Mentawai is very good, same as in Bali Island. They have a nice cottage too. You can see the sunset from there. Someone might ask ''Padang also have a beach. Why do you still want to go to Mentawai?\\\" The answer is simple, Padang's beaches are just ordinary. The Taplau (Tepi Laut) zone is full of culinary place. The beaches in Painan City even better than Padang. But i had visit Painan twice. So, i am very curious about Mentawai. My friend had told me that in one month, Mentawai got visit by a big ship. You can go there for shopping and hangout with friends. That's why i want visit Mentawai.\"\n        ],\n        \"semantic_type\": \"\",\n        \"description\": \"\"\n      }\n    },\n    {\n      \"column\": \"LA Classification\",\n      \"properties\": {\n        \"dtype\": \"category\",\n        \"num_unique_values\": 2,\n        \"samples\": [\n          \"No Anxiety\",\n          \"Anxiety\"\n        ],\n        \"semantic_type\": \"\",\n        \"description\": \"\"\n      }\n    }\n  ]\n}"
            }
          },
          "metadata": {},
          "execution_count": 25
        }
      ]
    },
    {
      "cell_type": "markdown",
      "source": [
        "## Checking Class Distribution"
      ],
      "metadata": {
        "id": "iEJSfwzq_Qua"
      }
    },
    {
      "cell_type": "code",
      "source": [
        "# Mengambil nilai perhitungan distribusi kelas\n",
        "class_counts = df['LA Classification'].value_counts()\n",
        "\n",
        "# Membuat diagram batang\n",
        "plt.figure(figsize=(8, 6))\n",
        "class_counts.plot(kind='bar', color='skyblue')\n",
        "plt.title('Distribution of Classes')\n",
        "plt.xlabel('Class')\n",
        "plt.ylabel('Count')\n",
        "plt.xticks(rotation=0)  # Untuk memutar label sumbu x agar lebih mudah dibaca\n",
        "plt.tight_layout()\n",
        "plt.show()"
      ],
      "metadata": {
        "colab": {
          "base_uri": "https://localhost:8080/",
          "height": 607
        },
        "id": "HL00NXYHwUlg",
        "outputId": "61f69a27-2883-4352-ff57-acfbddfe65fc"
      },
      "execution_count": null,
      "outputs": [
        {
          "output_type": "display_data",
          "data": {
            "text/plain": [
              "<Figure size 800x600 with 1 Axes>"
            ],
            "image/png": "[encoded data removed]"
          },
          "metadata": {}
        }
      ]
    },
    {
      "cell_type": "code",
      "source": [
        "df['LA Classification'].value_counts()"
      ],
      "metadata": {
        "colab": {
          "base_uri": "https://localhost:8080/",
          "height": 178
        },
        "id": "_0eRKHofx_jB",
        "outputId": "1613d79d-7b9b-489a-c6a2-b621a662ec15"
      },
      "execution_count": null,
      "outputs": [
        {
          "output_type": "execute_result",
          "data": {
            "text/plain": [
              "LA Classification\n",
              "Anxiety       225\n",
              "No Anxiety     99\n",
              "Name: count, dtype: int64"
            ],
            "text/html": [
              "<div>\n",
              "<style scoped>\n",
              "    .dataframe tbody tr th:only-of-type {\n",
              "        vertical-align: middle;\n",
              "    }\n",
              "\n",
              "    .dataframe tbody tr th {\n",
              "        vertical-align: top;\n",
              "    }\n",
              "\n",
              "    .dataframe thead th {\n",
              "        text-align: right;\n",
              "    }\n",
              "</style>\n",
              "<table border=\"1\" class=\"dataframe\">\n",
              "  <thead>\n",
              "    <tr style=\"text-align: right;\">\n",
              "      <th></th>\n",
              "      <th>count</th>\n",
              "    </tr>\n",
              "    <tr>\n",
              "      <th>LA Classification</th>\n",
              "      <th></th>\n",
              "    </tr>\n",
              "  </thead>\n",
              "  <tbody>\n",
              "    <tr>\n",
              "      <th>Anxiety</th>\n",
              "      <td>225</td>\n",
              "    </tr>\n",
              "    <tr>\n",
              "      <th>No Anxiety</th>\n",
              "      <td>99</td>\n",
              "    </tr>\n",
              "  </tbody>\n",
              "</table>\n",
              "</div><br><label><b>dtype:</b> int64</label>"
            ]
          },
          "metadata": {},
          "execution_count": 27
        }
      ]
    },
    {
      "cell_type": "markdown",
      "source": [
        "## Encode Target Variable"
      ],
      "metadata": {
        "id": "1UtRaqH8_UoS"
      }
    },
    {
      "cell_type": "code",
      "source": [
        "# Menggunakan mapping manual dengan map\n",
        "df['la_class'] = df['LA Classification'].map({'Anxiety': 1, 'No Anxiety': 0})\n",
        "\n",
        "# Menampilkan hasil\n",
        "print(\"Mapping kelas ke nilai encoded:\")\n",
        "print(df[['LA Classification', 'la_class']])\n",
        "\n",
        "# Menghapus kolom asli\n",
        "df.drop(columns=['LA Classification'], inplace=True)"
      ],
      "metadata": {
        "colab": {
          "base_uri": "https://localhost:8080/"
        },
        "id": "Q9ZyPBkmwgGl",
        "outputId": "0aee274f-9191-4de9-f1af-fe804cc4ea04"
      },
      "execution_count": null,
      "outputs": [
        {
          "output_type": "stream",
          "name": "stdout",
          "text": [
            "Mapping kelas ke nilai encoded:\n",
            "    LA Classification  la_class\n",
            "0             Anxiety         1\n",
            "1             Anxiety         1\n",
            "2          No Anxiety         0\n",
            "3             Anxiety         1\n",
            "4             Anxiety         1\n",
            "..                ...       ...\n",
            "319           Anxiety         1\n",
            "320           Anxiety         1\n",
            "321        No Anxiety         0\n",
            "322           Anxiety         1\n",
            "323           Anxiety         1\n",
            "\n",
            "[324 rows x 2 columns]\n"
          ]
        }
      ]
    },
    {
      "cell_type": "markdown",
      "source": [
        "## Contraction Mapping"
      ],
      "metadata": {
        "id": "TtL5Wt8K5uW0"
      }
    },
    {
      "cell_type": "code",
      "source": [
        "contraction_mapping = {\n",
        "    \"ain't\": \"am not\",\n",
        "    \"aren't\": \"are not\",\n",
        "    \"can't\": \"cannot\",\n",
        "    \"can't've\": \"cannot have\",\n",
        "    \"'cause\": \"because\",\n",
        "    \"could've\": \"could have\",\n",
        "    \"couldn't\": \"could not\",\n",
        "    \"couldn't've\": \"could not have\",\n",
        "    \"didn't\": \"did not\",\n",
        "    \"doesn't\": \"does not\",\n",
        "    \"don't\": \"do not\",\n",
        "    \"hadn't\": \"had not\",\n",
        "    \"hadn't've\": \"had not have\",\n",
        "    \"hasn't\": \"has not\",\n",
        "    \"haven't\": \"have not\",\n",
        "    \"he'd\": \"he had\",\n",
        "    \"he'd've\": \"he would have\",\n",
        "    \"he'll\": \"he will\",\n",
        "    \"he'll've\": \"he will have\",\n",
        "    \"he's\": \"he is\",\n",
        "    \"how'd\": \"how did\",\n",
        "    \"how'd'y\": \"how do you\",\n",
        "    \"how'll\": \"how will\",\n",
        "    \"how's\": \"how does\",\n",
        "    \"I'd\": \"I had\",\n",
        "    \"I'd've\": \"I would have\",\n",
        "    \"I'll\": \"I will\",\n",
        "    \"I'll've\": \"I will have\",\n",
        "    \"I'm\": \"I am\",\n",
        "    \"I've\": \"I have\",\n",
        "    \"isn't\": \"is not\",\n",
        "    \"it'd\": \"it had\",\n",
        "    \"it'd've\": \"it would have\",\n",
        "    \"it'll\": \"it will\",\n",
        "    \"it'll've\": \"it will have\",\n",
        "    \"it's\": \"it is\",\n",
        "    \"let's\": \"let us\",\n",
        "    \"ma'am\": \"madam\",\n",
        "    \"mayn't\": \"may not\",\n",
        "    \"might've\": \"might have\",\n",
        "    \"mightn't\": \"might not\",\n",
        "    \"mightn't've\": \"might not have\",\n",
        "    \"must've\": \"must have\",\n",
        "    \"mustn't\": \"must not\",\n",
        "    \"mustn't've\": \"must not have\",\n",
        "    \"needn't\": \"need not\",\n",
        "    \"needn't've\": \"need not have\",\n",
        "    \"o'clock\": \"of the clock\",\n",
        "    \"oughtn't\": \"ought not\",\n",
        "    \"oughtn't've\": \"ought not have\",\n",
        "    \"shan't\": \"shall not\",\n",
        "    \"sha'n't\": \"shall not\",\n",
        "    \"shan't've\": \"shall not have\",\n",
        "    \"she'd\": \"she had\",\n",
        "    \"she'd've\": \"she would have\",\n",
        "    \"she'll\": \"she she will\",\n",
        "    \"she'll've\": \"she will have\",\n",
        "    \"she's\": \"she is\",\n",
        "    \"should've\": \"should have\",\n",
        "    \"shouldn't\": \"should not\",\n",
        "    \"shouldn't've\": \"should not have\",\n",
        "    \"so've\": \"so have\",\n",
        "    \"so's\": \"so is\",\n",
        "    \"that'd\": \"that had\",\n",
        "    \"that'd've\": \"that would have\",\n",
        "    \"that's\": \"that is\",\n",
        "    \"there'd\": \"there had\",\n",
        "    \"there'd've\": \"there would have\",\n",
        "    \"there's\": \"there is\",\n",
        "    \"they'd\": \"they had\",\n",
        "    \"they'd've\": \"they would have\",\n",
        "    \"they'll\": \"they will\",\n",
        "    \"they'll've\": \"they will have\",\n",
        "    \"they're\": \"they are\",\n",
        "    \"they've\": \"they have\",\n",
        "    \"to've\": \"to have\",\n",
        "    \"wasn't\": \"was not\",\n",
        "    \"we'd\": \"we had\",\n",
        "    \"we'd've\": \"we would have\",\n",
        "    \"we'll\": \"we will\",\n",
        "    \"we'll've\": \"we will have\",\n",
        "    \"we're\": \"we are\",\n",
        "    \"we've\": \"we have\",\n",
        "    \"weren't\": \"were not\",\n",
        "    \"what'll\": \"what will\",\n",
        "    \"what'll've\": \"what will have\",\n",
        "    \"what're\": \"what are\",\n",
        "    \"what's\": \"what is\",\n",
        "    \"what've\": \"what have\",\n",
        "    \"when's\": \"when is\",\n",
        "    \"when've\": \"when have\",\n",
        "    \"where'd\": \"where did\",\n",
        "    \"where's\": \"where is\",\n",
        "    \"where've\": \"where have\",\n",
        "    \"who'll\": \"who will\",\n",
        "    \"who'll've\": \"who will have\",\n",
        "    \"who's\": \"who is\",\n",
        "    \"who've\": \"who have\",\n",
        "    \"why's\": \"why is\",\n",
        "    \"why've\": \"why have\",\n",
        "    \"will've\": \"will have\",\n",
        "    \"won't\": \"will not\",\n",
        "    \"won't've\": \"will not have\",\n",
        "    \"would've\": \"would have\",\n",
        "    \"wouldn't\": \"would not\",\n",
        "    \"wouldn't've\": \"would not have\",\n",
        "    \"y'all\": \"you all\",\n",
        "    \"y'all'd\": \"you all would\",\n",
        "    \"y'all'd've\": \"you all would have\",\n",
        "    \"y'all're\": \"you all are\",\n",
        "    \"y'all've\": \"you all have\",\n",
        "    \"you'd\": \"you had\",\n",
        "    \"you'd've\": \"you would have\",\n",
        "    \"you'll\": \"you will\",\n",
        "    \"you'll've\": \"you will have\",\n",
        "    \"you're\": \"you are\",\n",
        "    \"you've\": \"you have\"\n",
        "}\n",
        "\n",
        "def expand_contractions(text, contraction_mapping):\n",
        "    for contraction, expanded in contraction_mapping.items():\n",
        "        text = text.replace(contraction, expanded)\n",
        "    return text\n",
        "\n",
        "df['post'] = df['post'].apply(lambda x: expand_contractions(x, contraction_mapping))"
      ],
      "metadata": {
        "id": "vPOCdAsr5vp4"
      },
      "execution_count": null,
      "outputs": []
    },
    {
      "cell_type": "markdown",
      "source": [
        "## Cleaning The Text"
      ],
      "metadata": {
        "id": "SausJ_HC5w_E"
      }
    },
    {
      "cell_type": "code",
      "source": [
        "import re\n",
        "import nltk\n",
        "# nltk.download('stopwords')\n",
        "# nltk.download('wordnet')\n",
        "from nltk.corpus import stopwords\n",
        "from nltk.stem import WordNetLemmatizer\n",
        "\n",
        "nltk.download('stopwords')\n",
        "nltk.download('wordnet')\n",
        "all_stopwords = stopwords.words('english')\n",
        "all_stopwords.remove('not')\n",
        "\n",
        "lemmatizer = WordNetLemmatizer()\n",
        "\n",
        "def preprocess_text(text):\n",
        "    # Hapus karakter non-alphanumeric\n",
        "    text = re.sub('[^a-zA-Z]', ' ', text)\n",
        "    # Konversi teks ke huruf kecil\n",
        "    text = text.lower()\n",
        "    # Split teks menjadi kata-kata\n",
        "    words = text.split()\n",
        "    # Lematisasi dan hapus stop words\n",
        "    words = [lemmatizer.lemmatize(word) for word in words if word not in set(stopwords.words('english'))]\n",
        "    # Gabungkan kata-kata kembali menjadi satu string\n",
        "    processed_text = ' '.join(words)\n",
        "\n",
        "    return processed_text\n",
        "\n",
        "df['post'] = df['post'].apply(preprocess_text)"
      ],
      "metadata": {
        "id": "TnsbWXRQ50aJ",
        "colab": {
          "base_uri": "https://localhost:8080/"
        },
        "outputId": "935f9e65-c0bf-490e-80f8-0281bc9692db"
      },
      "execution_count": null,
      "outputs": [
        {
          "output_type": "stream",
          "name": "stderr",
          "text": [
            "[nltk_data] Downloading package stopwords to /root/nltk_data...\n",
            "[nltk_data]   Package stopwords is already up-to-date!\n",
            "[nltk_data] Downloading package wordnet to /root/nltk_data...\n",
            "[nltk_data]   Package wordnet is already up-to-date!\n"
          ]
        }
      ]
    },
    {
      "cell_type": "markdown",
      "source": [
        "## Calculating Text Length"
      ],
      "metadata": {
        "id": "1RQUoVvh_WtZ"
      }
    },
    {
      "cell_type": "code",
      "source": [
        "df['text_length'] = df['post'].apply(len)\n",
        "df.head()"
      ],
      "metadata": {
        "id": "zVjNvtrbwlAO",
        "colab": {
          "base_uri": "https://localhost:8080/",
          "height": 206
        },
        "outputId": "25093f88-05ff-4f52-d228-ec4ec3d181b9"
      },
      "execution_count": null,
      "outputs": [
        {
          "output_type": "execute_result",
          "data": {
            "text/plain": [
              "                                                post  la_class  text_length\n",
              "0  place love always feel comfortable going malay...         1          351\n",
              "1  favorite place hat yai thailand specifically a...         1          538\n",
              "2  one favorite place visited disneyland elementa...         0          673\n",
              "3  th grade went vacation family one place think ...         1          463\n",
              "4  favorite place bali like bali much people nice...         1          441"
            ],
            "text/html": [
              "\n",
              "  <div id=\"df-8fa40635-b778-4aef-aa2c-01a3c85a36d7\" class=\"colab-df-container\">\n",
              "    <div>\n",
              "<style scoped>\n",
              "    .dataframe tbody tr th:only-of-type {\n",
              "        vertical-align: middle;\n",
              "    }\n",
              "\n",
              "    .dataframe tbody tr th {\n",
              "        vertical-align: top;\n",
              "    }\n",
              "\n",
              "    .dataframe thead th {\n",
              "        text-align: right;\n",
              "    }\n",
              "</style>\n",
              "<table border=\"1\" class=\"dataframe\">\n",
              "  <thead>\n",
              "    <tr style=\"text-align: right;\">\n",
              "      <th></th>\n",
              "      <th>post</th>\n",
              "      <th>la_class</th>\n",
              "      <th>text_length</th>\n",
              "    </tr>\n",
              "  </thead>\n",
              "  <tbody>\n",
              "    <tr>\n",
              "      <th>0</th>\n",
              "      <td>place love always feel comfortable going malay...</td>\n",
              "      <td>1</td>\n",
              "      <td>351</td>\n",
              "    </tr>\n",
              "    <tr>\n",
              "      <th>1</th>\n",
              "      <td>favorite place hat yai thailand specifically a...</td>\n",
              "      <td>1</td>\n",
              "      <td>538</td>\n",
              "    </tr>\n",
              "    <tr>\n",
              "      <th>2</th>\n",
              "      <td>one favorite place visited disneyland elementa...</td>\n",
              "      <td>0</td>\n",
              "      <td>673</td>\n",
              "    </tr>\n",
              "    <tr>\n",
              "      <th>3</th>\n",
              "      <td>th grade went vacation family one place think ...</td>\n",
              "      <td>1</td>\n",
              "      <td>463</td>\n",
              "    </tr>\n",
              "    <tr>\n",
              "      <th>4</th>\n",
              "      <td>favorite place bali like bali much people nice...</td>\n",
              "      <td>1</td>\n",
              "      <td>441</td>\n",
              "    </tr>\n",
              "  </tbody>\n",
              "</table>\n",
              "</div>\n",
              "    <div class=\"colab-df-buttons\">\n",
              "\n",
              "  <div class=\"colab-df-container\">\n",
              "    <button class=\"colab-df-convert\" onclick=\"convertToInteractive('df-8fa40635-b778-4aef-aa2c-01a3c85a36d7')\"\n",
              "            title=\"Convert this dataframe to an interactive table.\"\n",
              "            style=\"display:none;\">\n",
              "\n",
              "  <svg xmlns=\"http://www.w3.org/2000/svg\" height=\"24px\" viewBox=\"0 -960 960 960\">\n",
              "    <path d=\"M120-120v-720h720v720H120Zm60-500h600v-160H180v160Zm220 220h160v-160H400v160Zm0 220h160v-160H400v160ZM180-400h160v-160H180v160Zm440 0h160v-160H620v160ZM180-180h160v-160H180v160Zm440 0h160v-160H620v160Z\"/>\n",
              "  </svg>\n",
              "    </button>\n",
              "\n",
              "  <style>\n",
              "    .colab-df-container {\n",
              "      display:flex;\n",
              "      gap: 12px;\n",
              "    }\n",
              "\n",
              "    .colab-df-convert {\n",
              "      background-color: #E8F0FE;\n",
              "      border: none;\n",
              "      border-radius: 50%;\n",
              "      cursor: pointer;\n",
              "      display: none;\n",
              "      fill: #1967D2;\n",
              "      height: 32px;\n",
              "      padding: 0 0 0 0;\n",
              "      width: 32px;\n",
              "    }\n",
              "\n",
              "    .colab-df-convert:hover {\n",
              "      background-color: #E2EBFA;\n",
              "      box-shadow: 0px 1px 2px rgba(60, 64, 67, 0.3), 0px 1px 3px 1px rgba(60, 64, 67, 0.15);\n",
              "      fill: #174EA6;\n",
              "    }\n",
              "\n",
              "    .colab-df-buttons div {\n",
              "      margin-bottom: 4px;\n",
              "    }\n",
              "\n",
              "    [theme=dark] .colab-df-convert {\n",
              "      background-color: #3B4455;\n",
              "      fill: #D2E3FC;\n",
              "    }\n",
              "\n",
              "    [theme=dark] .colab-df-convert:hover {\n",
              "      background-color: #434B5C;\n",
              "      box-shadow: 0px 1px 3px 1px rgba(0, 0, 0, 0.15);\n",
              "      filter: drop-shadow(0px 1px 2px rgba(0, 0, 0, 0.3));\n",
              "      fill: #FFFFFF;\n",
              "    }\n",
              "  </style>\n",
              "\n",
              "    <script>\n",
              "      const buttonEl =\n",
              "        document.querySelector('#df-8fa40635-b778-4aef-aa2c-01a3c85a36d7 button.colab-df-convert');\n",
              "      buttonEl.style.display =\n",
              "        google.colab.kernel.accessAllowed ? 'block' : 'none';\n",
              "\n",
              "      async function convertToInteractive(key) {\n",
              "        const element = document.querySelector('#df-8fa40635-b778-4aef-aa2c-01a3c85a36d7');\n",
              "        const dataTable =\n",
              "          await google.colab.kernel.invokeFunction('convertToInteractive',\n",
              "                                                    [key], {});\n",
              "        if (!dataTable) return;\n",
              "\n",
              "        const docLinkHtml = 'Like what you see? Visit the ' +\n",
              "          '<a target=\"_blank\" href=https://colab.research.google.com/notebooks/data_table.ipynb>data table notebook</a>'\n",
              "          + ' to learn more about interactive tables.';\n",
              "        element.innerHTML = '';\n",
              "        dataTable['output_type'] = 'display_data';\n",
              "        await google.colab.output.renderOutput(dataTable, element);\n",
              "        const docLink = document.createElement('div');\n",
              "        docLink.innerHTML = docLinkHtml;\n",
              "        element.appendChild(docLink);\n",
              "      }\n",
              "    </script>\n",
              "  </div>\n",
              "\n",
              "\n",
              "    <div id=\"df-54641c65-2f24-4bef-a044-eab009e403b5\">\n",
              "      <button class=\"colab-df-quickchart\" onclick=\"quickchart('df-54641c65-2f24-4bef-a044-eab009e403b5')\"\n",
              "                title=\"Suggest charts\"\n",
              "                style=\"display:none;\">\n",
              "\n",
              "<svg xmlns=\"http://www.w3.org/2000/svg\" height=\"24px\"viewBox=\"0 0 24 24\"\n",
              "     width=\"24px\">\n",
              "    <g>\n",
              "        <path d=\"M19 3H5c-1.1 0-2 .9-2 2v14c0 1.1.9 2 2 2h14c1.1 0 2-.9 2-2V5c0-1.1-.9-2-2-2zM9 17H7v-7h2v7zm4 0h-2V7h2v10zm4 0h-2v-4h2v4z\"/>\n",
              "    </g>\n",
              "</svg>\n",
              "      </button>\n",
              "\n",
              "<style>\n",
              "  .colab-df-quickchart {\n",
              "      --bg-color: #E8F0FE;\n",
              "      --fill-color: #1967D2;\n",
              "      --hover-bg-color: #E2EBFA;\n",
              "      --hover-fill-color: #174EA6;\n",
              "      --disabled-fill-color: #AAA;\n",
              "      --disabled-bg-color: #DDD;\n",
              "  }\n",
              "\n",
              "  [theme=dark] .colab-df-quickchart {\n",
              "      --bg-color: #3B4455;\n",
              "      --fill-color: #D2E3FC;\n",
              "      --hover-bg-color: #434B5C;\n",
              "      --hover-fill-color: #FFFFFF;\n",
              "      --disabled-bg-color: #3B4455;\n",
              "      --disabled-fill-color: #666;\n",
              "  }\n",
              "\n",
              "  .colab-df-quickchart {\n",
              "    background-color: var(--bg-color);\n",
              "    border: none;\n",
              "    border-radius: 50%;\n",
              "    cursor: pointer;\n",
              "    display: none;\n",
              "    fill: var(--fill-color);\n",
              "    height: 32px;\n",
              "    padding: 0;\n",
              "    width: 32px;\n",
              "  }\n",
              "\n",
              "  .colab-df-quickchart:hover {\n",
              "    background-color: var(--hover-bg-color);\n",
              "    box-shadow: 0 1px 2px rgba(60, 64, 67, 0.3), 0 1px 3px 1px rgba(60, 64, 67, 0.15);\n",
              "    fill: var(--button-hover-fill-color);\n",
              "  }\n",
              "\n",
              "  .colab-df-quickchart-complete:disabled,\n",
              "  .colab-df-quickchart-complete:disabled:hover {\n",
              "    background-color: var(--disabled-bg-color);\n",
              "    fill: var(--disabled-fill-color);\n",
              "    box-shadow: none;\n",
              "  }\n",
              "\n",
              "  .colab-df-spinner {\n",
              "    border: 2px solid var(--fill-color);\n",
              "    border-color: transparent;\n",
              "    border-bottom-color: var(--fill-color);\n",
              "    animation:\n",
              "      spin 1s steps(1) infinite;\n",
              "  }\n",
              "\n",
              "  @keyframes spin {\n",
              "    0% {\n",
              "      border-color: transparent;\n",
              "      border-bottom-color: var(--fill-color);\n",
              "      border-left-color: var(--fill-color);\n",
              "    }\n",
              "    20% {\n",
              "      border-color: transparent;\n",
              "      border-left-color: var(--fill-color);\n",
              "      border-top-color: var(--fill-color);\n",
              "    }\n",
              "    30% {\n",
              "      border-color: transparent;\n",
              "      border-left-color: var(--fill-color);\n",
              "      border-top-color: var(--fill-color);\n",
              "      border-right-color: var(--fill-color);\n",
              "    }\n",
              "    40% {\n",
              "      border-color: transparent;\n",
              "      border-right-color: var(--fill-color);\n",
              "      border-top-color: var(--fill-color);\n",
              "    }\n",
              "    60% {\n",
              "      border-color: transparent;\n",
              "      border-right-color: var(--fill-color);\n",
              "    }\n",
              "    80% {\n",
              "      border-color: transparent;\n",
              "      border-right-color: var(--fill-color);\n",
              "      border-bottom-color: var(--fill-color);\n",
              "    }\n",
              "    90% {\n",
              "      border-color: transparent;\n",
              "      border-bottom-color: var(--fill-color);\n",
              "    }\n",
              "  }\n",
              "</style>\n",
              "\n",
              "      <script>\n",
              "        async function quickchart(key) {\n",
              "          const quickchartButtonEl =\n",
              "            document.querySelector('#' + key + ' button');\n",
              "          quickchartButtonEl.disabled = true;  // To prevent multiple clicks.\n",
              "          quickchartButtonEl.classList.add('colab-df-spinner');\n",
              "          try {\n",
              "            const charts = await google.colab.kernel.invokeFunction(\n",
              "                'suggestCharts', [key], {});\n",
              "          } catch (error) {\n",
              "            console.error('Error during call to suggestCharts:', error);\n",
              "          }\n",
              "          quickchartButtonEl.classList.remove('colab-df-spinner');\n",
              "          quickchartButtonEl.classList.add('colab-df-quickchart-complete');\n",
              "        }\n",
              "        (() => {\n",
              "          let quickchartButtonEl =\n",
              "            document.querySelector('#df-54641c65-2f24-4bef-a044-eab009e403b5 button');\n",
              "          quickchartButtonEl.style.display =\n",
              "            google.colab.kernel.accessAllowed ? 'block' : 'none';\n",
              "        })();\n",
              "      </script>\n",
              "    </div>\n",
              "\n",
              "    </div>\n",
              "  </div>\n"
            ],
            "application/vnd.google.colaboratory.intrinsic+json": {
              "type": "dataframe",
              "variable_name": "df",
              "summary": "{\n  \"name\": \"df\",\n  \"rows\": 324,\n  \"fields\": [\n    {\n      \"column\": \"post\",\n      \"properties\": {\n        \"dtype\": \"string\",\n        \"num_unique_values\": 322,\n        \"samples\": [\n          \"everyone definitely least one memorable place favorite place singapore last year family went singapore batam city ferry take half hour get singapore many beautiful place visited changi airport merlion park masjid sultan garden bay last one universal studio like going holiday singapore street neat different indonesia people organized impressive place singapore opinion jewel changi airport jewel changi airport world highest indoor waterfall beauty artificial waterfall truly enchanting ray sunlight emit ray make location even beautiful beautiful cool come fresh plant surround area one main reason holiday singapore memorable time spent family rare feel togetherness family member life different place like study bandung first brother married settled medan second brother internship jakarta parent moved work batam trip singapore time memorable trip became one favorite place ever visited hope go singapore still go family\",\n          \"kid family trip kepulauan seribu putri island precise vacation stayed around day night spent couple hour arrived since located bit far main land ancol north jakarta putri island become one favorite place spent holiday view comfort experienced staying resort sl wont forgot excitement got several activity swimming upon open sea riding banana boat fishing boat first time ever saw plenty giant monitor lizard common domestic specie long live forget memory shared family island reason cherish early day\",\n          \"one place want visit mentawai island information mentawai island located west sumatra province nears padang city go mentawai island speedboat padang mentawai island beautiful best wave world thats see many tourist outside indonesia come visit mentawai best wave beach mentawai good bali island nice cottage see sunset someone might ask padang also beach still want go mentawai answer simple padang beach ordinary taplau tepi laut zone full culinary place beach painan city even better padang visit painan twice curious mentawai friend told one month mentawai got visit big ship go shopping hangout friend want visit mentawai\"\n        ],\n        \"semantic_type\": \"\",\n        \"description\": \"\"\n      }\n    },\n    {\n      \"column\": \"la_class\",\n      \"properties\": {\n        \"dtype\": \"number\",\n        \"std\": 0,\n        \"min\": 0,\n        \"max\": 1,\n        \"num_unique_values\": 2,\n        \"samples\": [\n          0,\n          1\n        ],\n        \"semantic_type\": \"\",\n        \"description\": \"\"\n      }\n    },\n    {\n      \"column\": \"text_length\",\n      \"properties\": {\n        \"dtype\": \"number\",\n        \"std\": 248,\n        \"min\": 214,\n        \"max\": 1882,\n        \"num_unique_values\": 268,\n        \"samples\": [\n          1355,\n          580\n        ],\n        \"semantic_type\": \"\",\n        \"description\": \"\"\n      }\n    }\n  ]\n}"
            }
          },
          "metadata": {},
          "execution_count": 31
        }
      ]
    },
    {
      "cell_type": "markdown",
      "source": [
        "## Splitting The Dataset Into Train And Test"
      ],
      "metadata": {
        "id": "WbYtTWtf__Uu"
      }
    },
    {
      "cell_type": "code",
      "source": [
        "X_train, X_test, y_train, y_test = train_test_split(df['post'], df['la_class'], test_size = 0.20, stratify = df['la_class'], random_state = 42)"
      ],
      "metadata": {
        "id": "bB6ZftsZwvNH"
      },
      "execution_count": null,
      "outputs": []
    },
    {
      "cell_type": "markdown",
      "source": [
        "## Hyperparameter"
      ],
      "metadata": {
        "id": "JxSiiaMcACWy"
      }
    },
    {
      "cell_type": "code",
      "source": [
        "max_len = 300\n",
        "trunc_type = 'post'\n",
        "padding_type = 'post'\n",
        "oov_tok = '<OOV>'\n",
        "vocab_size = 3000"
      ],
      "metadata": {
        "id": "f-CMGxq0w5G1"
      },
      "execution_count": null,
      "outputs": []
    },
    {
      "cell_type": "markdown",
      "source": [
        "## Tokenizing"
      ],
      "metadata": {
        "id": "BsLDIwZbBGE1"
      }
    },
    {
      "cell_type": "code",
      "source": [
        "tokenizer = Tokenizer(num_words = vocab_size,\n",
        "                      char_level = False,\n",
        "                      oov_token = oov_tok)\n",
        "tokenizer.fit_on_texts(X_train)"
      ],
      "metadata": {
        "id": "-fG9tTCEw749"
      },
      "execution_count": null,
      "outputs": []
    },
    {
      "cell_type": "markdown",
      "source": [
        "## Get The Word Index"
      ],
      "metadata": {
        "id": "lBjhmGVkBO1M"
      }
    },
    {
      "cell_type": "code",
      "source": [
        "word_index = tokenizer.word_index\n",
        "total_words = len(word_index)\n",
        "total_words"
      ],
      "metadata": {
        "id": "e8Dpr2_Yw_jW",
        "colab": {
          "base_uri": "https://localhost:8080/"
        },
        "outputId": "4afbd8ed-cd03-4a0c-eb53-abf403c7bd9f"
      },
      "execution_count": null,
      "outputs": [
        {
          "output_type": "execute_result",
          "data": {
            "text/plain": [
              "4285"
            ]
          },
          "metadata": {},
          "execution_count": 35
        }
      ]
    },
    {
      "cell_type": "markdown",
      "source": [
        "## Creating Train Sequences"
      ],
      "metadata": {
        "id": "wCoy2unOBVOs"
      }
    },
    {
      "cell_type": "code",
      "source": [
        "training_sequences = tokenizer.texts_to_sequences(X_train)\n",
        "training_padded = pad_sequences(training_sequences,\n",
        "                                maxlen = max_len,\n",
        "                                padding = padding_type,\n",
        "                                truncating = trunc_type)"
      ],
      "metadata": {
        "id": "hkne-4DgxBWV"
      },
      "execution_count": null,
      "outputs": []
    },
    {
      "cell_type": "markdown",
      "source": [
        "## Creating Test Sequences"
      ],
      "metadata": {
        "id": "5LFm3Em9BXN7"
      }
    },
    {
      "cell_type": "code",
      "source": [
        "testing_sequences = tokenizer.texts_to_sequences(X_test)\n",
        "testing_padded = pad_sequences(testing_sequences,\n",
        "                               maxlen = max_len,\n",
        "                               padding = padding_type,\n",
        "                               truncating = trunc_type)"
      ],
      "metadata": {
        "id": "45e6YMk2xDBR"
      },
      "execution_count": null,
      "outputs": []
    },
    {
      "cell_type": "code",
      "source": [
        "print('Shape of training tensor: ', training_padded.shape)\n",
        "print('Shape of testing tensor: ', testing_padded.shape)"
      ],
      "metadata": {
        "id": "1_vwJgfUxGBI",
        "colab": {
          "base_uri": "https://localhost:8080/"
        },
        "outputId": "99be0545-93c6-45cd-a943-00d289b466cc"
      },
      "execution_count": null,
      "outputs": [
        {
          "output_type": "stream",
          "name": "stdout",
          "text": [
            "Shape of training tensor:  (259, 300)\n",
            "Shape of testing tensor:  (65, 300)\n"
          ]
        }
      ]
    },
    {
      "cell_type": "markdown",
      "source": [
        "## Dense Architecture"
      ],
      "metadata": {
        "id": "v3gqfyJlBnxS"
      }
    },
    {
      "cell_type": "code",
      "source": [
        "# Menghitung class weights\n",
        "class_weights = class_weight.compute_class_weight('balanced',\n",
        "                                                  classes=np.unique(y_train),\n",
        "                                                  y=y_train)\n",
        "\n",
        "# Definisikan nilai class weights sebagai dictionary\n",
        "class_weight_dict = dict(enumerate(class_weights))\n",
        "class_weight_dict"
      ],
      "metadata": {
        "id": "k2qIzZfK9wl-",
        "colab": {
          "base_uri": "https://localhost:8080/"
        },
        "outputId": "e2a70f86-3b8f-4c58-8c98-025c38f59185"
      },
      "execution_count": null,
      "outputs": [
        {
          "output_type": "execute_result",
          "data": {
            "text/plain": [
              "{0: np.float64(1.639240506329114), 1: np.float64(0.7194444444444444)}"
            ]
          },
          "metadata": {},
          "execution_count": 39
        }
      ]
    },
    {
      "cell_type": "markdown",
      "source": [
        "### Define Paramter"
      ],
      "metadata": {
        "id": "7r6jEQVtBrvz"
      }
    },
    {
      "cell_type": "code",
      "source": [
        "vocab_size = 10000\n",
        "embedding_dim = 100\n",
        "drop_value = 0.2"
      ],
      "metadata": {
        "id": "Bb5eY9hfxHr6"
      },
      "execution_count": null,
      "outputs": []
    },
    {
      "cell_type": "markdown",
      "source": [
        "### Focal Loss"
      ],
      "metadata": {
        "id": "KRL0YZX5IS8p"
      }
    },
    {
      "cell_type": "code",
      "source": [
        "def focal_loss(gamma=2., alpha=0.25):\n",
        "    def focal_loss_fixed(y_true, y_pred):\n",
        "        epsilon = tf.keras.backend.epsilon()\n",
        "        y_pred = tf.keras.backend.clip(y_pred, epsilon, 1. - epsilon)\n",
        "        pt = tf.where(tf.keras.backend.equal(y_true, 1), y_pred, 1 - y_pred)\n",
        "        return -tf.keras.backend.sum(alpha * tf.keras.backend.pow(1. - pt, gamma) * tf.keras.backend.log(pt))\n",
        "\n",
        "    return focal_loss_fixed"
      ],
      "metadata": {
        "id": "IdiLw7pBIUen"
      },
      "execution_count": null,
      "outputs": []
    },
    {
      "cell_type": "markdown",
      "source": [
        "## GRU Architecture"
      ],
      "metadata": {
        "id": "mKwGxBw1gf0c"
      }
    },
    {
      "cell_type": "code",
      "source": [
        "model3 = Sequential()\n",
        "model3.add(Embedding(vocab_size,\n",
        "                     embedding_dim,\n",
        "                     input_length = max_len))\n",
        "model3.add(SpatialDropout1D(0.2))\n",
        "model3.add(GRU(64, return_sequences = True))\n",
        "model3.add(GRU(32, return_sequences = False))\n",
        "model3.add(Dropout(0.2))\n",
        "model3.add(Dense(1, activation = 'sigmoid'))"
      ],
      "metadata": {
        "id": "ux-cqfCu0Sz6",
        "colab": {
          "base_uri": "https://localhost:8080/"
        },
        "outputId": "dae04331-2b7b-4fc2-9e48-0dae239d6f1a"
      },
      "execution_count": null,
      "outputs": [
        {
          "output_type": "stream",
          "name": "stderr",
          "text": [
            "/usr/local/lib/python3.11/dist-packages/keras/src/layers/core/embedding.py:90: UserWarning: Argument `input_length` is deprecated. Just remove it.\n",
            "  warnings.warn(\n"
          ]
        }
      ]
    },
    {
      "cell_type": "code",
      "source": [
        "optimizer = tf.keras.optimizers.AdamW(learning_rate=0.0005, weight_decay=0.01)\n",
        "\n",
        "model3.compile(loss=focal_loss(),\n",
        "               optimizer = optimizer,\n",
        "               metrics = ['accuracy'])"
      ],
      "metadata": {
        "id": "XcqtLkGi0U-2"
      },
      "execution_count": null,
      "outputs": []
    },
    {
      "cell_type": "code",
      "source": [
        "num_epochs = 100\n",
        "early_stop = EarlyStopping(monitor='val_loss', patience=10)\n",
        "history = model3.fit(training_padded,\n",
        "                     y_train,\n",
        "                     epochs=num_epochs,\n",
        "                     validation_data=(testing_padded, y_test),\n",
        "                    #  callbacks =[early_stop],\n",
        "                     verbose=2)"
      ],
      "metadata": {
        "id": "Xyh_cp2U0Yhc",
        "colab": {
          "base_uri": "https://localhost:8080/"
        },
        "outputId": "683088de-06ca-4d61-9f21-e7f2b092e1f7"
      },
      "execution_count": null,
      "outputs": [
        {
          "output_type": "stream",
          "name": "stdout",
          "text": [
            "Epoch 1/100\n",
            "9/9 - 3s - 318ms/step - accuracy: 0.6448 - loss: 1.2983 - val_accuracy: 0.6923 - val_loss: 1.2380\n",
            "Epoch 2/100\n",
            "9/9 - 0s - 29ms/step - accuracy: 0.6950 - loss: 1.2394 - val_accuracy: 0.6923 - val_loss: 1.2485\n",
            "Epoch 3/100\n",
            "9/9 - 0s - 31ms/step - accuracy: 0.6950 - loss: 1.2310 - val_accuracy: 0.6923 - val_loss: 1.2397\n",
            "Epoch 4/100\n",
            "9/9 - 0s - 29ms/step - accuracy: 0.6950 - loss: 1.2430 - val_accuracy: 0.6923 - val_loss: 1.2382\n",
            "Epoch 5/100\n",
            "9/9 - 0s - 33ms/step - accuracy: 0.6950 - loss: 1.2216 - val_accuracy: 0.6923 - val_loss: 1.2380\n",
            "Epoch 6/100\n",
            "9/9 - 0s - 29ms/step - accuracy: 0.6950 - loss: 1.2241 - val_accuracy: 0.6923 - val_loss: 1.2392\n",
            "Epoch 7/100\n",
            "9/9 - 0s - 30ms/step - accuracy: 0.6950 - loss: 1.2196 - val_accuracy: 0.6923 - val_loss: 1.2400\n",
            "Epoch 8/100\n",
            "9/9 - 0s - 29ms/step - accuracy: 0.6950 - loss: 1.2310 - val_accuracy: 0.6923 - val_loss: 1.2386\n",
            "Epoch 9/100\n",
            "9/9 - 0s - 27ms/step - accuracy: 0.6950 - loss: 1.2480 - val_accuracy: 0.6923 - val_loss: 1.2380\n",
            "Epoch 10/100\n",
            "9/9 - 0s - 35ms/step - accuracy: 0.6950 - loss: 1.2274 - val_accuracy: 0.6923 - val_loss: 1.2381\n",
            "Epoch 11/100\n",
            "9/9 - 0s - 34ms/step - accuracy: 0.6950 - loss: 1.2295 - val_accuracy: 0.6923 - val_loss: 1.2385\n",
            "Epoch 12/100\n",
            "9/9 - 0s - 41ms/step - accuracy: 0.6950 - loss: 1.2356 - val_accuracy: 0.6923 - val_loss: 1.2381\n",
            "Epoch 13/100\n",
            "9/9 - 1s - 77ms/step - accuracy: 0.6950 - loss: 1.2463 - val_accuracy: 0.6923 - val_loss: 1.2380\n",
            "Epoch 14/100\n",
            "9/9 - 1s - 62ms/step - accuracy: 0.6950 - loss: 1.2346 - val_accuracy: 0.6923 - val_loss: 1.2381\n",
            "Epoch 15/100\n",
            "9/9 - 1s - 56ms/step - accuracy: 0.6950 - loss: 1.2187 - val_accuracy: 0.6923 - val_loss: 1.2399\n",
            "Epoch 16/100\n",
            "9/9 - 0s - 35ms/step - accuracy: 0.6950 - loss: 1.2287 - val_accuracy: 0.6923 - val_loss: 1.2392\n",
            "Epoch 17/100\n",
            "9/9 - 0s - 33ms/step - accuracy: 0.6950 - loss: 1.2195 - val_accuracy: 0.6923 - val_loss: 1.2388\n",
            "Epoch 18/100\n",
            "9/9 - 0s - 31ms/step - accuracy: 0.6950 - loss: 1.2274 - val_accuracy: 0.6923 - val_loss: 1.2387\n",
            "Epoch 19/100\n",
            "9/9 - 0s - 27ms/step - accuracy: 0.6950 - loss: 1.2345 - val_accuracy: 0.6923 - val_loss: 1.2383\n",
            "Epoch 20/100\n",
            "9/9 - 0s - 32ms/step - accuracy: 0.6950 - loss: 1.2262 - val_accuracy: 0.6923 - val_loss: 1.2383\n",
            "Epoch 21/100\n",
            "9/9 - 0s - 34ms/step - accuracy: 0.6950 - loss: 1.2322 - val_accuracy: 0.6923 - val_loss: 1.2384\n",
            "Epoch 22/100\n",
            "9/9 - 0s - 32ms/step - accuracy: 0.6950 - loss: 1.2329 - val_accuracy: 0.6923 - val_loss: 1.2384\n",
            "Epoch 23/100\n",
            "9/9 - 0s - 32ms/step - accuracy: 0.6950 - loss: 1.2321 - val_accuracy: 0.6923 - val_loss: 1.2387\n",
            "Epoch 24/100\n",
            "9/9 - 0s - 27ms/step - accuracy: 0.6950 - loss: 1.2342 - val_accuracy: 0.6923 - val_loss: 1.2381\n",
            "Epoch 25/100\n",
            "9/9 - 0s - 28ms/step - accuracy: 0.6950 - loss: 1.2354 - val_accuracy: 0.6923 - val_loss: 1.2381\n",
            "Epoch 26/100\n",
            "9/9 - 0s - 34ms/step - accuracy: 0.6950 - loss: 1.2396 - val_accuracy: 0.6923 - val_loss: 1.2380\n",
            "Epoch 27/100\n",
            "9/9 - 0s - 31ms/step - accuracy: 0.6950 - loss: 1.2442 - val_accuracy: 0.6923 - val_loss: 1.2380\n",
            "Epoch 28/100\n",
            "9/9 - 0s - 29ms/step - accuracy: 0.6950 - loss: 1.2352 - val_accuracy: 0.6923 - val_loss: 1.2382\n",
            "Epoch 29/100\n",
            "9/9 - 0s - 33ms/step - accuracy: 0.6950 - loss: 1.2231 - val_accuracy: 0.6923 - val_loss: 1.2387\n",
            "Epoch 30/100\n",
            "9/9 - 0s - 30ms/step - accuracy: 0.6950 - loss: 1.2288 - val_accuracy: 0.6923 - val_loss: 1.2384\n",
            "Epoch 31/100\n",
            "9/9 - 0s - 33ms/step - accuracy: 0.6950 - loss: 1.2293 - val_accuracy: 0.6923 - val_loss: 1.2384\n",
            "Epoch 32/100\n",
            "9/9 - 0s - 35ms/step - accuracy: 0.6950 - loss: 1.2319 - val_accuracy: 0.6923 - val_loss: 1.2383\n",
            "Epoch 33/100\n",
            "9/9 - 0s - 31ms/step - accuracy: 0.6950 - loss: 1.2251 - val_accuracy: 0.6923 - val_loss: 1.2382\n",
            "Epoch 34/100\n",
            "9/9 - 0s - 32ms/step - accuracy: 0.6950 - loss: 1.2345 - val_accuracy: 0.6923 - val_loss: 1.2381\n",
            "Epoch 35/100\n",
            "9/9 - 0s - 29ms/step - accuracy: 0.6950 - loss: 1.2368 - val_accuracy: 0.6923 - val_loss: 1.2381\n",
            "Epoch 36/100\n",
            "9/9 - 0s - 33ms/step - accuracy: 0.6950 - loss: 1.2365 - val_accuracy: 0.6923 - val_loss: 1.2381\n",
            "Epoch 37/100\n",
            "9/9 - 0s - 30ms/step - accuracy: 0.6950 - loss: 1.2307 - val_accuracy: 0.6923 - val_loss: 1.2385\n",
            "Epoch 38/100\n",
            "9/9 - 0s - 33ms/step - accuracy: 0.6950 - loss: 1.2300 - val_accuracy: 0.6923 - val_loss: 1.2385\n",
            "Epoch 39/100\n",
            "9/9 - 0s - 29ms/step - accuracy: 0.6950 - loss: 1.2222 - val_accuracy: 0.6923 - val_loss: 1.2390\n",
            "Epoch 40/100\n",
            "9/9 - 0s - 29ms/step - accuracy: 0.6950 - loss: 1.2294 - val_accuracy: 0.6923 - val_loss: 1.2384\n",
            "Epoch 41/100\n",
            "9/9 - 0s - 30ms/step - accuracy: 0.6950 - loss: 1.2340 - val_accuracy: 0.6923 - val_loss: 1.2381\n",
            "Epoch 42/100\n",
            "9/9 - 0s - 27ms/step - accuracy: 0.6950 - loss: 1.2420 - val_accuracy: 0.6923 - val_loss: 1.2380\n",
            "Epoch 43/100\n",
            "9/9 - 0s - 29ms/step - accuracy: 0.6950 - loss: 1.2243 - val_accuracy: 0.6923 - val_loss: 1.2386\n",
            "Epoch 44/100\n",
            "9/9 - 0s - 31ms/step - accuracy: 0.6950 - loss: 1.2180 - val_accuracy: 0.6923 - val_loss: 1.2399\n",
            "Epoch 45/100\n",
            "9/9 - 0s - 33ms/step - accuracy: 0.6950 - loss: 1.2250 - val_accuracy: 0.6923 - val_loss: 1.2391\n",
            "Epoch 46/100\n",
            "9/9 - 0s - 34ms/step - accuracy: 0.6950 - loss: 1.2249 - val_accuracy: 0.6923 - val_loss: 1.2383\n",
            "Epoch 47/100\n",
            "9/9 - 0s - 28ms/step - accuracy: 0.6950 - loss: 1.2242 - val_accuracy: 0.6923 - val_loss: 1.2382\n",
            "Epoch 48/100\n",
            "9/9 - 0s - 32ms/step - accuracy: 0.6950 - loss: 1.2336 - val_accuracy: 0.6923 - val_loss: 1.2383\n",
            "Epoch 49/100\n",
            "9/9 - 0s - 44ms/step - accuracy: 0.6950 - loss: 1.2271 - val_accuracy: 0.6923 - val_loss: 1.2385\n",
            "Epoch 50/100\n",
            "9/9 - 1s - 69ms/step - accuracy: 0.6950 - loss: 1.2347 - val_accuracy: 0.6923 - val_loss: 1.2381\n",
            "Epoch 51/100\n",
            "9/9 - 1s - 70ms/step - accuracy: 0.6950 - loss: 1.2249 - val_accuracy: 0.6923 - val_loss: 1.2384\n",
            "Epoch 52/100\n",
            "9/9 - 1s - 60ms/step - accuracy: 0.6950 - loss: 1.2250 - val_accuracy: 0.6923 - val_loss: 1.2385\n",
            "Epoch 53/100\n",
            "9/9 - 0s - 32ms/step - accuracy: 0.6950 - loss: 1.2360 - val_accuracy: 0.6923 - val_loss: 1.2386\n",
            "Epoch 54/100\n",
            "9/9 - 0s - 30ms/step - accuracy: 0.6950 - loss: 1.2292 - val_accuracy: 0.6923 - val_loss: 1.2384\n",
            "Epoch 55/100\n",
            "9/9 - 0s - 28ms/step - accuracy: 0.6950 - loss: 1.2288 - val_accuracy: 0.6923 - val_loss: 1.2384\n",
            "Epoch 56/100\n",
            "9/9 - 0s - 33ms/step - accuracy: 0.6950 - loss: 1.2427 - val_accuracy: 0.6923 - val_loss: 1.2383\n",
            "Epoch 57/100\n",
            "9/9 - 0s - 29ms/step - accuracy: 0.6950 - loss: 1.2323 - val_accuracy: 0.6923 - val_loss: 1.2383\n",
            "Epoch 58/100\n",
            "9/9 - 0s - 30ms/step - accuracy: 0.6950 - loss: 1.2228 - val_accuracy: 0.6923 - val_loss: 1.2387\n",
            "Epoch 59/100\n",
            "9/9 - 0s - 27ms/step - accuracy: 0.6950 - loss: 1.2355 - val_accuracy: 0.6923 - val_loss: 1.2383\n",
            "Epoch 60/100\n",
            "9/9 - 0s - 33ms/step - accuracy: 0.6950 - loss: 1.2200 - val_accuracy: 0.6923 - val_loss: 1.2385\n",
            "Epoch 61/100\n",
            "9/9 - 0s - 28ms/step - accuracy: 0.6950 - loss: 1.2281 - val_accuracy: 0.6923 - val_loss: 1.2390\n",
            "Epoch 62/100\n",
            "9/9 - 0s - 32ms/step - accuracy: 0.6950 - loss: 1.2259 - val_accuracy: 0.6923 - val_loss: 1.2388\n",
            "Epoch 63/100\n",
            "9/9 - 0s - 30ms/step - accuracy: 0.6950 - loss: 1.2347 - val_accuracy: 0.6923 - val_loss: 1.2382\n",
            "Epoch 64/100\n",
            "9/9 - 0s - 29ms/step - accuracy: 0.6950 - loss: 1.2210 - val_accuracy: 0.6923 - val_loss: 1.2385\n",
            "Epoch 65/100\n",
            "9/9 - 0s - 30ms/step - accuracy: 0.6950 - loss: 1.2286 - val_accuracy: 0.6923 - val_loss: 1.2386\n",
            "Epoch 66/100\n",
            "9/9 - 0s - 30ms/step - accuracy: 0.6950 - loss: 1.2311 - val_accuracy: 0.6923 - val_loss: 1.2383\n",
            "Epoch 67/100\n",
            "9/9 - 0s - 35ms/step - accuracy: 0.6950 - loss: 1.2308 - val_accuracy: 0.6923 - val_loss: 1.2383\n",
            "Epoch 68/100\n",
            "9/9 - 0s - 30ms/step - accuracy: 0.6950 - loss: 1.2303 - val_accuracy: 0.6923 - val_loss: 1.2381\n",
            "Epoch 69/100\n",
            "9/9 - 0s - 27ms/step - accuracy: 0.6950 - loss: 1.2318 - val_accuracy: 0.6923 - val_loss: 1.2383\n",
            "Epoch 70/100\n",
            "9/9 - 0s - 29ms/step - accuracy: 0.6950 - loss: 1.2253 - val_accuracy: 0.6923 - val_loss: 1.2389\n",
            "Epoch 71/100\n",
            "9/9 - 0s - 27ms/step - accuracy: 0.6950 - loss: 1.2386 - val_accuracy: 0.6923 - val_loss: 1.2383\n",
            "Epoch 72/100\n",
            "9/9 - 0s - 28ms/step - accuracy: 0.6950 - loss: 1.2272 - val_accuracy: 0.6923 - val_loss: 1.2385\n",
            "Epoch 73/100\n",
            "9/9 - 0s - 27ms/step - accuracy: 0.6950 - loss: 1.2263 - val_accuracy: 0.6923 - val_loss: 1.2385\n",
            "Epoch 74/100\n",
            "9/9 - 0s - 27ms/step - accuracy: 0.6950 - loss: 1.2230 - val_accuracy: 0.6923 - val_loss: 1.2386\n",
            "Epoch 75/100\n",
            "9/9 - 0s - 27ms/step - accuracy: 0.6950 - loss: 1.2314 - val_accuracy: 0.6923 - val_loss: 1.2382\n",
            "Epoch 76/100\n",
            "9/9 - 0s - 31ms/step - accuracy: 0.6950 - loss: 1.2285 - val_accuracy: 0.6923 - val_loss: 1.2382\n",
            "Epoch 77/100\n",
            "9/9 - 0s - 27ms/step - accuracy: 0.6950 - loss: 1.2317 - val_accuracy: 0.6923 - val_loss: 1.2381\n",
            "Epoch 78/100\n",
            "9/9 - 0s - 30ms/step - accuracy: 0.6950 - loss: 1.2131 - val_accuracy: 0.6923 - val_loss: 1.2387\n",
            "Epoch 79/100\n",
            "9/9 - 0s - 30ms/step - accuracy: 0.6950 - loss: 1.2309 - val_accuracy: 0.6923 - val_loss: 1.2387\n",
            "Epoch 80/100\n",
            "9/9 - 0s - 29ms/step - accuracy: 0.6950 - loss: 1.2194 - val_accuracy: 0.6923 - val_loss: 1.2388\n",
            "Epoch 81/100\n",
            "9/9 - 0s - 34ms/step - accuracy: 0.6950 - loss: 1.2300 - val_accuracy: 0.6923 - val_loss: 1.2385\n",
            "Epoch 82/100\n",
            "9/9 - 0s - 34ms/step - accuracy: 0.6950 - loss: 1.2376 - val_accuracy: 0.6923 - val_loss: 1.2381\n",
            "Epoch 83/100\n",
            "9/9 - 0s - 29ms/step - accuracy: 0.6950 - loss: 1.2498 - val_accuracy: 0.6923 - val_loss: 1.2380\n",
            "Epoch 84/100\n",
            "9/9 - 0s - 29ms/step - accuracy: 0.6950 - loss: 1.2364 - val_accuracy: 0.6923 - val_loss: 1.2380\n",
            "Epoch 85/100\n",
            "9/9 - 0s - 29ms/step - accuracy: 0.6950 - loss: 1.2348 - val_accuracy: 0.6923 - val_loss: 1.2380\n",
            "Epoch 86/100\n",
            "9/9 - 0s - 31ms/step - accuracy: 0.6950 - loss: 1.2278 - val_accuracy: 0.6923 - val_loss: 1.2383\n",
            "Epoch 87/100\n",
            "9/9 - 0s - 35ms/step - accuracy: 0.6950 - loss: 1.2233 - val_accuracy: 0.6923 - val_loss: 1.2386\n",
            "Epoch 88/100\n",
            "9/9 - 0s - 43ms/step - accuracy: 0.6950 - loss: 1.2206 - val_accuracy: 0.6923 - val_loss: 1.2384\n",
            "Epoch 89/100\n",
            "9/9 - 1s - 69ms/step - accuracy: 0.6950 - loss: 1.2302 - val_accuracy: 0.6923 - val_loss: 1.2383\n",
            "Epoch 90/100\n",
            "9/9 - 1s - 69ms/step - accuracy: 0.6950 - loss: 1.2312 - val_accuracy: 0.6923 - val_loss: 1.2382\n",
            "Epoch 91/100\n",
            "9/9 - 1s - 61ms/step - accuracy: 0.6950 - loss: 1.2316 - val_accuracy: 0.6923 - val_loss: 1.2384\n",
            "Epoch 92/100\n",
            "9/9 - 0s - 29ms/step - accuracy: 0.6950 - loss: 1.2274 - val_accuracy: 0.6923 - val_loss: 1.2385\n",
            "Epoch 93/100\n",
            "9/9 - 0s - 32ms/step - accuracy: 0.6950 - loss: 1.2326 - val_accuracy: 0.6923 - val_loss: 1.2382\n",
            "Epoch 94/100\n",
            "9/9 - 0s - 36ms/step - accuracy: 0.6950 - loss: 1.2291 - val_accuracy: 0.6923 - val_loss: 1.2383\n",
            "Epoch 95/100\n",
            "9/9 - 0s - 28ms/step - accuracy: 0.6950 - loss: 1.2287 - val_accuracy: 0.6923 - val_loss: 1.2383\n",
            "Epoch 96/100\n",
            "9/9 - 0s - 34ms/step - accuracy: 0.6950 - loss: 1.2269 - val_accuracy: 0.6923 - val_loss: 1.2384\n",
            "Epoch 97/100\n",
            "9/9 - 0s - 27ms/step - accuracy: 0.6950 - loss: 1.2227 - val_accuracy: 0.6923 - val_loss: 1.2383\n",
            "Epoch 98/100\n",
            "9/9 - 0s - 34ms/step - accuracy: 0.6950 - loss: 1.2255 - val_accuracy: 0.6923 - val_loss: 1.2385\n",
            "Epoch 99/100\n",
            "9/9 - 0s - 27ms/step - accuracy: 0.6950 - loss: 1.2305 - val_accuracy: 0.6923 - val_loss: 1.2382\n",
            "Epoch 100/100\n",
            "9/9 - 0s - 33ms/step - accuracy: 0.6950 - loss: 1.2288 - val_accuracy: 0.6923 - val_loss: 1.2385\n"
          ]
        }
      ]
    },
    {
      "cell_type": "code",
      "source": [
        "plt.plot(history.history['accuracy'], label='Train Accuracy')\n",
        "plt.plot(history.history['val_accuracy'], label='Validation Accuracy')\n",
        "plt.title('GRU Model: Training and Validation Accuracy')\n",
        "plt.ylabel('Accuracy')\n",
        "plt.xlabel('Epoch')\n",
        "plt.legend(loc='upper left')\n",
        "plt.show()"
      ],
      "metadata": {
        "id": "LtcVLdjqUGop",
        "colab": {
          "base_uri": "https://localhost:8080/",
          "height": 472
        },
        "outputId": "e358b229-5adc-4e07-89fb-94e19b89dee1"
      },
      "execution_count": null,
      "outputs": [
        {
          "output_type": "display_data",
          "data": {
            "text/plain": [
              "<Figure size 640x480 with 1 Axes>"
            ],
            "image/png": "[encoded data removed]"
          },
          "metadata": {}
        }
      ]
    },
    {
      "cell_type": "code",
      "source": [
        "plt.plot(history.history['loss'])\n",
        "plt.plot(history.history['val_loss'])\n",
        "plt.title('GRU Model: Training and Validation Loss')\n",
        "plt.ylabel('Loss')\n",
        "plt.xlabel('Epoch')\n",
        "plt.legend(['Train', 'Validation'], loc='upper left')\n",
        "plt.show()"
      ],
      "metadata": {
        "id": "WeyFgq7C0uQj",
        "colab": {
          "base_uri": "https://localhost:8080/",
          "height": 472
        },
        "outputId": "3c88831a-f7c2-4c19-9a0e-dc95808fbfb4"
      },
      "execution_count": null,
      "outputs": [
        {
          "output_type": "display_data",
          "data": {
            "text/plain": [
              "<Figure size 640x480 with 1 Axes>"
            ],
            "image/png": "[encoded data removed]"
          },
          "metadata": {}
        }
      ]
    },
    {
      "cell_type": "code",
      "source": [
        "from sklearn.metrics import classification_report\n",
        "\n",
        "# Prediksi probabilitas\n",
        "y_pred_prob = model3.predict(testing_padded)\n",
        "\n",
        "# Mengubah probabilitas menjadi kelas biner\n",
        "y_pred_binary = (y_pred_prob > 0.5).astype(int)\n",
        "\n",
        "# Tampilkan classification report\n",
        "print(classification_report(y_test, y_pred_binary))"
      ],
      "metadata": {
        "id": "0-XSLha4A4OY",
        "colab": {
          "base_uri": "https://localhost:8080/"
        },
        "outputId": "ed3a954e-d149-4ca3-ba1f-0c93594235e9"
      },
      "execution_count": null,
      "outputs": [
        {
          "output_type": "stream",
          "name": "stdout",
          "text": [
            "\u001b[1m3/3\u001b[0m \u001b[32m━━━━━━━━━━━━━━━━━━━━\u001b[0m\u001b[37m\u001b[0m \u001b[1m0s\u001b[0m 81ms/step\n",
            "              precision    recall  f1-score   support\n",
            "\n",
            "           0       0.00      0.00      0.00        20\n",
            "           1       0.69      1.00      0.82        45\n",
            "\n",
            "    accuracy                           0.69        65\n",
            "   macro avg       0.35      0.50      0.41        65\n",
            "weighted avg       0.48      0.69      0.57        65\n",
            "\n"
          ]
        },
        {
          "output_type": "stream",
          "name": "stderr",
          "text": [
            "/usr/local/lib/python3.11/dist-packages/sklearn/metrics/_classification.py:1565: UndefinedMetricWarning: Precision is ill-defined and being set to 0.0 in labels with no predicted samples. Use `zero_division` parameter to control this behavior.\n",
            "  _warn_prf(average, modifier, f\"{metric.capitalize()} is\", len(result))\n",
            "/usr/local/lib/python3.11/dist-packages/sklearn/metrics/_classification.py:1565: UndefinedMetricWarning: Precision is ill-defined and being set to 0.0 in labels with no predicted samples. Use `zero_division` parameter to control this behavior.\n",
            "  _warn_prf(average, modifier, f\"{metric.capitalize()} is\", len(result))\n",
            "/usr/local/lib/python3.11/dist-packages/sklearn/metrics/_classification.py:1565: UndefinedMetricWarning: Precision is ill-defined and being set to 0.0 in labels with no predicted samples. Use `zero_division` parameter to control this behavior.\n",
            "  _warn_prf(average, modifier, f\"{metric.capitalize()} is\", len(result))\n"
          ]
        }
      ]
    }
  ]
}