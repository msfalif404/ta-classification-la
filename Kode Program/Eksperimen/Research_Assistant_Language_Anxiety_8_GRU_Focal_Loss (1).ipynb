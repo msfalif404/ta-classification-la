{
  "nbformat": 4,
  "nbformat_minor": 0,
  "metadata": {
    "colab": {
      "provenance": [],
      "gpuType": "T4"
    },
    "kernelspec": {
      "name": "python3",
      "display_name": "Python 3"
    },
    "language_info": {
      "name": "python"
    },
    "accelerator": "GPU"
  },
  "cells": [
    {
      "cell_type": "markdown",
      "source": [
        "# Text Classification: Language Anxiety"
      ],
      "metadata": {
        "id": "Hn6Sp1gN_HH6"
      }
    },
    {
      "cell_type": "markdown",
      "source": [
        "## Importing Library"
      ],
      "metadata": {
        "id": "S3MPDHn4_LMr"
      }
    },
    {
      "cell_type": "code",
      "execution_count": null,
      "metadata": {
        "id": "4UnOxFgzvRIO"
      },
      "outputs": [],
      "source": [
        "import numpy as np\n",
        "import pandas as pd\n",
        "import matplotlib.pyplot as plt\n",
        "import seaborn as sns\n",
        "\n",
        "from sklearn.preprocessing import LabelEncoder\n",
        "from sklearn.model_selection import train_test_split, RandomizedSearchCV\n",
        "\n",
        "import tensorflow as tf\n",
        "from tensorflow.keras.preprocessing.text import Tokenizer\n",
        "from tensorflow.keras.preprocessing.sequence import pad_sequences\n",
        "from tensorflow.keras.callbacks import EarlyStopping, ModelCheckpoint\n",
        "\n",
        "from tensorflow.keras.models import Sequential\n",
        "from tensorflow.keras.layers import Dense, LSTM, GRU, Bidirectional, Embedding, Dropout, GlobalAveragePooling1D, Flatten, SpatialDropout1D\n",
        "\n",
        "from tensorflow.keras.optimizers import AdamW\n",
        "from sklearn.utils import shuffle\n",
        "\n",
        "import keras\n",
        "\n",
        "from sklearn.utils import class_weight\n",
        "from sklearn.metrics import f1_score\n",
        "\n",
        "import random"
      ]
    },
    {
      "cell_type": "code",
      "source": [
        "# Set random seed for reproducibility\n",
        "seed = 1945\n",
        "np.random.seed(seed)\n",
        "tf.random.set_seed(seed)\n",
        "random.seed(seed)"
      ],
      "metadata": {
        "id": "PaUixVM_Kb_q"
      },
      "execution_count": null,
      "outputs": []
    },
    {
      "cell_type": "markdown",
      "source": [
        "## Reading The Dataset"
      ],
      "metadata": {
        "id": "pg1FVcrW_O-t"
      }
    },
    {
      "cell_type": "code",
      "source": [
        "df = pd.read_excel('/content/dataset_2class_better.xlsx')\n",
        "# df = df[df['is_ai_generated_label'] == 0]\n",
        "df = df[[\"Post\", \"LA Class\"]]\n",
        "\n",
        "# Pisahkan kelas anxiety\n",
        "# df_anxiety = df[df[\"LA Class\"] == \"Anxiety\"]\n",
        "# df_no_anxiety = df[df[\"LA Class\"] == \"No Anxiety\"]\n",
        "\n",
        "# Sampling data anxiety supaya jadi sekitar 60 baris\n",
        "# df_anxiety_sampled = df_anxiety.sample(n=150, random_state=42)  # Random sampling 60 baris\n",
        "\n",
        "# Gabungkan kembali data yang sudah disampling\n",
        "# df = pd.concat([df_anxiety_sampled, df_no_anxiety], ignore_index=True)\n",
        "\n",
        "df.head()"
      ],
      "metadata": {
        "colab": {
          "base_uri": "https://localhost:8080/",
          "height": 206
        },
        "id": "Q-MegjxuwH7t",
        "outputId": "66e8c27b-20f9-4ca4-e214-45952eb87f38"
      },
      "execution_count": null,
      "outputs": [
        {
          "output_type": "execute_result",
          "data": {
            "text/plain": [
              "                                                Post    LA Class\n",
              "0  The place I've been to that I love and always ...     Anxiety\n",
              "1  My favorite place is Hat Yai in Thailand, spec...     Anxiety\n",
              "2  One of my favorite places that i have been vis...  No Anxiety\n",
              "3  When I was in 6th grade, I went on a vacation ...     Anxiety\n",
              "4  My favorite place is Bali, I like Bali so much...     Anxiety"
            ],
            "text/html": [
              "\n",
              "  <div id=\"df-441d25a3-0f87-4900-9e48-6e095ca0e860\" class=\"colab-df-container\">\n",
              "    <div>\n",
              "<style scoped>\n",
              "    .dataframe tbody tr th:only-of-type {\n",
              "        vertical-align: middle;\n",
              "    }\n",
              "\n",
              "    .dataframe tbody tr th {\n",
              "        vertical-align: top;\n",
              "    }\n",
              "\n",
              "    .dataframe thead th {\n",
              "        text-align: right;\n",
              "    }\n",
              "</style>\n",
              "<table border=\"1\" class=\"dataframe\">\n",
              "  <thead>\n",
              "    <tr style=\"text-align: right;\">\n",
              "      <th></th>\n",
              "      <th>Post</th>\n",
              "      <th>LA Class</th>\n",
              "    </tr>\n",
              "  </thead>\n",
              "  <tbody>\n",
              "    <tr>\n",
              "      <th>0</th>\n",
              "      <td>The place I've been to that I love and always ...</td>\n",
              "      <td>Anxiety</td>\n",
              "    </tr>\n",
              "    <tr>\n",
              "      <th>1</th>\n",
              "      <td>My favorite place is Hat Yai in Thailand, spec...</td>\n",
              "      <td>Anxiety</td>\n",
              "    </tr>\n",
              "    <tr>\n",
              "      <th>2</th>\n",
              "      <td>One of my favorite places that i have been vis...</td>\n",
              "      <td>No Anxiety</td>\n",
              "    </tr>\n",
              "    <tr>\n",
              "      <th>3</th>\n",
              "      <td>When I was in 6th grade, I went on a vacation ...</td>\n",
              "      <td>Anxiety</td>\n",
              "    </tr>\n",
              "    <tr>\n",
              "      <th>4</th>\n",
              "      <td>My favorite place is Bali, I like Bali so much...</td>\n",
              "      <td>Anxiety</td>\n",
              "    </tr>\n",
              "  </tbody>\n",
              "</table>\n",
              "</div>\n",
              "    <div class=\"colab-df-buttons\">\n",
              "\n",
              "  <div class=\"colab-df-container\">\n",
              "    <button class=\"colab-df-convert\" onclick=\"convertToInteractive('df-441d25a3-0f87-4900-9e48-6e095ca0e860')\"\n",
              "            title=\"Convert this dataframe to an interactive table.\"\n",
              "            style=\"display:none;\">\n",
              "\n",
              "  <svg xmlns=\"http://www.w3.org/2000/svg\" height=\"24px\" viewBox=\"0 -960 960 960\">\n",
              "    <path d=\"M120-120v-720h720v720H120Zm60-500h600v-160H180v160Zm220 220h160v-160H400v160Zm0 220h160v-160H400v160ZM180-400h160v-160H180v160Zm440 0h160v-160H620v160ZM180-180h160v-160H180v160Zm440 0h160v-160H620v160Z\"/>\n",
              "  </svg>\n",
              "    </button>\n",
              "\n",
              "  <style>\n",
              "    .colab-df-container {\n",
              "      display:flex;\n",
              "      gap: 12px;\n",
              "    }\n",
              "\n",
              "    .colab-df-convert {\n",
              "      background-color: #E8F0FE;\n",
              "      border: none;\n",
              "      border-radius: 50%;\n",
              "      cursor: pointer;\n",
              "      display: none;\n",
              "      fill: #1967D2;\n",
              "      height: 32px;\n",
              "      padding: 0 0 0 0;\n",
              "      width: 32px;\n",
              "    }\n",
              "\n",
              "    .colab-df-convert:hover {\n",
              "      background-color: #E2EBFA;\n",
              "      box-shadow: 0px 1px 2px rgba(60, 64, 67, 0.3), 0px 1px 3px 1px rgba(60, 64, 67, 0.15);\n",
              "      fill: #174EA6;\n",
              "    }\n",
              "\n",
              "    .colab-df-buttons div {\n",
              "      margin-bottom: 4px;\n",
              "    }\n",
              "\n",
              "    [theme=dark] .colab-df-convert {\n",
              "      background-color: #3B4455;\n",
              "      fill: #D2E3FC;\n",
              "    }\n",
              "\n",
              "    [theme=dark] .colab-df-convert:hover {\n",
              "      background-color: #434B5C;\n",
              "      box-shadow: 0px 1px 3px 1px rgba(0, 0, 0, 0.15);\n",
              "      filter: drop-shadow(0px 1px 2px rgba(0, 0, 0, 0.3));\n",
              "      fill: #FFFFFF;\n",
              "    }\n",
              "  </style>\n",
              "\n",
              "    <script>\n",
              "      const buttonEl =\n",
              "        document.querySelector('#df-441d25a3-0f87-4900-9e48-6e095ca0e860 button.colab-df-convert');\n",
              "      buttonEl.style.display =\n",
              "        google.colab.kernel.accessAllowed ? 'block' : 'none';\n",
              "\n",
              "      async function convertToInteractive(key) {\n",
              "        const element = document.querySelector('#df-441d25a3-0f87-4900-9e48-6e095ca0e860');\n",
              "        const dataTable =\n",
              "          await google.colab.kernel.invokeFunction('convertToInteractive',\n",
              "                                                    [key], {});\n",
              "        if (!dataTable) return;\n",
              "\n",
              "        const docLinkHtml = 'Like what you see? Visit the ' +\n",
              "          '<a target=\"_blank\" href=https://colab.research.google.com/notebooks/data_table.ipynb>data table notebook</a>'\n",
              "          + ' to learn more about interactive tables.';\n",
              "        element.innerHTML = '';\n",
              "        dataTable['output_type'] = 'display_data';\n",
              "        await google.colab.output.renderOutput(dataTable, element);\n",
              "        const docLink = document.createElement('div');\n",
              "        docLink.innerHTML = docLinkHtml;\n",
              "        element.appendChild(docLink);\n",
              "      }\n",
              "    </script>\n",
              "  </div>\n",
              "\n",
              "\n",
              "    <div id=\"df-50eccd62-216c-449d-a0d1-b212ea2013ec\">\n",
              "      <button class=\"colab-df-quickchart\" onclick=\"quickchart('df-50eccd62-216c-449d-a0d1-b212ea2013ec')\"\n",
              "                title=\"Suggest charts\"\n",
              "                style=\"display:none;\">\n",
              "\n",
              "<svg xmlns=\"http://www.w3.org/2000/svg\" height=\"24px\"viewBox=\"0 0 24 24\"\n",
              "     width=\"24px\">\n",
              "    <g>\n",
              "        <path d=\"M19 3H5c-1.1 0-2 .9-2 2v14c0 1.1.9 2 2 2h14c1.1 0 2-.9 2-2V5c0-1.1-.9-2-2-2zM9 17H7v-7h2v7zm4 0h-2V7h2v10zm4 0h-2v-4h2v4z\"/>\n",
              "    </g>\n",
              "</svg>\n",
              "      </button>\n",
              "\n",
              "<style>\n",
              "  .colab-df-quickchart {\n",
              "      --bg-color: #E8F0FE;\n",
              "      --fill-color: #1967D2;\n",
              "      --hover-bg-color: #E2EBFA;\n",
              "      --hover-fill-color: #174EA6;\n",
              "      --disabled-fill-color: #AAA;\n",
              "      --disabled-bg-color: #DDD;\n",
              "  }\n",
              "\n",
              "  [theme=dark] .colab-df-quickchart {\n",
              "      --bg-color: #3B4455;\n",
              "      --fill-color: #D2E3FC;\n",
              "      --hover-bg-color: #434B5C;\n",
              "      --hover-fill-color: #FFFFFF;\n",
              "      --disabled-bg-color: #3B4455;\n",
              "      --disabled-fill-color: #666;\n",
              "  }\n",
              "\n",
              "  .colab-df-quickchart {\n",
              "    background-color: var(--bg-color);\n",
              "    border: none;\n",
              "    border-radius: 50%;\n",
              "    cursor: pointer;\n",
              "    display: none;\n",
              "    fill: var(--fill-color);\n",
              "    height: 32px;\n",
              "    padding: 0;\n",
              "    width: 32px;\n",
              "  }\n",
              "\n",
              "  .colab-df-quickchart:hover {\n",
              "    background-color: var(--hover-bg-color);\n",
              "    box-shadow: 0 1px 2px rgba(60, 64, 67, 0.3), 0 1px 3px 1px rgba(60, 64, 67, 0.15);\n",
              "    fill: var(--button-hover-fill-color);\n",
              "  }\n",
              "\n",
              "  .colab-df-quickchart-complete:disabled,\n",
              "  .colab-df-quickchart-complete:disabled:hover {\n",
              "    background-color: var(--disabled-bg-color);\n",
              "    fill: var(--disabled-fill-color);\n",
              "    box-shadow: none;\n",
              "  }\n",
              "\n",
              "  .colab-df-spinner {\n",
              "    border: 2px solid var(--fill-color);\n",
              "    border-color: transparent;\n",
              "    border-bottom-color: var(--fill-color);\n",
              "    animation:\n",
              "      spin 1s steps(1) infinite;\n",
              "  }\n",
              "\n",
              "  @keyframes spin {\n",
              "    0% {\n",
              "      border-color: transparent;\n",
              "      border-bottom-color: var(--fill-color);\n",
              "      border-left-color: var(--fill-color);\n",
              "    }\n",
              "    20% {\n",
              "      border-color: transparent;\n",
              "      border-left-color: var(--fill-color);\n",
              "      border-top-color: var(--fill-color);\n",
              "    }\n",
              "    30% {\n",
              "      border-color: transparent;\n",
              "      border-left-color: var(--fill-color);\n",
              "      border-top-color: var(--fill-color);\n",
              "      border-right-color: var(--fill-color);\n",
              "    }\n",
              "    40% {\n",
              "      border-color: transparent;\n",
              "      border-right-color: var(--fill-color);\n",
              "      border-top-color: var(--fill-color);\n",
              "    }\n",
              "    60% {\n",
              "      border-color: transparent;\n",
              "      border-right-color: var(--fill-color);\n",
              "    }\n",
              "    80% {\n",
              "      border-color: transparent;\n",
              "      border-right-color: var(--fill-color);\n",
              "      border-bottom-color: var(--fill-color);\n",
              "    }\n",
              "    90% {\n",
              "      border-color: transparent;\n",
              "      border-bottom-color: var(--fill-color);\n",
              "    }\n",
              "  }\n",
              "</style>\n",
              "\n",
              "      <script>\n",
              "        async function quickchart(key) {\n",
              "          const quickchartButtonEl =\n",
              "            document.querySelector('#' + key + ' button');\n",
              "          quickchartButtonEl.disabled = true;  // To prevent multiple clicks.\n",
              "          quickchartButtonEl.classList.add('colab-df-spinner');\n",
              "          try {\n",
              "            const charts = await google.colab.kernel.invokeFunction(\n",
              "                'suggestCharts', [key], {});\n",
              "          } catch (error) {\n",
              "            console.error('Error during call to suggestCharts:', error);\n",
              "          }\n",
              "          quickchartButtonEl.classList.remove('colab-df-spinner');\n",
              "          quickchartButtonEl.classList.add('colab-df-quickchart-complete');\n",
              "        }\n",
              "        (() => {\n",
              "          let quickchartButtonEl =\n",
              "            document.querySelector('#df-50eccd62-216c-449d-a0d1-b212ea2013ec button');\n",
              "          quickchartButtonEl.style.display =\n",
              "            google.colab.kernel.accessAllowed ? 'block' : 'none';\n",
              "        })();\n",
              "      </script>\n",
              "    </div>\n",
              "\n",
              "    </div>\n",
              "  </div>\n"
            ],
            "application/vnd.google.colaboratory.intrinsic+json": {
              "type": "dataframe",
              "variable_name": "df",
              "summary": "{\n  \"name\": \"df\",\n  \"rows\": 324,\n  \"fields\": [\n    {\n      \"column\": \"Post\",\n      \"properties\": {\n        \"dtype\": \"string\",\n        \"num_unique_values\": 322,\n        \"samples\": [\n          \"Everyone definitely has at least one most memorable place. My favorite place is Singapore. Last year, I and my family went to Singapore from Batam City by ferry. It only takes half an hour to get to Singapore. There was so many beautiful places that we visited, such as Changi Airport, Merlion Park, Masjid Sultan, Garden by the Bay, and the last one is Universal Studio. I like going on holiday to Singapore because the streets are neat, which is so different from Indonesia and the people are very organized.The most impressive place in Singapore in my opinion is Jewel Changi Airport. Jewel Changi Airport has the world's highest indoor waterfall. The beauty of this artificial waterfall is truly enchanting, the rays of sunlight that emit its rays make this location even more beautiful. Beautiful & cool comes from the fresh plants that surround this area.One of the main reasons my holiday to Singapore was so memorable was the time I spent with my family. It's rare for me to feel this togetherness because each of my family member lives in a different place. Like me, who had to study in Bandung, my first brother who was married and settled in Medan, my second brother who had an internship in Jakarta, and my parents who moved to work in Batam. That's why my trip to Singapore at this time was the most memorable trip and became one of my favorite places I have ever visited. I hope I can go to Singapore again and still go with my family.\",\n          \"When i was a kid, me and my family had a trip to Kepulauan Seribu, which is Putri Island to be precise on our vacation. We stayed around for 3 days/2 nights. We spent about couple hours to arrived there since it's located a bit far from the main land \\u00a0of Ancol, North Jakarta. Putri Island have become one of my favorite place to spent my holidays in because of it views and comfort i've experienced from staying in its resort. Sl on, I wont forgot the excitements i've got from doing several activities such as swimming upon an open sea, riding the banana boat, and fishing on a boat. For the first time ever I saw plenty of giant monitor lizards, which is a common domestic species there. As long as i live, i won't forget the memories i've shared with my family on that island, because of that... i have a reason to cherish my early days.\",\n          \"One of the place that i want to visit is Mentawai Island. For information, Mentawai Island is located at West Sumatra Province. It nears from Padang City. You can go to Mentawai Island with speedboat from Padang. Mentawai Island is beautiful. They have the best wave in the world. Thats why we can see many tourist outside Indonesia come to visit Mentawai. Not only the best wave, the beaches in Mentawai is very good, same as in Bali Island. They have a nice cottage too. You can see the sunset from there. Someone might ask ''Padang also have a beach. Why do you still want to go to Mentawai?\\\" The answer is simple, Padang's beaches are just ordinary. The Taplau (Tepi Laut) zone is full of culinary place. The beaches in Painan City even better than Padang. But i had visit Painan twice. So, i am very curious about Mentawai. My friend had told me that in one month, Mentawai got visit by a big ship. You can go there for shopping and hangout with friends. That's why i want visit Mentawai.\"\n        ],\n        \"semantic_type\": \"\",\n        \"description\": \"\"\n      }\n    },\n    {\n      \"column\": \"LA Class\",\n      \"properties\": {\n        \"dtype\": \"category\",\n        \"num_unique_values\": 2,\n        \"samples\": [\n          \"No Anxiety\",\n          \"Anxiety\"\n        ],\n        \"semantic_type\": \"\",\n        \"description\": \"\"\n      }\n    }\n  ]\n}"
            }
          },
          "metadata": {},
          "execution_count": 431
        }
      ]
    },
    {
      "cell_type": "markdown",
      "source": [
        "## Checking Class Distribution"
      ],
      "metadata": {
        "id": "iEJSfwzq_Qua"
      }
    },
    {
      "cell_type": "code",
      "source": [
        "# Mengambil nilai perhitungan distribusi kelas\n",
        "class_counts = df['LA Class'].value_counts()\n",
        "\n",
        "# Membuat diagram batang\n",
        "plt.figure(figsize=(8, 6))\n",
        "class_counts.plot(kind='bar', color='skyblue')\n",
        "plt.title('Distribution of Classes')\n",
        "plt.xlabel('Class')\n",
        "plt.ylabel('Count')\n",
        "plt.xticks(rotation=0)  # Untuk memutar label sumbu x agar lebih mudah dibaca\n",
        "plt.tight_layout()\n",
        "plt.show()"
      ],
      "metadata": {
        "colab": {
          "base_uri": "https://localhost:8080/",
          "height": 607
        },
        "id": "HL00NXYHwUlg",
        "outputId": "58d13d1f-4ffb-4c9d-ce0a-8a30f1dcd7a9"
      },
      "execution_count": null,
      "outputs": [
        {
          "output_type": "display_data",
          "data": {
            "text/plain": [
              "<Figure size 800x600 with 1 Axes>"
            ],
            "image/png": "[encoded data removed]"
          },
          "metadata": {}
        }
      ]
    },
    {
      "cell_type": "code",
      "source": [
        "df['LA Class'].value_counts()"
      ],
      "metadata": {
        "colab": {
          "base_uri": "https://localhost:8080/",
          "height": 178
        },
        "id": "_0eRKHofx_jB",
        "outputId": "5127f08b-c269-4691-ecad-bfe9b953b63e"
      },
      "execution_count": null,
      "outputs": [
        {
          "output_type": "execute_result",
          "data": {
            "text/plain": [
              "LA Class\n",
              "Anxiety       225\n",
              "No Anxiety     99\n",
              "Name: count, dtype: int64"
            ],
            "text/html": [
              "<div>\n",
              "<style scoped>\n",
              "    .dataframe tbody tr th:only-of-type {\n",
              "        vertical-align: middle;\n",
              "    }\n",
              "\n",
              "    .dataframe tbody tr th {\n",
              "        vertical-align: top;\n",
              "    }\n",
              "\n",
              "    .dataframe thead th {\n",
              "        text-align: right;\n",
              "    }\n",
              "</style>\n",
              "<table border=\"1\" class=\"dataframe\">\n",
              "  <thead>\n",
              "    <tr style=\"text-align: right;\">\n",
              "      <th></th>\n",
              "      <th>count</th>\n",
              "    </tr>\n",
              "    <tr>\n",
              "      <th>LA Class</th>\n",
              "      <th></th>\n",
              "    </tr>\n",
              "  </thead>\n",
              "  <tbody>\n",
              "    <tr>\n",
              "      <th>Anxiety</th>\n",
              "      <td>225</td>\n",
              "    </tr>\n",
              "    <tr>\n",
              "      <th>No Anxiety</th>\n",
              "      <td>99</td>\n",
              "    </tr>\n",
              "  </tbody>\n",
              "</table>\n",
              "</div><br><label><b>dtype:</b> int64</label>"
            ]
          },
          "metadata": {},
          "execution_count": 433
        }
      ]
    },
    {
      "cell_type": "markdown",
      "source": [
        "## Encode Target Variable"
      ],
      "metadata": {
        "id": "1UtRaqH8_UoS"
      }
    },
    {
      "cell_type": "code",
      "source": [
        "# Menggunakan mapping manual dengan map\n",
        "df['la_class'] = df['LA Class'].map({'Anxiety': 1, 'No Anxiety': 0})\n",
        "\n",
        "# Menampilkan hasil\n",
        "print(\"Mapping kelas ke nilai encoded:\")\n",
        "print(df[['LA Class', 'la_class']])\n",
        "\n",
        "# Menghapus kolom asli\n",
        "df.drop(columns=['LA Class'], inplace=True)"
      ],
      "metadata": {
        "colab": {
          "base_uri": "https://localhost:8080/"
        },
        "id": "Q9ZyPBkmwgGl",
        "outputId": "27bf1e06-daec-45b4-fffa-9cc75783ea94"
      },
      "execution_count": null,
      "outputs": [
        {
          "output_type": "stream",
          "name": "stdout",
          "text": [
            "Mapping kelas ke nilai encoded:\n",
            "       LA Class  la_class\n",
            "0       Anxiety         1\n",
            "1       Anxiety         1\n",
            "2    No Anxiety         0\n",
            "3       Anxiety         1\n",
            "4       Anxiety         1\n",
            "..          ...       ...\n",
            "319     Anxiety         1\n",
            "320     Anxiety         1\n",
            "321  No Anxiety         0\n",
            "322     Anxiety         1\n",
            "323     Anxiety         1\n",
            "\n",
            "[324 rows x 2 columns]\n"
          ]
        }
      ]
    },
    {
      "cell_type": "markdown",
      "source": [
        "## Contraction Mapping"
      ],
      "metadata": {
        "id": "TtL5Wt8K5uW0"
      }
    },
    {
      "cell_type": "code",
      "source": [
        "contraction_mapping = {\n",
        "    \"ain't\": \"am not\",\n",
        "    \"aren't\": \"are not\",\n",
        "    \"can't\": \"cannot\",\n",
        "    \"can't've\": \"cannot have\",\n",
        "    \"'cause\": \"because\",\n",
        "    \"could've\": \"could have\",\n",
        "    \"couldn't\": \"could not\",\n",
        "    \"couldn't've\": \"could not have\",\n",
        "    \"didn't\": \"did not\",\n",
        "    \"doesn't\": \"does not\",\n",
        "    \"don't\": \"do not\",\n",
        "    \"hadn't\": \"had not\",\n",
        "    \"hadn't've\": \"had not have\",\n",
        "    \"hasn't\": \"has not\",\n",
        "    \"haven't\": \"have not\",\n",
        "    \"he'd\": \"he had\",\n",
        "    \"he'd've\": \"he would have\",\n",
        "    \"he'll\": \"he will\",\n",
        "    \"he'll've\": \"he will have\",\n",
        "    \"he's\": \"he is\",\n",
        "    \"how'd\": \"how did\",\n",
        "    \"how'd'y\": \"how do you\",\n",
        "    \"how'll\": \"how will\",\n",
        "    \"how's\": \"how does\",\n",
        "    \"I'd\": \"I had\",\n",
        "    \"I'd've\": \"I would have\",\n",
        "    \"I'll\": \"I will\",\n",
        "    \"I'll've\": \"I will have\",\n",
        "    \"I'm\": \"I am\",\n",
        "    \"I've\": \"I have\",\n",
        "    \"isn't\": \"is not\",\n",
        "    \"it'd\": \"it had\",\n",
        "    \"it'd've\": \"it would have\",\n",
        "    \"it'll\": \"it will\",\n",
        "    \"it'll've\": \"it will have\",\n",
        "    \"it's\": \"it is\",\n",
        "    \"let's\": \"let us\",\n",
        "    \"ma'am\": \"madam\",\n",
        "    \"mayn't\": \"may not\",\n",
        "    \"might've\": \"might have\",\n",
        "    \"mightn't\": \"might not\",\n",
        "    \"mightn't've\": \"might not have\",\n",
        "    \"must've\": \"must have\",\n",
        "    \"mustn't\": \"must not\",\n",
        "    \"mustn't've\": \"must not have\",\n",
        "    \"needn't\": \"need not\",\n",
        "    \"needn't've\": \"need not have\",\n",
        "    \"o'clock\": \"of the clock\",\n",
        "    \"oughtn't\": \"ought not\",\n",
        "    \"oughtn't've\": \"ought not have\",\n",
        "    \"shan't\": \"shall not\",\n",
        "    \"sha'n't\": \"shall not\",\n",
        "    \"shan't've\": \"shall not have\",\n",
        "    \"she'd\": \"she had\",\n",
        "    \"she'd've\": \"she would have\",\n",
        "    \"she'll\": \"she she will\",\n",
        "    \"she'll've\": \"she will have\",\n",
        "    \"she's\": \"she is\",\n",
        "    \"should've\": \"should have\",\n",
        "    \"shouldn't\": \"should not\",\n",
        "    \"shouldn't've\": \"should not have\",\n",
        "    \"so've\": \"so have\",\n",
        "    \"so's\": \"so is\",\n",
        "    \"that'd\": \"that had\",\n",
        "    \"that'd've\": \"that would have\",\n",
        "    \"that's\": \"that is\",\n",
        "    \"there'd\": \"there had\",\n",
        "    \"there'd've\": \"there would have\",\n",
        "    \"there's\": \"there is\",\n",
        "    \"they'd\": \"they had\",\n",
        "    \"they'd've\": \"they would have\",\n",
        "    \"they'll\": \"they will\",\n",
        "    \"they'll've\": \"they will have\",\n",
        "    \"they're\": \"they are\",\n",
        "    \"they've\": \"they have\",\n",
        "    \"to've\": \"to have\",\n",
        "    \"wasn't\": \"was not\",\n",
        "    \"we'd\": \"we had\",\n",
        "    \"we'd've\": \"we would have\",\n",
        "    \"we'll\": \"we will\",\n",
        "    \"we'll've\": \"we will have\",\n",
        "    \"we're\": \"we are\",\n",
        "    \"we've\": \"we have\",\n",
        "    \"weren't\": \"were not\",\n",
        "    \"what'll\": \"what will\",\n",
        "    \"what'll've\": \"what will have\",\n",
        "    \"what're\": \"what are\",\n",
        "    \"what's\": \"what is\",\n",
        "    \"what've\": \"what have\",\n",
        "    \"when's\": \"when is\",\n",
        "    \"when've\": \"when have\",\n",
        "    \"where'd\": \"where did\",\n",
        "    \"where's\": \"where is\",\n",
        "    \"where've\": \"where have\",\n",
        "    \"who'll\": \"who will\",\n",
        "    \"who'll've\": \"who will have\",\n",
        "    \"who's\": \"who is\",\n",
        "    \"who've\": \"who have\",\n",
        "    \"why's\": \"why is\",\n",
        "    \"why've\": \"why have\",\n",
        "    \"will've\": \"will have\",\n",
        "    \"won't\": \"will not\",\n",
        "    \"won't've\": \"will not have\",\n",
        "    \"would've\": \"would have\",\n",
        "    \"wouldn't\": \"would not\",\n",
        "    \"wouldn't've\": \"would not have\",\n",
        "    \"y'all\": \"you all\",\n",
        "    \"y'all'd\": \"you all would\",\n",
        "    \"y'all'd've\": \"you all would have\",\n",
        "    \"y'all're\": \"you all are\",\n",
        "    \"y'all've\": \"you all have\",\n",
        "    \"you'd\": \"you had\",\n",
        "    \"you'd've\": \"you would have\",\n",
        "    \"you'll\": \"you will\",\n",
        "    \"you'll've\": \"you will have\",\n",
        "    \"you're\": \"you are\",\n",
        "    \"you've\": \"you have\"\n",
        "}\n",
        "\n",
        "def expand_contractions(text, contraction_mapping):\n",
        "    for contraction, expanded in contraction_mapping.items():\n",
        "        text = text.replace(contraction, expanded)\n",
        "    return text\n",
        "\n",
        "df['Post'] = df['Post'].apply(lambda x: expand_contractions(x, contraction_mapping))"
      ],
      "metadata": {
        "id": "vPOCdAsr5vp4"
      },
      "execution_count": null,
      "outputs": []
    },
    {
      "cell_type": "markdown",
      "source": [
        "## Cleaning The Text"
      ],
      "metadata": {
        "id": "SausJ_HC5w_E"
      }
    },
    {
      "cell_type": "code",
      "source": [
        "import re\n",
        "import nltk\n",
        "# nltk.download('stopwords')\n",
        "# nltk.download('wordnet')\n",
        "from nltk.corpus import stopwords\n",
        "from nltk.stem import WordNetLemmatizer\n",
        "\n",
        "nltk.download('stopwords')\n",
        "nltk.download('wordnet')\n",
        "all_stopwords = stopwords.words('english')\n",
        "all_stopwords.remove('not')\n",
        "\n",
        "lemmatizer = WordNetLemmatizer()\n",
        "\n",
        "def preprocess_text(text):\n",
        "    # Hapus karakter non-alphanumeric\n",
        "    text = re.sub('[^a-zA-Z]', ' ', text)\n",
        "    # Konversi teks ke huruf kecil\n",
        "    text = text.lower()\n",
        "    # Split teks menjadi kata-kata\n",
        "    words = text.split()\n",
        "    # Lematisasi dan hapus stop words\n",
        "    words = [lemmatizer.lemmatize(word) for word in words if word not in set(stopwords.words('english'))]\n",
        "    # Gabungkan kata-kata kembali menjadi satu string\n",
        "    processed_text = ' '.join(words)\n",
        "\n",
        "    return processed_text\n",
        "\n",
        "df['Post'] = df['Post'].apply(preprocess_text)"
      ],
      "metadata": {
        "id": "TnsbWXRQ50aJ",
        "colab": {
          "base_uri": "https://localhost:8080/"
        },
        "outputId": "e6fa4a74-d6ec-4a45-e479-0a5e85d23b1d"
      },
      "execution_count": null,
      "outputs": [
        {
          "output_type": "stream",
          "name": "stderr",
          "text": [
            "[nltk_data] Downloading package stopwords to /root/nltk_data...\n",
            "[nltk_data]   Package stopwords is already up-to-date!\n",
            "[nltk_data] Downloading package wordnet to /root/nltk_data...\n",
            "[nltk_data]   Package wordnet is already up-to-date!\n"
          ]
        }
      ]
    },
    {
      "cell_type": "markdown",
      "source": [
        "## Calculating Text Length"
      ],
      "metadata": {
        "id": "1RQUoVvh_WtZ"
      }
    },
    {
      "cell_type": "code",
      "source": [
        "df['text_length'] = df['Post'].apply(len)\n",
        "df.head()"
      ],
      "metadata": {
        "id": "zVjNvtrbwlAO",
        "colab": {
          "base_uri": "https://localhost:8080/",
          "height": 206
        },
        "outputId": "948abde9-db09-4407-9539-08e22a4a0ec6"
      },
      "execution_count": null,
      "outputs": [
        {
          "output_type": "execute_result",
          "data": {
            "text/plain": [
              "                                                Post  la_class  text_length\n",
              "0  place love always feel comfortable going malay...         1          351\n",
              "1  favorite place hat yai thailand specifically a...         1          538\n",
              "2  one favorite place visited disneyland elementa...         0          673\n",
              "3  th grade went vacation family one place think ...         1          463\n",
              "4  favorite place bali like bali much people nice...         1          441"
            ],
            "text/html": [
              "\n",
              "  <div id=\"df-f3877bb2-1598-4cf8-b7a8-a259ffca9268\" class=\"colab-df-container\">\n",
              "    <div>\n",
              "<style scoped>\n",
              "    .dataframe tbody tr th:only-of-type {\n",
              "        vertical-align: middle;\n",
              "    }\n",
              "\n",
              "    .dataframe tbody tr th {\n",
              "        vertical-align: top;\n",
              "    }\n",
              "\n",
              "    .dataframe thead th {\n",
              "        text-align: right;\n",
              "    }\n",
              "</style>\n",
              "<table border=\"1\" class=\"dataframe\">\n",
              "  <thead>\n",
              "    <tr style=\"text-align: right;\">\n",
              "      <th></th>\n",
              "      <th>Post</th>\n",
              "      <th>la_class</th>\n",
              "      <th>text_length</th>\n",
              "    </tr>\n",
              "  </thead>\n",
              "  <tbody>\n",
              "    <tr>\n",
              "      <th>0</th>\n",
              "      <td>place love always feel comfortable going malay...</td>\n",
              "      <td>1</td>\n",
              "      <td>351</td>\n",
              "    </tr>\n",
              "    <tr>\n",
              "      <th>1</th>\n",
              "      <td>favorite place hat yai thailand specifically a...</td>\n",
              "      <td>1</td>\n",
              "      <td>538</td>\n",
              "    </tr>\n",
              "    <tr>\n",
              "      <th>2</th>\n",
              "      <td>one favorite place visited disneyland elementa...</td>\n",
              "      <td>0</td>\n",
              "      <td>673</td>\n",
              "    </tr>\n",
              "    <tr>\n",
              "      <th>3</th>\n",
              "      <td>th grade went vacation family one place think ...</td>\n",
              "      <td>1</td>\n",
              "      <td>463</td>\n",
              "    </tr>\n",
              "    <tr>\n",
              "      <th>4</th>\n",
              "      <td>favorite place bali like bali much people nice...</td>\n",
              "      <td>1</td>\n",
              "      <td>441</td>\n",
              "    </tr>\n",
              "  </tbody>\n",
              "</table>\n",
              "</div>\n",
              "    <div class=\"colab-df-buttons\">\n",
              "\n",
              "  <div class=\"colab-df-container\">\n",
              "    <button class=\"colab-df-convert\" onclick=\"convertToInteractive('df-f3877bb2-1598-4cf8-b7a8-a259ffca9268')\"\n",
              "            title=\"Convert this dataframe to an interactive table.\"\n",
              "            style=\"display:none;\">\n",
              "\n",
              "  <svg xmlns=\"http://www.w3.org/2000/svg\" height=\"24px\" viewBox=\"0 -960 960 960\">\n",
              "    <path d=\"M120-120v-720h720v720H120Zm60-500h600v-160H180v160Zm220 220h160v-160H400v160Zm0 220h160v-160H400v160ZM180-400h160v-160H180v160Zm440 0h160v-160H620v160ZM180-180h160v-160H180v160Zm440 0h160v-160H620v160Z\"/>\n",
              "  </svg>\n",
              "    </button>\n",
              "\n",
              "  <style>\n",
              "    .colab-df-container {\n",
              "      display:flex;\n",
              "      gap: 12px;\n",
              "    }\n",
              "\n",
              "    .colab-df-convert {\n",
              "      background-color: #E8F0FE;\n",
              "      border: none;\n",
              "      border-radius: 50%;\n",
              "      cursor: pointer;\n",
              "      display: none;\n",
              "      fill: #1967D2;\n",
              "      height: 32px;\n",
              "      padding: 0 0 0 0;\n",
              "      width: 32px;\n",
              "    }\n",
              "\n",
              "    .colab-df-convert:hover {\n",
              "      background-color: #E2EBFA;\n",
              "      box-shadow: 0px 1px 2px rgba(60, 64, 67, 0.3), 0px 1px 3px 1px rgba(60, 64, 67, 0.15);\n",
              "      fill: #174EA6;\n",
              "    }\n",
              "\n",
              "    .colab-df-buttons div {\n",
              "      margin-bottom: 4px;\n",
              "    }\n",
              "\n",
              "    [theme=dark] .colab-df-convert {\n",
              "      background-color: #3B4455;\n",
              "      fill: #D2E3FC;\n",
              "    }\n",
              "\n",
              "    [theme=dark] .colab-df-convert:hover {\n",
              "      background-color: #434B5C;\n",
              "      box-shadow: 0px 1px 3px 1px rgba(0, 0, 0, 0.15);\n",
              "      filter: drop-shadow(0px 1px 2px rgba(0, 0, 0, 0.3));\n",
              "      fill: #FFFFFF;\n",
              "    }\n",
              "  </style>\n",
              "\n",
              "    <script>\n",
              "      const buttonEl =\n",
              "        document.querySelector('#df-f3877bb2-1598-4cf8-b7a8-a259ffca9268 button.colab-df-convert');\n",
              "      buttonEl.style.display =\n",
              "        google.colab.kernel.accessAllowed ? 'block' : 'none';\n",
              "\n",
              "      async function convertToInteractive(key) {\n",
              "        const element = document.querySelector('#df-f3877bb2-1598-4cf8-b7a8-a259ffca9268');\n",
              "        const dataTable =\n",
              "          await google.colab.kernel.invokeFunction('convertToInteractive',\n",
              "                                                    [key], {});\n",
              "        if (!dataTable) return;\n",
              "\n",
              "        const docLinkHtml = 'Like what you see? Visit the ' +\n",
              "          '<a target=\"_blank\" href=https://colab.research.google.com/notebooks/data_table.ipynb>data table notebook</a>'\n",
              "          + ' to learn more about interactive tables.';\n",
              "        element.innerHTML = '';\n",
              "        dataTable['output_type'] = 'display_data';\n",
              "        await google.colab.output.renderOutput(dataTable, element);\n",
              "        const docLink = document.createElement('div');\n",
              "        docLink.innerHTML = docLinkHtml;\n",
              "        element.appendChild(docLink);\n",
              "      }\n",
              "    </script>\n",
              "  </div>\n",
              "\n",
              "\n",
              "    <div id=\"df-f5572891-d91d-4c9a-96f6-ac0784a7aabb\">\n",
              "      <button class=\"colab-df-quickchart\" onclick=\"quickchart('df-f5572891-d91d-4c9a-96f6-ac0784a7aabb')\"\n",
              "                title=\"Suggest charts\"\n",
              "                style=\"display:none;\">\n",
              "\n",
              "<svg xmlns=\"http://www.w3.org/2000/svg\" height=\"24px\"viewBox=\"0 0 24 24\"\n",
              "     width=\"24px\">\n",
              "    <g>\n",
              "        <path d=\"M19 3H5c-1.1 0-2 .9-2 2v14c0 1.1.9 2 2 2h14c1.1 0 2-.9 2-2V5c0-1.1-.9-2-2-2zM9 17H7v-7h2v7zm4 0h-2V7h2v10zm4 0h-2v-4h2v4z\"/>\n",
              "    </g>\n",
              "</svg>\n",
              "      </button>\n",
              "\n",
              "<style>\n",
              "  .colab-df-quickchart {\n",
              "      --bg-color: #E8F0FE;\n",
              "      --fill-color: #1967D2;\n",
              "      --hover-bg-color: #E2EBFA;\n",
              "      --hover-fill-color: #174EA6;\n",
              "      --disabled-fill-color: #AAA;\n",
              "      --disabled-bg-color: #DDD;\n",
              "  }\n",
              "\n",
              "  [theme=dark] .colab-df-quickchart {\n",
              "      --bg-color: #3B4455;\n",
              "      --fill-color: #D2E3FC;\n",
              "      --hover-bg-color: #434B5C;\n",
              "      --hover-fill-color: #FFFFFF;\n",
              "      --disabled-bg-color: #3B4455;\n",
              "      --disabled-fill-color: #666;\n",
              "  }\n",
              "\n",
              "  .colab-df-quickchart {\n",
              "    background-color: var(--bg-color);\n",
              "    border: none;\n",
              "    border-radius: 50%;\n",
              "    cursor: pointer;\n",
              "    display: none;\n",
              "    fill: var(--fill-color);\n",
              "    height: 32px;\n",
              "    padding: 0;\n",
              "    width: 32px;\n",
              "  }\n",
              "\n",
              "  .colab-df-quickchart:hover {\n",
              "    background-color: var(--hover-bg-color);\n",
              "    box-shadow: 0 1px 2px rgba(60, 64, 67, 0.3), 0 1px 3px 1px rgba(60, 64, 67, 0.15);\n",
              "    fill: var(--button-hover-fill-color);\n",
              "  }\n",
              "\n",
              "  .colab-df-quickchart-complete:disabled,\n",
              "  .colab-df-quickchart-complete:disabled:hover {\n",
              "    background-color: var(--disabled-bg-color);\n",
              "    fill: var(--disabled-fill-color);\n",
              "    box-shadow: none;\n",
              "  }\n",
              "\n",
              "  .colab-df-spinner {\n",
              "    border: 2px solid var(--fill-color);\n",
              "    border-color: transparent;\n",
              "    border-bottom-color: var(--fill-color);\n",
              "    animation:\n",
              "      spin 1s steps(1) infinite;\n",
              "  }\n",
              "\n",
              "  @keyframes spin {\n",
              "    0% {\n",
              "      border-color: transparent;\n",
              "      border-bottom-color: var(--fill-color);\n",
              "      border-left-color: var(--fill-color);\n",
              "    }\n",
              "    20% {\n",
              "      border-color: transparent;\n",
              "      border-left-color: var(--fill-color);\n",
              "      border-top-color: var(--fill-color);\n",
              "    }\n",
              "    30% {\n",
              "      border-color: transparent;\n",
              "      border-left-color: var(--fill-color);\n",
              "      border-top-color: var(--fill-color);\n",
              "      border-right-color: var(--fill-color);\n",
              "    }\n",
              "    40% {\n",
              "      border-color: transparent;\n",
              "      border-right-color: var(--fill-color);\n",
              "      border-top-color: var(--fill-color);\n",
              "    }\n",
              "    60% {\n",
              "      border-color: transparent;\n",
              "      border-right-color: var(--fill-color);\n",
              "    }\n",
              "    80% {\n",
              "      border-color: transparent;\n",
              "      border-right-color: var(--fill-color);\n",
              "      border-bottom-color: var(--fill-color);\n",
              "    }\n",
              "    90% {\n",
              "      border-color: transparent;\n",
              "      border-bottom-color: var(--fill-color);\n",
              "    }\n",
              "  }\n",
              "</style>\n",
              "\n",
              "      <script>\n",
              "        async function quickchart(key) {\n",
              "          const quickchartButtonEl =\n",
              "            document.querySelector('#' + key + ' button');\n",
              "          quickchartButtonEl.disabled = true;  // To prevent multiple clicks.\n",
              "          quickchartButtonEl.classList.add('colab-df-spinner');\n",
              "          try {\n",
              "            const charts = await google.colab.kernel.invokeFunction(\n",
              "                'suggestCharts', [key], {});\n",
              "          } catch (error) {\n",
              "            console.error('Error during call to suggestCharts:', error);\n",
              "          }\n",
              "          quickchartButtonEl.classList.remove('colab-df-spinner');\n",
              "          quickchartButtonEl.classList.add('colab-df-quickchart-complete');\n",
              "        }\n",
              "        (() => {\n",
              "          let quickchartButtonEl =\n",
              "            document.querySelector('#df-f5572891-d91d-4c9a-96f6-ac0784a7aabb button');\n",
              "          quickchartButtonEl.style.display =\n",
              "            google.colab.kernel.accessAllowed ? 'block' : 'none';\n",
              "        })();\n",
              "      </script>\n",
              "    </div>\n",
              "\n",
              "    </div>\n",
              "  </div>\n"
            ],
            "application/vnd.google.colaboratory.intrinsic+json": {
              "type": "dataframe",
              "variable_name": "df",
              "summary": "{\n  \"name\": \"df\",\n  \"rows\": 324,\n  \"fields\": [\n    {\n      \"column\": \"Post\",\n      \"properties\": {\n        \"dtype\": \"string\",\n        \"num_unique_values\": 322,\n        \"samples\": [\n          \"everyone definitely least one memorable place favorite place singapore last year family went singapore batam city ferry take half hour get singapore many beautiful place visited changi airport merlion park masjid sultan garden bay last one universal studio like going holiday singapore street neat different indonesia people organized impressive place singapore opinion jewel changi airport jewel changi airport world highest indoor waterfall beauty artificial waterfall truly enchanting ray sunlight emit ray make location even beautiful beautiful cool come fresh plant surround area one main reason holiday singapore memorable time spent family rare feel togetherness family member life different place like study bandung first brother married settled medan second brother internship jakarta parent moved work batam trip singapore time memorable trip became one favorite place ever visited hope go singapore still go family\",\n          \"kid family trip kepulauan seribu putri island precise vacation stayed around day night spent couple hour arrived since located bit far main land ancol north jakarta putri island become one favorite place spent holiday view comfort experienced staying resort sl wont forgot excitement got several activity swimming upon open sea riding banana boat fishing boat first time ever saw plenty giant monitor lizard common domestic specie long live forget memory shared family island reason cherish early day\",\n          \"one place want visit mentawai island information mentawai island located west sumatra province nears padang city go mentawai island speedboat padang mentawai island beautiful best wave world thats see many tourist outside indonesia come visit mentawai best wave beach mentawai good bali island nice cottage see sunset someone might ask padang also beach still want go mentawai answer simple padang beach ordinary taplau tepi laut zone full culinary place beach painan city even better padang visit painan twice curious mentawai friend told one month mentawai got visit big ship go shopping hangout friend want visit mentawai\"\n        ],\n        \"semantic_type\": \"\",\n        \"description\": \"\"\n      }\n    },\n    {\n      \"column\": \"la_class\",\n      \"properties\": {\n        \"dtype\": \"number\",\n        \"std\": 0,\n        \"min\": 0,\n        \"max\": 1,\n        \"num_unique_values\": 2,\n        \"samples\": [\n          0,\n          1\n        ],\n        \"semantic_type\": \"\",\n        \"description\": \"\"\n      }\n    },\n    {\n      \"column\": \"text_length\",\n      \"properties\": {\n        \"dtype\": \"number\",\n        \"std\": 248,\n        \"min\": 214,\n        \"max\": 1882,\n        \"num_unique_values\": 268,\n        \"samples\": [\n          1355,\n          580\n        ],\n        \"semantic_type\": \"\",\n        \"description\": \"\"\n      }\n    }\n  ]\n}"
            }
          },
          "metadata": {},
          "execution_count": 437
        }
      ]
    },
    {
      "cell_type": "markdown",
      "source": [
        "## Splitting The Dataset Into Train And Test"
      ],
      "metadata": {
        "id": "WbYtTWtf__Uu"
      }
    },
    {
      "cell_type": "code",
      "source": [
        "X_train, X_test, y_train, y_test = train_test_split(df['Post'], df['la_class'], test_size = 0.20, stratify = df['la_class'], random_state = 42)"
      ],
      "metadata": {
        "id": "bB6ZftsZwvNH"
      },
      "execution_count": null,
      "outputs": []
    },
    {
      "cell_type": "markdown",
      "source": [
        "## Hyperparameter"
      ],
      "metadata": {
        "id": "JxSiiaMcACWy"
      }
    },
    {
      "cell_type": "code",
      "source": [
        "max_len = 100\n",
        "vocab_size = 1000\n",
        "trunc_type = 'post'\n",
        "padding_type = 'post'\n",
        "oov_tok = '<OOV>'"
      ],
      "metadata": {
        "id": "f-CMGxq0w5G1"
      },
      "execution_count": null,
      "outputs": []
    },
    {
      "cell_type": "markdown",
      "source": [
        "## Tokenizing"
      ],
      "metadata": {
        "id": "BsLDIwZbBGE1"
      }
    },
    {
      "cell_type": "code",
      "source": [
        "tokenizer = Tokenizer(num_words = vocab_size,\n",
        "                      char_level = False,\n",
        "                      oov_token = oov_tok)\n",
        "tokenizer.fit_on_texts(X_train)"
      ],
      "metadata": {
        "id": "-fG9tTCEw749"
      },
      "execution_count": null,
      "outputs": []
    },
    {
      "cell_type": "markdown",
      "source": [
        "## Get The Word Index"
      ],
      "metadata": {
        "id": "lBjhmGVkBO1M"
      }
    },
    {
      "cell_type": "code",
      "source": [
        "word_index = tokenizer.word_index\n",
        "total_words = len(word_index)\n",
        "total_words"
      ],
      "metadata": {
        "id": "e8Dpr2_Yw_jW",
        "colab": {
          "base_uri": "https://localhost:8080/"
        },
        "outputId": "642f0440-d220-4b67-da46-123d3e08687d"
      },
      "execution_count": null,
      "outputs": [
        {
          "output_type": "execute_result",
          "data": {
            "text/plain": [
              "4285"
            ]
          },
          "metadata": {},
          "execution_count": 441
        }
      ]
    },
    {
      "cell_type": "markdown",
      "source": [
        "## Creating Train Sequences"
      ],
      "metadata": {
        "id": "wCoy2unOBVOs"
      }
    },
    {
      "cell_type": "code",
      "source": [
        "training_sequences = tokenizer.texts_to_sequences(X_train)\n",
        "training_padded = pad_sequences(training_sequences,\n",
        "                                maxlen = max_len,\n",
        "                                padding = padding_type,\n",
        "                                truncating = trunc_type)"
      ],
      "metadata": {
        "id": "hkne-4DgxBWV"
      },
      "execution_count": null,
      "outputs": []
    },
    {
      "cell_type": "markdown",
      "source": [
        "## Creating Test Sequences"
      ],
      "metadata": {
        "id": "5LFm3Em9BXN7"
      }
    },
    {
      "cell_type": "code",
      "source": [
        "testing_sequences = tokenizer.texts_to_sequences(X_test)\n",
        "testing_padded = pad_sequences(testing_sequences,\n",
        "                               maxlen = max_len,\n",
        "                               padding = padding_type,\n",
        "                               truncating = trunc_type)"
      ],
      "metadata": {
        "id": "45e6YMk2xDBR"
      },
      "execution_count": null,
      "outputs": []
    },
    {
      "cell_type": "code",
      "source": [
        "print('Shape of training tensor: ', training_padded.shape)\n",
        "print('Shape of testing tensor: ', testing_padded.shape)"
      ],
      "metadata": {
        "id": "1_vwJgfUxGBI",
        "colab": {
          "base_uri": "https://localhost:8080/"
        },
        "outputId": "05fc69be-9c54-4436-b412-9ceefb0dea3f"
      },
      "execution_count": null,
      "outputs": [
        {
          "output_type": "stream",
          "name": "stdout",
          "text": [
            "Shape of training tensor:  (259, 100)\n",
            "Shape of testing tensor:  (65, 100)\n"
          ]
        }
      ]
    },
    {
      "cell_type": "markdown",
      "source": [
        "## Dense Architecture"
      ],
      "metadata": {
        "id": "v3gqfyJlBnxS"
      }
    },
    {
      "cell_type": "code",
      "source": [
        "# Menghitung class weights\n",
        "class_weights = class_weight.compute_class_weight('balanced',\n",
        "                                                  classes=np.unique(y_train),\n",
        "                                                  y=y_train)\n",
        "\n",
        "# Definisikan nilai class weights sebagai dictionary\n",
        "class_weight_dict = dict(enumerate(class_weights))\n",
        "class_weight_dict"
      ],
      "metadata": {
        "id": "k2qIzZfK9wl-",
        "colab": {
          "base_uri": "https://localhost:8080/"
        },
        "outputId": "08c7e60b-d1fe-4e20-f8cc-c70181936a4c"
      },
      "execution_count": null,
      "outputs": [
        {
          "output_type": "execute_result",
          "data": {
            "text/plain": [
              "{0: np.float64(1.639240506329114), 1: np.float64(0.7194444444444444)}"
            ]
          },
          "metadata": {},
          "execution_count": 445
        }
      ]
    },
    {
      "cell_type": "markdown",
      "source": [
        "### Define Paramter"
      ],
      "metadata": {
        "id": "7r6jEQVtBrvz"
      }
    },
    {
      "cell_type": "code",
      "source": [
        "embedding_dim = 32"
      ],
      "metadata": {
        "id": "Bb5eY9hfxHr6"
      },
      "execution_count": null,
      "outputs": []
    },
    {
      "cell_type": "markdown",
      "source": [
        "### Focal Loss"
      ],
      "metadata": {
        "id": "KRL0YZX5IS8p"
      }
    },
    {
      "cell_type": "code",
      "source": [
        "def focal_loss(gamma=2., alpha=0.75):\n",
        "    def focal_loss_fixed(y_true, y_pred):\n",
        "        epsilon = tf.keras.backend.epsilon()\n",
        "        y_pred = tf.keras.backend.clip(y_pred, epsilon, 1. - epsilon)\n",
        "        pt = tf.where(tf.keras.backend.equal(y_true, 1), y_pred, 1 - y_pred)\n",
        "        return -tf.keras.backend.sum(alpha * tf.keras.backend.pow(1. - pt, gamma) * tf.keras.backend.log(pt))\n",
        "\n",
        "    return focal_loss_fixed"
      ],
      "metadata": {
        "id": "IdiLw7pBIUen"
      },
      "execution_count": null,
      "outputs": []
    },
    {
      "cell_type": "markdown",
      "source": [
        "## GRU Architecture"
      ],
      "metadata": {
        "id": "mKwGxBw1gf0c"
      }
    },
    {
      "cell_type": "code",
      "source": [
        "from tensorflow.keras.models import Sequential\n",
        "from tensorflow.keras.layers import Embedding, SpatialDropout1D, GRU, Dropout, Dense, BatchNormalization\n",
        "\n",
        "model3 = Sequential()\n",
        "model3.add(Embedding(input_dim=vocab_size, output_dim=embedding_dim, input_length=max_len))\n",
        "model3.add(SpatialDropout1D(0.3))\n",
        "\n",
        "model3.add(GRU(128, return_sequences=True, dropout=0.2, recurrent_dropout=0.2))\n",
        "model3.add(GRU(64, return_sequences=False, dropout=0.2, recurrent_dropout=0.2))\n",
        "\n",
        "model3.add(BatchNormalization())\n",
        "model3.add(Dense(128, activation='relu'))\n",
        "model3.add(Dropout(0.4))\n",
        "\n",
        "model3.add(Dense(1, activation='sigmoid'))"
      ],
      "metadata": {
        "id": "ux-cqfCu0Sz6",
        "colab": {
          "base_uri": "https://localhost:8080/"
        },
        "outputId": "2ae9795c-0d82-4605-b3c1-2ae0777ac85a"
      },
      "execution_count": null,
      "outputs": [
        {
          "output_type": "stream",
          "name": "stderr",
          "text": [
            "/usr/local/lib/python3.11/dist-packages/keras/src/layers/core/embedding.py:90: UserWarning: Argument `input_length` is deprecated. Just remove it.\n",
            "  warnings.warn(\n"
          ]
        }
      ]
    },
    {
      "cell_type": "code",
      "source": [
        "from tensorflow.keras.callbacks import ReduceLROnPlateau\n",
        "\n",
        "optimizer = tf.keras.optimizers.AdamW(learning_rate=0.0005, weight_decay=1e-4)\n",
        "\n",
        "# Callback ReduceLROnPlateau\n",
        "lr_callback = ReduceLROnPlateau(\n",
        "    monitor='val_loss',   # Memonitor validasi loss\n",
        "    factor=0.5,           # Learning rate dikali 0.5 (turun 50%)\n",
        "    patience=7,           # Jika dalam 3 epoch tidak membaik, LR akan dikurangi\n",
        "    min_lr=0.0005,        # Learning rate minimum agar tidak turun terlalu kecil\n",
        "    cooldown=2,\n",
        "    verbose=1\n",
        ")\n",
        "\n",
        "\n",
        "model3.compile(loss=focal_loss(),\n",
        "               optimizer = optimizer,\n",
        "               metrics = ['accuracy'])"
      ],
      "metadata": {
        "id": "XcqtLkGi0U-2"
      },
      "execution_count": null,
      "outputs": []
    },
    {
      "cell_type": "code",
      "source": [
        "num_epochs = 100\n",
        "early_stop = EarlyStopping(monitor='val_loss', patience=20)\n",
        "history = model3.fit(training_padded,\n",
        "                     y_train,\n",
        "                     epochs=num_epochs,\n",
        "                     validation_data=(testing_padded, y_test),\n",
        "                     callbacks =[early_stop, lr_callback],\n",
        "                     verbose=2)"
      ],
      "metadata": {
        "id": "Xyh_cp2U0Yhc",
        "colab": {
          "base_uri": "https://localhost:8080/"
        },
        "outputId": "2b9ca503-4057-4658-b2b2-15386f4ddd35"
      },
      "execution_count": null,
      "outputs": [
        {
          "output_type": "stream",
          "name": "stdout",
          "text": [
            "Epoch 1/100\n",
            "9/9 - 14s - 2s/step - accuracy: 0.5753 - loss: 4.1515 - val_accuracy: 0.6923 - val_loss: 4.0061 - learning_rate: 5.0000e-04\n",
            "Epoch 2/100\n",
            "9/9 - 8s - 841ms/step - accuracy: 0.6564 - loss: 3.8797 - val_accuracy: 0.6923 - val_loss: 3.9636 - learning_rate: 5.0000e-04\n",
            "Epoch 3/100\n",
            "9/9 - 6s - 703ms/step - accuracy: 0.6293 - loss: 3.9775 - val_accuracy: 0.6923 - val_loss: 3.9350 - learning_rate: 5.0000e-04\n",
            "Epoch 4/100\n",
            "9/9 - 5s - 529ms/step - accuracy: 0.7104 - loss: 3.9176 - val_accuracy: 0.6923 - val_loss: 3.9291 - learning_rate: 5.0000e-04\n",
            "Epoch 5/100\n",
            "9/9 - 6s - 700ms/step - accuracy: 0.7104 - loss: 3.5799 - val_accuracy: 0.6923 - val_loss: 3.9277 - learning_rate: 5.0000e-04\n",
            "Epoch 6/100\n",
            "9/9 - 10s - 1s/step - accuracy: 0.7181 - loss: 3.3902 - val_accuracy: 0.6923 - val_loss: 3.9151 - learning_rate: 5.0000e-04\n",
            "Epoch 7/100\n",
            "9/9 - 9s - 1s/step - accuracy: 0.7568 - loss: 3.3761 - val_accuracy: 0.6923 - val_loss: 3.9128 - learning_rate: 5.0000e-04\n",
            "Epoch 8/100\n",
            "9/9 - 6s - 707ms/step - accuracy: 0.6988 - loss: 3.5434 - val_accuracy: 0.6923 - val_loss: 3.8995 - learning_rate: 5.0000e-04\n",
            "Epoch 9/100\n",
            "9/9 - 10s - 1s/step - accuracy: 0.7181 - loss: 3.4784 - val_accuracy: 0.6923 - val_loss: 3.8907 - learning_rate: 5.0000e-04\n",
            "Epoch 10/100\n",
            "9/9 - 9s - 1s/step - accuracy: 0.7413 - loss: 3.0387 - val_accuracy: 0.6923 - val_loss: 3.8808 - learning_rate: 5.0000e-04\n",
            "Epoch 11/100\n",
            "9/9 - 6s - 674ms/step - accuracy: 0.7413 - loss: 2.9575 - val_accuracy: 0.6923 - val_loss: 3.8622 - learning_rate: 5.0000e-04\n",
            "Epoch 12/100\n",
            "9/9 - 5s - 517ms/step - accuracy: 0.8031 - loss: 2.6953 - val_accuracy: 0.6923 - val_loss: 3.8459 - learning_rate: 5.0000e-04\n",
            "Epoch 13/100\n",
            "9/9 - 6s - 714ms/step - accuracy: 0.8263 - loss: 2.4482 - val_accuracy: 0.6923 - val_loss: 3.8184 - learning_rate: 5.0000e-04\n",
            "Epoch 14/100\n",
            "9/9 - 9s - 1s/step - accuracy: 0.8649 - loss: 2.1696 - val_accuracy: 0.6923 - val_loss: 3.8029 - learning_rate: 5.0000e-04\n",
            "Epoch 15/100\n",
            "9/9 - 9s - 1s/step - accuracy: 0.8494 - loss: 2.2608 - val_accuracy: 0.6923 - val_loss: 3.8005 - learning_rate: 5.0000e-04\n",
            "Epoch 16/100\n",
            "9/9 - 6s - 689ms/step - accuracy: 0.8378 - loss: 2.2512 - val_accuracy: 0.6923 - val_loss: 3.7480 - learning_rate: 5.0000e-04\n",
            "Epoch 17/100\n",
            "9/9 - 5s - 526ms/step - accuracy: 0.8378 - loss: 2.1017 - val_accuracy: 0.6923 - val_loss: 3.7637 - learning_rate: 5.0000e-04\n",
            "Epoch 18/100\n",
            "9/9 - 7s - 761ms/step - accuracy: 0.8533 - loss: 2.0364 - val_accuracy: 0.6923 - val_loss: 3.6958 - learning_rate: 5.0000e-04\n",
            "Epoch 19/100\n",
            "9/9 - 5s - 518ms/step - accuracy: 0.8610 - loss: 1.8841 - val_accuracy: 0.6923 - val_loss: 3.7197 - learning_rate: 5.0000e-04\n",
            "Epoch 20/100\n",
            "9/9 - 6s - 648ms/step - accuracy: 0.8880 - loss: 1.6494 - val_accuracy: 0.6923 - val_loss: 3.7268 - learning_rate: 5.0000e-04\n",
            "Epoch 21/100\n",
            "9/9 - 9s - 1s/step - accuracy: 0.8687 - loss: 1.8414 - val_accuracy: 0.6923 - val_loss: 3.6392 - learning_rate: 5.0000e-04\n",
            "Epoch 22/100\n",
            "9/9 - 6s - 695ms/step - accuracy: 0.8919 - loss: 1.6800 - val_accuracy: 0.6923 - val_loss: 3.5971 - learning_rate: 5.0000e-04\n",
            "Epoch 23/100\n",
            "9/9 - 5s - 524ms/step - accuracy: 0.8764 - loss: 1.6233 - val_accuracy: 0.6923 - val_loss: 3.6414 - learning_rate: 5.0000e-04\n",
            "Epoch 24/100\n",
            "9/9 - 6s - 688ms/step - accuracy: 0.8880 - loss: 1.3978 - val_accuracy: 0.7385 - val_loss: 3.6107 - learning_rate: 5.0000e-04\n",
            "Epoch 25/100\n",
            "9/9 - 5s - 518ms/step - accuracy: 0.8764 - loss: 1.5547 - val_accuracy: 0.6923 - val_loss: 3.6103 - learning_rate: 5.0000e-04\n",
            "Epoch 26/100\n",
            "9/9 - 6s - 681ms/step - accuracy: 0.8842 - loss: 1.3950 - val_accuracy: 0.7231 - val_loss: 3.5823 - learning_rate: 5.0000e-04\n",
            "Epoch 27/100\n",
            "9/9 - 9s - 969ms/step - accuracy: 0.9073 - loss: 1.4091 - val_accuracy: 0.7077 - val_loss: 3.6464 - learning_rate: 5.0000e-04\n",
            "Epoch 28/100\n",
            "9/9 - 6s - 663ms/step - accuracy: 0.9112 - loss: 1.3607 - val_accuracy: 0.7231 - val_loss: 3.5961 - learning_rate: 5.0000e-04\n",
            "Epoch 29/100\n",
            "9/9 - 10s - 1s/step - accuracy: 0.8842 - loss: 1.5961 - val_accuracy: 0.7077 - val_loss: 3.5407 - learning_rate: 5.0000e-04\n",
            "Epoch 30/100\n",
            "9/9 - 9s - 1s/step - accuracy: 0.9073 - loss: 1.1682 - val_accuracy: 0.7077 - val_loss: 3.4816 - learning_rate: 5.0000e-04\n",
            "Epoch 31/100\n",
            "9/9 - 6s - 648ms/step - accuracy: 0.9073 - loss: 1.2975 - val_accuracy: 0.7385 - val_loss: 3.6364 - learning_rate: 5.0000e-04\n",
            "Epoch 32/100\n",
            "9/9 - 10s - 1s/step - accuracy: 0.9189 - loss: 1.2840 - val_accuracy: 0.6615 - val_loss: 3.6652 - learning_rate: 5.0000e-04\n",
            "Epoch 33/100\n",
            "9/9 - 10s - 1s/step - accuracy: 0.9035 - loss: 1.2697 - val_accuracy: 0.7385 - val_loss: 3.5351 - learning_rate: 5.0000e-04\n",
            "Epoch 34/100\n",
            "9/9 - 5s - 589ms/step - accuracy: 0.9112 - loss: 1.2293 - val_accuracy: 0.7231 - val_loss: 3.5322 - learning_rate: 5.0000e-04\n",
            "Epoch 35/100\n",
            "9/9 - 11s - 1s/step - accuracy: 0.9305 - loss: 1.1036 - val_accuracy: 0.7385 - val_loss: 3.5220 - learning_rate: 5.0000e-04\n",
            "Epoch 36/100\n",
            "9/9 - 5s - 517ms/step - accuracy: 0.9266 - loss: 1.1507 - val_accuracy: 0.7692 - val_loss: 3.5221 - learning_rate: 5.0000e-04\n",
            "Epoch 37/100\n",
            "9/9 - 6s - 711ms/step - accuracy: 0.9151 - loss: 1.3699 - val_accuracy: 0.7538 - val_loss: 3.5151 - learning_rate: 5.0000e-04\n",
            "Epoch 38/100\n",
            "9/9 - 9s - 1s/step - accuracy: 0.9421 - loss: 0.9733 - val_accuracy: 0.7231 - val_loss: 3.7061 - learning_rate: 5.0000e-04\n",
            "Epoch 39/100\n",
            "9/9 - 6s - 622ms/step - accuracy: 0.9344 - loss: 1.1697 - val_accuracy: 0.7385 - val_loss: 3.6802 - learning_rate: 5.0000e-04\n",
            "Epoch 40/100\n",
            "9/9 - 11s - 1s/step - accuracy: 0.9189 - loss: 1.1177 - val_accuracy: 0.7077 - val_loss: 3.5698 - learning_rate: 5.0000e-04\n",
            "Epoch 41/100\n",
            "9/9 - 10s - 1s/step - accuracy: 0.9344 - loss: 0.9289 - val_accuracy: 0.7077 - val_loss: 3.5875 - learning_rate: 5.0000e-04\n",
            "Epoch 42/100\n",
            "9/9 - 5s - 525ms/step - accuracy: 0.9498 - loss: 0.7994 - val_accuracy: 0.7385 - val_loss: 3.6631 - learning_rate: 5.0000e-04\n",
            "Epoch 43/100\n",
            "9/9 - 5s - 562ms/step - accuracy: 0.9537 - loss: 0.8610 - val_accuracy: 0.7385 - val_loss: 3.8073 - learning_rate: 5.0000e-04\n",
            "Epoch 44/100\n",
            "9/9 - 6s - 680ms/step - accuracy: 0.9614 - loss: 0.6754 - val_accuracy: 0.7077 - val_loss: 3.9558 - learning_rate: 5.0000e-04\n",
            "Epoch 45/100\n",
            "9/9 - 10s - 1s/step - accuracy: 0.9459 - loss: 0.8736 - val_accuracy: 0.7231 - val_loss: 3.9520 - learning_rate: 5.0000e-04\n",
            "Epoch 46/100\n",
            "9/9 - 5s - 512ms/step - accuracy: 0.9537 - loss: 0.6952 - val_accuracy: 0.7077 - val_loss: 4.2474 - learning_rate: 5.0000e-04\n",
            "Epoch 47/100\n",
            "9/9 - 6s - 643ms/step - accuracy: 0.9537 - loss: 0.7394 - val_accuracy: 0.6615 - val_loss: 4.3965 - learning_rate: 5.0000e-04\n",
            "Epoch 48/100\n",
            "9/9 - 9s - 1s/step - accuracy: 0.9537 - loss: 0.7637 - val_accuracy: 0.7385 - val_loss: 4.9363 - learning_rate: 5.0000e-04\n",
            "Epoch 49/100\n",
            "9/9 - 6s - 703ms/step - accuracy: 0.9575 - loss: 0.7155 - val_accuracy: 0.7385 - val_loss: 4.3104 - learning_rate: 5.0000e-04\n",
            "Epoch 50/100\n",
            "9/9 - 5s - 517ms/step - accuracy: 0.9575 - loss: 0.7082 - val_accuracy: 0.7231 - val_loss: 4.5454 - learning_rate: 5.0000e-04\n"
          ]
        }
      ]
    },
    {
      "cell_type": "code",
      "source": [
        "# Plotting loss train dan validation\n",
        "plt.figure(figsize=(8, 6))\n",
        "plt.plot(history.history['accuracy'], label='Train Accuracy')\n",
        "plt.plot(history.history['val_accuracy'], label='Validation Accuracy')\n",
        "\n",
        "plt.title('GRU Model: Training and Validation Accuracy', fontsize=18)  # Memperbesar teks judul\n",
        "plt.xlabel('Accuracy', fontsize=16)  # Memperbesar teks sumbu x\n",
        "plt.ylabel('Loss', fontsize=16)  # Memperbesar teks sumbu y\n",
        "plt.xticks(fontsize=14)  # Memperbesar ukuran font ticks sumbu x\n",
        "plt.yticks(fontsize=14)  # Memperbesar ukuran font ticks sumbu y\n",
        "plt.legend()\n",
        "plt.tight_layout()"
      ],
      "metadata": {
        "id": "LtcVLdjqUGop",
        "colab": {
          "base_uri": "https://localhost:8080/",
          "height": 607
        },
        "outputId": "e07f9881-c398-4c57-93b2-051e154dfc5e"
      },
      "execution_count": null,
      "outputs": [
        {
          "output_type": "display_data",
          "data": {
            "text/plain": [
              "<Figure size 800x600 with 1 Axes>"
            ],
            "image/png": "[encoded data removed]"
          },
          "metadata": {}
        }
      ]
    },
    {
      "cell_type": "code",
      "source": [
        "# Plotting loss train dan validation\n",
        "plt.figure(figsize=(8, 6))\n",
        "plt.plot(history.history['loss'], label='Train Loss')\n",
        "plt.plot(history.history['val_loss'], label='Validation Loss')\n",
        "\n",
        "plt.title('GRU Model: Training and Validation Loss', fontsize=18)  # Memperbesar teks judul\n",
        "plt.xlabel('Epochs', fontsize=16)  # Memperbesar teks sumbu x\n",
        "plt.ylabel('Loss', fontsize=16)  # Memperbesar teks sumbu y\n",
        "plt.xticks(fontsize=14)  # Memperbesar ukuran font ticks sumbu x\n",
        "plt.yticks(fontsize=14)  # Memperbesar ukuran font ticks sumbu y\n",
        "plt.legend()\n",
        "plt.tight_layout()"
      ],
      "metadata": {
        "id": "WeyFgq7C0uQj",
        "colab": {
          "base_uri": "https://localhost:8080/",
          "height": 607
        },
        "outputId": "1b69bcab-4bad-494e-d222-f95392aadb9a"
      },
      "execution_count": null,
      "outputs": [
        {
          "output_type": "display_data",
          "data": {
            "text/plain": [
              "<Figure size 800x600 with 1 Axes>"
            ],
            "image/png": "[encoded data removed]"
          },
          "metadata": {}
        }
      ]
    },
    {
      "cell_type": "code",
      "source": [
        "from sklearn.metrics import classification_report\n",
        "\n",
        "# Prediksi probabilitas\n",
        "y_pred_prob = model3.predict(testing_padded)\n",
        "\n",
        "# Mengubah probabilitas menjadi kelas biner\n",
        "y_pred_binary = (y_pred_prob > 0.5).astype(int)\n",
        "\n",
        "# Tampilkan classification report\n",
        "print(classification_report(y_test, y_pred_binary))"
      ],
      "metadata": {
        "id": "0-XSLha4A4OY",
        "colab": {
          "base_uri": "https://localhost:8080/"
        },
        "outputId": "e57f2c5e-f7a1-4e3c-e920-59deeca3205b"
      },
      "execution_count": null,
      "outputs": [
        {
          "output_type": "stream",
          "name": "stdout",
          "text": [
            "\u001b[1m3/3\u001b[0m \u001b[32m━━━━━━━━━━━━━━━━━━━━\u001b[0m\u001b[37m\u001b[0m \u001b[1m3s\u001b[0m 665ms/step\n",
            "              precision    recall  f1-score   support\n",
            "\n",
            "           0       0.56      0.45      0.50        20\n",
            "           1       0.78      0.84      0.81        45\n",
            "\n",
            "    accuracy                           0.72        65\n",
            "   macro avg       0.67      0.65      0.65        65\n",
            "weighted avg       0.71      0.72      0.71        65\n",
            "\n"
          ]
        }
      ]
    },
    {
      "cell_type": "code",
      "source": [
        "from sklearn.metrics import classification_report\n",
        "\n",
        "# Prediksi probabilitas\n",
        "y_pred_prob = model3.predict(testing_padded)\n",
        "\n",
        "# Mengubah probabilitas menjadi kelas biner\n",
        "y_pred_binary = (y_pred_prob > 0.5).astype(int)\n",
        "\n",
        "# Generate classification report sebagai dictionary\n",
        "report = classification_report(y_test, y_pred_binary, output_dict=True)\n",
        "\n",
        "# Ambil nilai weighted F1-score\n",
        "weighted_f1 = report[\"weighted avg\"][\"f1-score\"]\n",
        "\n",
        "# Cetak classification report dan weighted F1-score\n",
        "print(classification_report(y_test, y_pred_binary))\n",
        "print(f\"Weighted F1-score: {weighted_f1:.4f}\")"
      ],
      "metadata": {
        "colab": {
          "base_uri": "https://localhost:8080/"
        },
        "id": "ijrzlyL9lk8f",
        "outputId": "63ceac89-457d-4363-f645-60283d14c89a"
      },
      "execution_count": null,
      "outputs": [
        {
          "output_type": "stream",
          "name": "stdout",
          "text": [
            "\u001b[1m3/3\u001b[0m \u001b[32m━━━━━━━━━━━━━━━━━━━━\u001b[0m\u001b[37m\u001b[0m \u001b[1m0s\u001b[0m 104ms/step\n",
            "              precision    recall  f1-score   support\n",
            "\n",
            "           0       0.56      0.45      0.50        20\n",
            "           1       0.78      0.84      0.81        45\n",
            "\n",
            "    accuracy                           0.72        65\n",
            "   macro avg       0.67      0.65      0.65        65\n",
            "weighted avg       0.71      0.72      0.71        65\n",
            "\n",
            "Weighted F1-score: 0.7136\n"
          ]
        }
      ]
    }
  ]
}