{
  "cells": [
    {
      "cell_type": "markdown",
      "metadata": {
        "id": "cRMnkuOv3ehL"
      },
      "source": [
        "# Research Assistant - Language Anxiety - 6 - Deep Learning & Word2Vec"
      ]
    },
    {
      "cell_type": "markdown",
      "metadata": {
        "id": "QPQj_NfS3q7B"
      },
      "source": [
        "## Import Library"
      ]
    },
    {
      "cell_type": "code",
      "execution_count": null,
      "metadata": {
        "id": "XhoDfFP3e8hE"
      },
      "outputs": [],
      "source": [
        "import numpy as np\n",
        "import pandas as pd\n",
        "import matplotlib.pyplot as plt\n",
        "import seaborn as sns\n",
        "import random\n",
        "\n",
        "from sklearn.preprocessing import LabelEncoder\n",
        "from sklearn.model_selection import train_test_split\n",
        "from sklearn.utils import class_weight\n",
        "from sklearn.metrics import classification_report, accuracy_score, precision_score, recall_score, f1_score\n",
        "\n",
        "import tensorflow as tf\n",
        "from tensorflow.keras.preprocessing.text import Tokenizer\n",
        "from tensorflow.keras.preprocessing.sequence import pad_sequences\n",
        "from tensorflow.keras.callbacks import EarlyStopping, ModelCheckpoint\n",
        "from tensorflow.keras.models import Sequential\n",
        "from tensorflow.keras.layers import Dense, LSTM, GRU, Bidirectional, Embedding, Dropout, SpatialDropout1D\n",
        "\n",
        "import nltk\n",
        "import re\n",
        "from nltk.corpus import stopwords\n",
        "from nltk.stem import WordNetLemmatizer"
      ]
    },
    {
      "cell_type": "markdown",
      "metadata": {
        "id": "WDLCS3YV3sOH"
      },
      "source": [
        "## Setting Random Seed"
      ]
    },
    {
      "cell_type": "code",
      "execution_count": null,
      "metadata": {
        "id": "yMSVNDp6fA1m"
      },
      "outputs": [],
      "source": [
        "# Set random seed for reproducibility\n",
        "seed = 2019\n",
        "np.random.seed(seed)\n",
        "random.seed(seed)\n",
        "tf.random.set_seed(seed)"
      ]
    },
    {
      "cell_type": "markdown",
      "metadata": {
        "id": "PWKvEK0X3tdh"
      },
      "source": [
        "## Reading The Dataset"
      ]
    },
    {
      "cell_type": "code",
      "execution_count": null,
      "metadata": {
        "colab": {
          "base_uri": "https://localhost:8080/",
          "height": 206
        },
        "id": "YTwRKQzafC8Y",
        "outputId": "1cdf5449-4939-4ea0-d989-04f723bc5d6b"
      },
      "outputs": [
        {
          "data": {
            "application/vnd.google.colaboratory.intrinsic+json": {
              "summary": "{\n  \"name\": \"df\",\n  \"rows\": 359,\n  \"fields\": [\n    {\n      \"column\": \"Post\",\n      \"properties\": {\n        \"dtype\": \"string\",\n        \"num_unique_values\": 357,\n        \"samples\": [\n          \"Since I was little I lived in Bogor, I really wanted to live in Bandung because my extended family was there, when I went on holiday and went to Bandung I felt very happy.Until one day, when I was still in elementary school, my parents decided to move to Bandung. At that time, I felt like the happiest person. At that time I thought about going to Bandung just for a holiday, I would have been very happy, especially if I moved and lived there, really at that time I felt like the happiest person.Since then until now I am studying in Bandung, I feel it is the best decision ever.Currently, there is no place I would rather be than Bandung, I have lived here for 14 years so there is no reason for me not to like this place.and when I grow up I also have my favorite place in Bandung, precisely in the Dago area, because there I can get very cool air and very beautiful views, especially in the afternoon, I always go there every weekend to spend time with my friends . Friend. Until now, I don't feel bored even though I've been there many times, and even though I've been there many times, there are still many places I haven't visited, and now I realize that Bandung is not just a city. the place where my family is. but the place, the food, the friends and the environment, I really like it.Someday I want to have many more favorite places in Bandung.\",\n          \"For me Osaka has a vibrant energy and eclectic mix of tradition and modernity that holds a special place in my heart. From the bustling streets of Dotonbori adorned with neon signs and bustling izakayas to the serene grounds of Osaka Castle steeped in history, every corner of this dynamic city offers a unique experience for me since it was also my first time travelling to Japan.One of the highlights of Osaka is its culinary scene, renowned for its mouthwatering street food like takoyaki and okonomiyaki!, as well as its Michelin-starred restaurants serving up exquisite Japanese cuisine. Exploring the city's lively markets, such as Kuromon Ichiba Market, is a feast for the senses, with the aroma of freshly grilled seafood and colorful displays of local delicacies.Beyond its culinary delights, Osaka exudes a warmth and hospitality that instantly makes you feel at home instantly. There's a sense of camaraderie and joy that permeates the city's atmosphere.For me, Osaka is more than just a destination, it's a place where tradition meets innovation, where every street corner tells a story, and where the spirit of the city leaves an indelible mark on my soul and my family.\",\n          \"My favourite place is Gili Trawangan. I was visited when high school holidays. For several years ago, I had experience speak to a tourism at Gili Trawangan and\\u00a0And the tourist was from England but he lived in Canada and preferred Canada.\\u00a0I asked his what he liked most about Gili Trawangan, and he said Fried rice was one of his favorites and what he liked most when visiting Gili Trawangan.Gili trawangan is located in gili beautiful village, winner district, north lombok district (KLU) west southeast nusa. It is one of the strategic regions of the province (KSP), along with gili meno and gili water, or what is also called the gili tramena charm. Gili trawling is the largest of the three small islands or gili located northwest of lombok. It is also the only dyke that rises above sea level significant. With a length of 3 km long and 2 km wide, gili trawling has a population of around 2,089 souls with a male and female ratio of 1.08. Among the three, the trawling had the most diverse tourist facilities; Tir na nog claims that trawling is the smallest island in the world where his Irish bar is located. The most densely populated part of the island is the east of the island. In 2023 is also the famous beach club the rabbit jump.\\u00a0Trawling had a more \\\"party\\\" feel than gili meno and gili water, as it had so many overnight parties that regularly rotate the program by several crowded places. Popular activities on the trawling are scuba diving (with rice certification), snorkeling (on the northeast coast), kayaking, and surfing. There are also several places where tourists learn to ride around the island.\"\n        ],\n        \"semantic_type\": \"\",\n        \"description\": \"\"\n      }\n    },\n    {\n      \"column\": \"LA Class\",\n      \"properties\": {\n        \"dtype\": \"category\",\n        \"num_unique_values\": 2,\n        \"samples\": [\n          \"No Anxiety\",\n          \"Anxiety\"\n        ],\n        \"semantic_type\": \"\",\n        \"description\": \"\"\n      }\n    },\n    {\n      \"column\": \"is_ai_generated\",\n      \"properties\": {\n        \"dtype\": \"number\",\n        \"std\": 0.11516405551719282,\n        \"min\": 0.5,\n        \"max\": 0.98,\n        \"num_unique_values\": 48,\n        \"samples\": [\n          0.67,\n          0.57\n        ],\n        \"semantic_type\": \"\",\n        \"description\": \"\"\n      }\n    },\n    {\n      \"column\": \"is_ai_generated_label\",\n      \"properties\": {\n        \"dtype\": \"number\",\n        \"std\": 0,\n        \"min\": 0,\n        \"max\": 1,\n        \"num_unique_values\": 2,\n        \"samples\": [\n          0,\n          1\n        ],\n        \"semantic_type\": \"\",\n        \"description\": \"\"\n      }\n    }\n  ]\n}",
              "type": "dataframe",
              "variable_name": "df"
            },
            "text/html": [
              "\n",
              "  <div id=\"df-ffcbff37-9b1d-48b9-8aa2-0f26eb2972be\" class=\"colab-df-container\">\n",
              "    <div>\n",
              "<style scoped>\n",
              "    .dataframe tbody tr th:only-of-type {\n",
              "        vertical-align: middle;\n",
              "    }\n",
              "\n",
              "    .dataframe tbody tr th {\n",
              "        vertical-align: top;\n",
              "    }\n",
              "\n",
              "    .dataframe thead th {\n",
              "        text-align: right;\n",
              "    }\n",
              "</style>\n",
              "<table border=\"1\" class=\"dataframe\">\n",
              "  <thead>\n",
              "    <tr style=\"text-align: right;\">\n",
              "      <th></th>\n",
              "      <th>Post</th>\n",
              "      <th>LA Class</th>\n",
              "      <th>is_ai_generated</th>\n",
              "      <th>is_ai_generated_label</th>\n",
              "    </tr>\n",
              "  </thead>\n",
              "  <tbody>\n",
              "    <tr>\n",
              "      <th>0</th>\n",
              "      <td>Currently, social networking, especially in th...</td>\n",
              "      <td>Anxiety</td>\n",
              "      <td>0.83</td>\n",
              "      <td>1</td>\n",
              "    </tr>\n",
              "    <tr>\n",
              "      <th>1</th>\n",
              "      <td>The innovation of technology has transformed a...</td>\n",
              "      <td>Anxiety</td>\n",
              "      <td>0.65</td>\n",
              "      <td>0</td>\n",
              "    </tr>\n",
              "    <tr>\n",
              "      <th>2</th>\n",
              "      <td>Adventure is a window to explore the world and...</td>\n",
              "      <td>Anxiety</td>\n",
              "      <td>0.91</td>\n",
              "      <td>1</td>\n",
              "    </tr>\n",
              "    <tr>\n",
              "      <th>3</th>\n",
              "      <td>Lack of sexual education in children in Indone...</td>\n",
              "      <td>No Anxiety</td>\n",
              "      <td>0.69</td>\n",
              "      <td>0</td>\n",
              "    </tr>\n",
              "    <tr>\n",
              "      <th>4</th>\n",
              "      <td>Imagine no longer needing to be stuck in traff...</td>\n",
              "      <td>Anxiety</td>\n",
              "      <td>0.52</td>\n",
              "      <td>0</td>\n",
              "    </tr>\n",
              "  </tbody>\n",
              "</table>\n",
              "</div>\n",
              "    <div class=\"colab-df-buttons\">\n",
              "\n",
              "  <div class=\"colab-df-container\">\n",
              "    <button class=\"colab-df-convert\" onclick=\"convertToInteractive('df-ffcbff37-9b1d-48b9-8aa2-0f26eb2972be')\"\n",
              "            title=\"Convert this dataframe to an interactive table.\"\n",
              "            style=\"display:none;\">\n",
              "\n",
              "  <svg xmlns=\"http://www.w3.org/2000/svg\" height=\"24px\" viewBox=\"0 -960 960 960\">\n",
              "    <path d=\"M120-120v-720h720v720H120Zm60-500h600v-160H180v160Zm220 220h160v-160H400v160Zm0 220h160v-160H400v160ZM180-400h160v-160H180v160Zm440 0h160v-160H620v160ZM180-180h160v-160H180v160Zm440 0h160v-160H620v160Z\"/>\n",
              "  </svg>\n",
              "    </button>\n",
              "\n",
              "  <style>\n",
              "    .colab-df-container {\n",
              "      display:flex;\n",
              "      gap: 12px;\n",
              "    }\n",
              "\n",
              "    .colab-df-convert {\n",
              "      background-color: #E8F0FE;\n",
              "      border: none;\n",
              "      border-radius: 50%;\n",
              "      cursor: pointer;\n",
              "      display: none;\n",
              "      fill: #1967D2;\n",
              "      height: 32px;\n",
              "      padding: 0 0 0 0;\n",
              "      width: 32px;\n",
              "    }\n",
              "\n",
              "    .colab-df-convert:hover {\n",
              "      background-color: #E2EBFA;\n",
              "      box-shadow: 0px 1px 2px rgba(60, 64, 67, 0.3), 0px 1px 3px 1px rgba(60, 64, 67, 0.15);\n",
              "      fill: #174EA6;\n",
              "    }\n",
              "\n",
              "    .colab-df-buttons div {\n",
              "      margin-bottom: 4px;\n",
              "    }\n",
              "\n",
              "    [theme=dark] .colab-df-convert {\n",
              "      background-color: #3B4455;\n",
              "      fill: #D2E3FC;\n",
              "    }\n",
              "\n",
              "    [theme=dark] .colab-df-convert:hover {\n",
              "      background-color: #434B5C;\n",
              "      box-shadow: 0px 1px 3px 1px rgba(0, 0, 0, 0.15);\n",
              "      filter: drop-shadow(0px 1px 2px rgba(0, 0, 0, 0.3));\n",
              "      fill: #FFFFFF;\n",
              "    }\n",
              "  </style>\n",
              "\n",
              "    <script>\n",
              "      const buttonEl =\n",
              "        document.querySelector('#df-ffcbff37-9b1d-48b9-8aa2-0f26eb2972be button.colab-df-convert');\n",
              "      buttonEl.style.display =\n",
              "        google.colab.kernel.accessAllowed ? 'block' : 'none';\n",
              "\n",
              "      async function convertToInteractive(key) {\n",
              "        const element = document.querySelector('#df-ffcbff37-9b1d-48b9-8aa2-0f26eb2972be');\n",
              "        const dataTable =\n",
              "          await google.colab.kernel.invokeFunction('convertToInteractive',\n",
              "                                                    [key], {});\n",
              "        if (!dataTable) return;\n",
              "\n",
              "        const docLinkHtml = 'Like what you see? Visit the ' +\n",
              "          '<a target=\"_blank\" href=https://colab.research.google.com/notebooks/data_table.ipynb>data table notebook</a>'\n",
              "          + ' to learn more about interactive tables.';\n",
              "        element.innerHTML = '';\n",
              "        dataTable['output_type'] = 'display_data';\n",
              "        await google.colab.output.renderOutput(dataTable, element);\n",
              "        const docLink = document.createElement('div');\n",
              "        docLink.innerHTML = docLinkHtml;\n",
              "        element.appendChild(docLink);\n",
              "      }\n",
              "    </script>\n",
              "  </div>\n",
              "\n",
              "\n",
              "<div id=\"df-911aac53-3c6a-4631-9904-e6d9cd6b6a6e\">\n",
              "  <button class=\"colab-df-quickchart\" onclick=\"quickchart('df-911aac53-3c6a-4631-9904-e6d9cd6b6a6e')\"\n",
              "            title=\"Suggest charts\"\n",
              "            style=\"display:none;\">\n",
              "\n",
              "<svg xmlns=\"http://www.w3.org/2000/svg\" height=\"24px\"viewBox=\"0 0 24 24\"\n",
              "     width=\"24px\">\n",
              "    <g>\n",
              "        <path d=\"M19 3H5c-1.1 0-2 .9-2 2v14c0 1.1.9 2 2 2h14c1.1 0 2-.9 2-2V5c0-1.1-.9-2-2-2zM9 17H7v-7h2v7zm4 0h-2V7h2v10zm4 0h-2v-4h2v4z\"/>\n",
              "    </g>\n",
              "</svg>\n",
              "  </button>\n",
              "\n",
              "<style>\n",
              "  .colab-df-quickchart {\n",
              "      --bg-color: #E8F0FE;\n",
              "      --fill-color: #1967D2;\n",
              "      --hover-bg-color: #E2EBFA;\n",
              "      --hover-fill-color: #174EA6;\n",
              "      --disabled-fill-color: #AAA;\n",
              "      --disabled-bg-color: #DDD;\n",
              "  }\n",
              "\n",
              "  [theme=dark] .colab-df-quickchart {\n",
              "      --bg-color: #3B4455;\n",
              "      --fill-color: #D2E3FC;\n",
              "      --hover-bg-color: #434B5C;\n",
              "      --hover-fill-color: #FFFFFF;\n",
              "      --disabled-bg-color: #3B4455;\n",
              "      --disabled-fill-color: #666;\n",
              "  }\n",
              "\n",
              "  .colab-df-quickchart {\n",
              "    background-color: var(--bg-color);\n",
              "    border: none;\n",
              "    border-radius: 50%;\n",
              "    cursor: pointer;\n",
              "    display: none;\n",
              "    fill: var(--fill-color);\n",
              "    height: 32px;\n",
              "    padding: 0;\n",
              "    width: 32px;\n",
              "  }\n",
              "\n",
              "  .colab-df-quickchart:hover {\n",
              "    background-color: var(--hover-bg-color);\n",
              "    box-shadow: 0 1px 2px rgba(60, 64, 67, 0.3), 0 1px 3px 1px rgba(60, 64, 67, 0.15);\n",
              "    fill: var(--button-hover-fill-color);\n",
              "  }\n",
              "\n",
              "  .colab-df-quickchart-complete:disabled,\n",
              "  .colab-df-quickchart-complete:disabled:hover {\n",
              "    background-color: var(--disabled-bg-color);\n",
              "    fill: var(--disabled-fill-color);\n",
              "    box-shadow: none;\n",
              "  }\n",
              "\n",
              "  .colab-df-spinner {\n",
              "    border: 2px solid var(--fill-color);\n",
              "    border-color: transparent;\n",
              "    border-bottom-color: var(--fill-color);\n",
              "    animation:\n",
              "      spin 1s steps(1) infinite;\n",
              "  }\n",
              "\n",
              "  @keyframes spin {\n",
              "    0% {\n",
              "      border-color: transparent;\n",
              "      border-bottom-color: var(--fill-color);\n",
              "      border-left-color: var(--fill-color);\n",
              "    }\n",
              "    20% {\n",
              "      border-color: transparent;\n",
              "      border-left-color: var(--fill-color);\n",
              "      border-top-color: var(--fill-color);\n",
              "    }\n",
              "    30% {\n",
              "      border-color: transparent;\n",
              "      border-left-color: var(--fill-color);\n",
              "      border-top-color: var(--fill-color);\n",
              "      border-right-color: var(--fill-color);\n",
              "    }\n",
              "    40% {\n",
              "      border-color: transparent;\n",
              "      border-right-color: var(--fill-color);\n",
              "      border-top-color: var(--fill-color);\n",
              "    }\n",
              "    60% {\n",
              "      border-color: transparent;\n",
              "      border-right-color: var(--fill-color);\n",
              "    }\n",
              "    80% {\n",
              "      border-color: transparent;\n",
              "      border-right-color: var(--fill-color);\n",
              "      border-bottom-color: var(--fill-color);\n",
              "    }\n",
              "    90% {\n",
              "      border-color: transparent;\n",
              "      border-bottom-color: var(--fill-color);\n",
              "    }\n",
              "  }\n",
              "</style>\n",
              "\n",
              "  <script>\n",
              "    async function quickchart(key) {\n",
              "      const quickchartButtonEl =\n",
              "        document.querySelector('#' + key + ' button');\n",
              "      quickchartButtonEl.disabled = true;  // To prevent multiple clicks.\n",
              "      quickchartButtonEl.classList.add('colab-df-spinner');\n",
              "      try {\n",
              "        const charts = await google.colab.kernel.invokeFunction(\n",
              "            'suggestCharts', [key], {});\n",
              "      } catch (error) {\n",
              "        console.error('Error during call to suggestCharts:', error);\n",
              "      }\n",
              "      quickchartButtonEl.classList.remove('colab-df-spinner');\n",
              "      quickchartButtonEl.classList.add('colab-df-quickchart-complete');\n",
              "    }\n",
              "    (() => {\n",
              "      let quickchartButtonEl =\n",
              "        document.querySelector('#df-911aac53-3c6a-4631-9904-e6d9cd6b6a6e button');\n",
              "      quickchartButtonEl.style.display =\n",
              "        google.colab.kernel.accessAllowed ? 'block' : 'none';\n",
              "    })();\n",
              "  </script>\n",
              "</div>\n",
              "\n",
              "    </div>\n",
              "  </div>\n"
            ],
            "text/plain": [
              "                                                Post    LA Class  \\\n",
              "0  Currently, social networking, especially in th...     Anxiety   \n",
              "1  The innovation of technology has transformed a...     Anxiety   \n",
              "2  Adventure is a window to explore the world and...     Anxiety   \n",
              "3  Lack of sexual education in children in Indone...  No Anxiety   \n",
              "4  Imagine no longer needing to be stuck in traff...     Anxiety   \n",
              "\n",
              "   is_ai_generated  is_ai_generated_label  \n",
              "0             0.83                      1  \n",
              "1             0.65                      0  \n",
              "2             0.91                      1  \n",
              "3             0.69                      0  \n",
              "4             0.52                      0  "
            ]
          },
          "execution_count": 32,
          "metadata": {},
          "output_type": "execute_result"
        }
      ],
      "source": [
        "df = pd.read_excel('/content/Clean_Merged_Anxiety_Dataset_Updated AI Label.xlsx')\n",
        "# df = df[df['is_ai_generated_label'] == 0]\n",
        "# df = df[[\"Post\", \"LA Class\"]]\n",
        "\n",
        "# # Pisahkan kelas anxiety\n",
        "# df_anxiety = df[df[\"LA Class\"] == \"Anxiety\"]\n",
        "# df_no_anxiety = df[df[\"LA Class\"] == \"No Anxiety\"]\n",
        "\n",
        "# # Sampling data anxiety supaya jadi sekitar 60 baris\n",
        "# df_anxiety_sampled = df_anxiety.sample(n=50, random_state=42)  # Random sampling 60 baris\n",
        "\n",
        "# # Gabungkan kembali data yang sudah disampling\n",
        "# df = pd.concat([df_anxiety_sampled, df_no_anxiety], ignore_index=True)\n",
        "\n",
        "df.head()"
      ]
    },
    {
      "cell_type": "code",
      "execution_count": null,
      "metadata": {
        "colab": {
          "base_uri": "https://localhost:8080/",
          "height": 178
        },
        "id": "NJinrKz-D79t",
        "outputId": "c0af028d-49bf-406d-8b95-b97072f5c6fa"
      },
      "outputs": [
        {
          "data": {
            "text/html": [
              "<div>\n",
              "<style scoped>\n",
              "    .dataframe tbody tr th:only-of-type {\n",
              "        vertical-align: middle;\n",
              "    }\n",
              "\n",
              "    .dataframe tbody tr th {\n",
              "        vertical-align: top;\n",
              "    }\n",
              "\n",
              "    .dataframe thead th {\n",
              "        text-align: right;\n",
              "    }\n",
              "</style>\n",
              "<table border=\"1\" class=\"dataframe\">\n",
              "  <thead>\n",
              "    <tr style=\"text-align: right;\">\n",
              "      <th></th>\n",
              "      <th>count</th>\n",
              "    </tr>\n",
              "    <tr>\n",
              "      <th>LA Class</th>\n",
              "      <th></th>\n",
              "    </tr>\n",
              "  </thead>\n",
              "  <tbody>\n",
              "    <tr>\n",
              "      <th>Anxiety</th>\n",
              "      <td>268</td>\n",
              "    </tr>\n",
              "    <tr>\n",
              "      <th>No Anxiety</th>\n",
              "      <td>91</td>\n",
              "    </tr>\n",
              "  </tbody>\n",
              "</table>\n",
              "</div><br><label><b>dtype:</b> int64</label>"
            ],
            "text/plain": [
              "LA Class\n",
              "Anxiety       268\n",
              "No Anxiety     91\n",
              "Name: count, dtype: int64"
            ]
          },
          "execution_count": 33,
          "metadata": {},
          "output_type": "execute_result"
        }
      ],
      "source": [
        "df['LA Class'].value_counts()"
      ]
    },
    {
      "cell_type": "markdown",
      "metadata": {
        "id": "yLZQKyh33vU3"
      },
      "source": [
        "## Encoding The Target Variable"
      ]
    },
    {
      "cell_type": "code",
      "execution_count": null,
      "metadata": {
        "colab": {
          "base_uri": "https://localhost:8080/"
        },
        "id": "JejAa1AKfFRL",
        "outputId": "d8c0cee2-ea72-489e-fb44-77b4ec021dc5"
      },
      "outputs": [
        {
          "name": "stdout",
          "output_type": "stream",
          "text": [
            "Mapping kelas ke nilai encoded:\n",
            "       LA Class  la_class\n",
            "0       Anxiety         0\n",
            "1       Anxiety         0\n",
            "2       Anxiety         0\n",
            "3    No Anxiety         1\n",
            "4       Anxiety         0\n",
            "..          ...       ...\n",
            "354     Anxiety         0\n",
            "355     Anxiety         0\n",
            "356     Anxiety         0\n",
            "357     Anxiety         0\n",
            "358     Anxiety         0\n",
            "\n",
            "[359 rows x 2 columns]\n"
          ]
        }
      ],
      "source": [
        "# Menggunakan mapping manual dengan map\n",
        "df['la_class'] = df['LA Class'].map({'Anxiety': 0, 'No Anxiety': 1})\n",
        "\n",
        "# Menampilkan hasil\n",
        "print(\"Mapping kelas ke nilai encoded:\")\n",
        "print(df[['LA Class', 'la_class']])\n",
        "\n",
        "# Menghapus kolom asli\n",
        "df.drop(columns=['LA Class'], inplace=True)"
      ]
    },
    {
      "cell_type": "markdown",
      "metadata": {
        "id": "SYyAN8gq3x9X"
      },
      "source": [
        "## Text Preprocessing & Cleaning"
      ]
    },
    {
      "cell_type": "markdown",
      "metadata": {
        "id": "5PuU90eA3z1O"
      },
      "source": [
        "### Contraction Mapping"
      ]
    },
    {
      "cell_type": "code",
      "execution_count": null,
      "metadata": {
        "id": "6eFrZoTqfrbE"
      },
      "outputs": [],
      "source": [
        "contraction_mapping = {\n",
        "    \"ain't\": \"am not\",\n",
        "    \"aren't\": \"are not\",\n",
        "    \"can't\": \"cannot\",\n",
        "    \"can't've\": \"cannot have\",\n",
        "    \"'cause\": \"because\",\n",
        "    \"could've\": \"could have\",\n",
        "    \"couldn't\": \"could not\",\n",
        "    \"couldn't've\": \"could not have\",\n",
        "    \"didn't\": \"did not\",\n",
        "    \"doesn't\": \"does not\",\n",
        "    \"don't\": \"do not\",\n",
        "    \"hadn't\": \"had not\",\n",
        "    \"hadn't've\": \"had not have\",\n",
        "    \"hasn't\": \"has not\",\n",
        "    \"haven't\": \"have not\",\n",
        "    \"he'd\": \"he had\",\n",
        "    \"he'd've\": \"he would have\",\n",
        "    \"he'll\": \"he will\",\n",
        "    \"he'll've\": \"he will have\",\n",
        "    \"he's\": \"he is\",\n",
        "    \"how'd\": \"how did\",\n",
        "    \"how'd'y\": \"how do you\",\n",
        "    \"how'll\": \"how will\",\n",
        "    \"how's\": \"how does\",\n",
        "    \"I'd\": \"I had\",\n",
        "    \"I'd've\": \"I would have\",\n",
        "    \"I'll\": \"I will\",\n",
        "    \"I'll've\": \"I will have\",\n",
        "    \"I'm\": \"I am\",\n",
        "    \"I've\": \"I have\",\n",
        "    \"isn't\": \"is not\",\n",
        "    \"it'd\": \"it had\",\n",
        "    \"it'd've\": \"it would have\",\n",
        "    \"it'll\": \"it will\",\n",
        "    \"it'll've\": \"it will have\",\n",
        "    \"it's\": \"it is\",\n",
        "    \"let's\": \"let us\",\n",
        "    \"ma'am\": \"madam\",\n",
        "    \"mayn't\": \"may not\",\n",
        "    \"might've\": \"might have\",\n",
        "    \"mightn't\": \"might not\",\n",
        "    \"mightn't've\": \"might not have\",\n",
        "    \"must've\": \"must have\",\n",
        "    \"mustn't\": \"must not\",\n",
        "    \"mustn't've\": \"must not have\",\n",
        "    \"needn't\": \"need not\",\n",
        "    \"needn't've\": \"need not have\",\n",
        "    \"o'clock\": \"of the clock\",\n",
        "    \"oughtn't\": \"ought not\",\n",
        "    \"oughtn't've\": \"ought not have\",\n",
        "    \"shan't\": \"shall not\",\n",
        "    \"sha'n't\": \"shall not\",\n",
        "    \"shan't've\": \"shall not have\",\n",
        "    \"she'd\": \"she had\",\n",
        "    \"she'd've\": \"she would have\",\n",
        "    \"she'll\": \"she she will\",\n",
        "    \"she'll've\": \"she will have\",\n",
        "    \"she's\": \"she is\",\n",
        "    \"should've\": \"should have\",\n",
        "    \"shouldn't\": \"should not\",\n",
        "    \"shouldn't've\": \"should not have\",\n",
        "    \"so've\": \"so have\",\n",
        "    \"so's\": \"so is\",\n",
        "    \"that'd\": \"that had\",\n",
        "    \"that'd've\": \"that would have\",\n",
        "    \"that's\": \"that is\",\n",
        "    \"there'd\": \"there had\",\n",
        "    \"there'd've\": \"there would have\",\n",
        "    \"there's\": \"there is\",\n",
        "    \"they'd\": \"they had\",\n",
        "    \"they'd've\": \"they would have\",\n",
        "    \"they'll\": \"they will\",\n",
        "    \"they'll've\": \"they will have\",\n",
        "    \"they're\": \"they are\",\n",
        "    \"they've\": \"they have\",\n",
        "    \"to've\": \"to have\",\n",
        "    \"wasn't\": \"was not\",\n",
        "    \"we'd\": \"we had\",\n",
        "    \"we'd've\": \"we would have\",\n",
        "    \"we'll\": \"we will\",\n",
        "    \"we'll've\": \"we will have\",\n",
        "    \"we're\": \"we are\",\n",
        "    \"we've\": \"we have\",\n",
        "    \"weren't\": \"were not\",\n",
        "    \"what'll\": \"what will\",\n",
        "    \"what'll've\": \"what will have\",\n",
        "    \"what're\": \"what are\",\n",
        "    \"what's\": \"what is\",\n",
        "    \"what've\": \"what have\",\n",
        "    \"when's\": \"when is\",\n",
        "    \"when've\": \"when have\",\n",
        "    \"where'd\": \"where did\",\n",
        "    \"where's\": \"where is\",\n",
        "    \"where've\": \"where have\",\n",
        "    \"who'll\": \"who will\",\n",
        "    \"who'll've\": \"who will have\",\n",
        "    \"who's\": \"who is\",\n",
        "    \"who've\": \"who have\",\n",
        "    \"why's\": \"why is\",\n",
        "    \"why've\": \"why have\",\n",
        "    \"will've\": \"will have\",\n",
        "    \"won't\": \"will not\",\n",
        "    \"won't've\": \"will not have\",\n",
        "    \"would've\": \"would have\",\n",
        "    \"wouldn't\": \"would not\",\n",
        "    \"wouldn't've\": \"would not have\",\n",
        "    \"y'all\": \"you all\",\n",
        "    \"y'all'd\": \"you all would\",\n",
        "    \"y'all'd've\": \"you all would have\",\n",
        "    \"y'all're\": \"you all are\",\n",
        "    \"y'all've\": \"you all have\",\n",
        "    \"you'd\": \"you had\",\n",
        "    \"you'd've\": \"you would have\",\n",
        "    \"you'll\": \"you will\",\n",
        "    \"you'll've\": \"you will have\",\n",
        "    \"you're\": \"you are\",\n",
        "    \"you've\": \"you have\"\n",
        "}\n",
        "\n",
        "def expand_contractions(text, contraction_mapping):\n",
        "    for contraction, expanded in contraction_mapping.items():\n",
        "        text = text.replace(contraction, expanded)\n",
        "    return text\n",
        "\n",
        "df['Post'] = df['Post'].apply(lambda x: expand_contractions(x, contraction_mapping))"
      ]
    },
    {
      "cell_type": "markdown",
      "metadata": {
        "id": "ExPaK62W32X7"
      },
      "source": [
        "### Cleaning The Text"
      ]
    },
    {
      "cell_type": "code",
      "execution_count": null,
      "metadata": {
        "colab": {
          "base_uri": "https://localhost:8080/"
        },
        "id": "BXm1xFCzfIv2",
        "outputId": "37d236df-eb3d-4dc3-8591-717c219c117f"
      },
      "outputs": [
        {
          "name": "stderr",
          "output_type": "stream",
          "text": [
            "[nltk_data] Downloading package stopwords to /root/nltk_data...\n",
            "[nltk_data]   Package stopwords is already up-to-date!\n",
            "[nltk_data] Downloading package wordnet to /root/nltk_data...\n",
            "[nltk_data]   Package wordnet is already up-to-date!\n"
          ]
        }
      ],
      "source": [
        "nltk.download('stopwords')\n",
        "nltk.download('wordnet')\n",
        "all_stopwords = stopwords.words('english')\n",
        "all_stopwords.remove('not')\n",
        "\n",
        "lemmatizer = WordNetLemmatizer()\n",
        "\n",
        "def preprocess_text(text):\n",
        "    text = re.sub('[^a-zA-Z]', ' ', text)\n",
        "    text = text.lower()\n",
        "    words = text.split()\n",
        "    words = [lemmatizer.lemmatize(word) for word in words if word not in set(all_stopwords)]\n",
        "    return ' '.join(words)\n",
        "\n",
        "df['Post'] = df['Post'].apply(preprocess_text)\n",
        "df['text_length'] = df['Post'].apply(len)"
      ]
    },
    {
      "cell_type": "markdown",
      "metadata": {
        "id": "aprtWDrSoZYE"
      },
      "source": [
        "Sdasdasd"
      ]
    },
    {
      "cell_type": "code",
      "execution_count": null,
      "metadata": {
        "colab": {
          "base_uri": "https://localhost:8080/"
        },
        "id": "sCxW0W_MoZ8q",
        "outputId": "65cb69ef-0db5-4da7-ffce-2afedfa31c07"
      },
      "outputs": [
        {
          "name": "stderr",
          "output_type": "stream",
          "text": [
            "[nltk_data] Downloading package punkt_tab to /root/nltk_data...\n",
            "[nltk_data]   Package punkt_tab is already up-to-date!\n"
          ]
        },
        {
          "name": "stdout",
          "output_type": "stream",
          "text": [
            "Jumlah kata unik dalam dfset: 6642\n"
          ]
        }
      ],
      "source": [
        "from nltk.tokenize import word_tokenize\n",
        "nltk.download('punkt_tab')\n",
        "\n",
        "# Tokenisasi setiap teks\n",
        "df['tokens'] = df['Post'].apply(word_tokenize)\n",
        "\n",
        "# Menghitung jumlah kata unik dalam dfset\n",
        "all_words = [word.lower() for tokens in df['tokens'] for word in tokens]\n",
        "unique_word_count = len(set(all_words))\n",
        "\n",
        "print(f\"Jumlah kata unik dalam dfset: {unique_word_count}\")"
      ]
    },
    {
      "cell_type": "code",
      "execution_count": null,
      "metadata": {
        "colab": {
          "base_uri": "https://localhost:8080/",
          "height": 487
        },
        "id": "YR8DUNLFocB2",
        "outputId": "d22ed414-887e-406f-e903-48e002c96cc9"
      },
      "outputs": [
        {
          "data": {
            "image/png": "[encoded data removed]",
            "text/plain": [
              "<Figure size 800x500 with 1 Axes>"
            ]
          },
          "metadata": {},
          "output_type": "display_data"
        }
      ],
      "source": [
        "# Menghitung panjang kata dalam setiap teks\n",
        "df['text_length'] = df['tokens'].apply(len)\n",
        "\n",
        "# Plot histogram panjang kata-kata dalam teks\n",
        "plt.figure(figsize=(8, 5))\n",
        "plt.hist(df['text_length'], bins=10, edgecolor='black', alpha=0.7)\n",
        "plt.xlabel(\"Jumlah Kata dalam Teks\")\n",
        "plt.ylabel(\"Frekuensi\")\n",
        "plt.title(\"Histogram Panjang Kata-Kata dalam Teks\")\n",
        "plt.grid(axis='y', linestyle='--', alpha=0.7)\n",
        "plt.show()"
      ]
    },
    {
      "cell_type": "code",
      "execution_count": null,
      "metadata": {
        "colab": {
          "base_uri": "https://localhost:8080/"
        },
        "id": "6IFrkXespVWf",
        "outputId": "45e8f72f-6f63-4ed8-b1fb-b5ebb977ae8d"
      },
      "outputs": [
        {
          "data": {
            "text/plain": [
              "597"
            ]
          },
          "execution_count": 39,
          "metadata": {},
          "output_type": "execute_result"
        }
      ],
      "source": [
        "max_len = df['text_length'].max()\n",
        "max_len"
      ]
    },
    {
      "cell_type": "markdown",
      "metadata": {
        "id": "vQAhH49CeMcH"
      },
      "source": [
        "## Load Pre-trained Word2Vec"
      ]
    },
    {
      "cell_type": "code",
      "execution_count": null,
      "metadata": {
        "id": "sUd3mqGreOWs"
      },
      "outputs": [],
      "source": [
        "# import gensim.downloader as api\n",
        "\n",
        "# # Load pretrained Word2Vec model (Google News 300)\n",
        "# wv = api.load('word2vec-google-news-300')\n",
        "\n",
        "# # Fungsi untuk mendapatkan vektor kata dari Word2Vec\n",
        "# def get_word_vector(word):\n",
        "#     try:\n",
        "#         return wv[word]\n",
        "#     except KeyError:\n",
        "#         return np.zeros(300)"
      ]
    },
    {
      "cell_type": "markdown",
      "metadata": {
        "id": "BpdYm8ock_sv"
      },
      "source": [
        "## Load Glove"
      ]
    },
    {
      "cell_type": "code",
      "execution_count": null,
      "metadata": {
        "id": "m91ETZK1lAmV"
      },
      "outputs": [],
      "source": [
        "# Fungsi untuk memuat GloVe ke dalam dictionary\n",
        "def load_glove_embeddings(glove_file, embedding_dim=100):\n",
        "    embeddings_index = {}\n",
        "    with open(glove_file, 'r', encoding='utf-8') as f:\n",
        "        for line in f:\n",
        "            values = line.split()\n",
        "            word = values[0]\n",
        "            coefs = np.asarray(values[1:], dtype='float32')\n",
        "            embeddings_index[word] = coefs\n",
        "    return embeddings_index"
      ]
    },
    {
      "cell_type": "markdown",
      "metadata": {
        "id": "2qqMD9cC35Xe"
      },
      "source": [
        "## Splitting The Dataset"
      ]
    },
    {
      "cell_type": "code",
      "execution_count": null,
      "metadata": {
        "id": "y8TDFCTEfOYc"
      },
      "outputs": [],
      "source": [
        "X_train, X_test, y_train, y_test = train_test_split(df['Post'], df['la_class'], test_size=0.3, stratify=df['la_class'], random_state=42)"
      ]
    },
    {
      "cell_type": "markdown",
      "metadata": {
        "id": "aa7o7Cdw4FcX"
      },
      "source": [
        "## Hyperparameter"
      ]
    },
    {
      "cell_type": "code",
      "execution_count": null,
      "metadata": {
        "id": "ljcfEtXMfQHY"
      },
      "outputs": [],
      "source": [
        "max_len = max_len = df['text_length'].max()\n",
        "vocab_size = 1000\n",
        "embedding_dim = 300\n",
        "drop_value = 0.6\n",
        "\n",
        "early_stop = EarlyStopping(monitor='val_loss', patience=20, restore_best_weights=True)\n",
        "lr_scheduler = tf.keras.callbacks.ReduceLROnPlateau(monitor='val_loss', factor=0.5, patience=7, min_lr=0.0005, cooldown=2, verbose=1)\n",
        "my_optimizer = tf.keras.optimizers.AdamW(learning_rate=0.0005, weight_decay=1e-4)"
      ]
    },
    {
      "cell_type": "markdown",
      "metadata": {
        "id": "pImFAVL24H7V"
      },
      "source": [
        "## Tokenizing"
      ]
    },
    {
      "cell_type": "code",
      "execution_count": null,
      "metadata": {
        "id": "JzujgrjYfTyb"
      },
      "outputs": [],
      "source": [
        "tokenizer = Tokenizer(num_words=vocab_size, char_level=False, oov_token='<OOV>')\n",
        "tokenizer.fit_on_texts(X_train)\n",
        "\n",
        "training_sequences = tokenizer.texts_to_sequences(X_train)\n",
        "training_padded = pad_sequences(training_sequences, maxlen=max_len, padding='pre', truncating='post')\n",
        "testing_sequences = tokenizer.texts_to_sequences(X_test)\n",
        "testing_padded = pad_sequences(testing_sequences, maxlen=max_len, padding='pre', truncating='post')"
      ]
    },
    {
      "cell_type": "markdown",
      "metadata": {
        "id": "ShTGIDSfef4M"
      },
      "source": [
        "## Create Embedding Matrix For Word2Vec"
      ]
    },
    {
      "cell_type": "code",
      "execution_count": null,
      "metadata": {
        "id": "spayW-j-ehHY"
      },
      "outputs": [],
      "source": [
        "# word_index = tokenizer.word_index\n",
        "# embedding_matrix = np.zeros((vocab_size, embedding_dim))\n",
        "\n",
        "# for word, i in word_index.items():\n",
        "#     if i < vocab_size:\n",
        "#         embedding_matrix[i] = get_word_vector(word)"
      ]
    },
    {
      "cell_type": "markdown",
      "metadata": {
        "id": "5D9br3-zlCj0"
      },
      "source": [
        "## Create Embedding Matrix For Glove"
      ]
    },
    {
      "cell_type": "code",
      "execution_count": null,
      "metadata": {
        "id": "8UB4jHwglDhV"
      },
      "outputs": [],
      "source": [
        "glove_file = '/content/drive/MyDrive/NLP Model/glove.6B.300d.txt'\n",
        "embedding_dim = 300\n",
        "embeddings_index = load_glove_embeddings(glove_file, embedding_dim)\n",
        "\n",
        "# Membuat embedding matrix untuk GloVe\n",
        "word_index = tokenizer.word_index\n",
        "embedding_matrix = np.zeros((vocab_size, embedding_dim))\n",
        "\n",
        "for word, i in word_index.items():\n",
        "    if i < vocab_size:\n",
        "        embedding_vector = embeddings_index.get(word)\n",
        "        if embedding_vector is not None:\n",
        "            embedding_matrix[i] = embedding_vector"
      ]
    },
    {
      "cell_type": "markdown",
      "metadata": {
        "id": "Jops0C8p4J9e"
      },
      "source": [
        "## Getting Class Weights"
      ]
    },
    {
      "cell_type": "code",
      "execution_count": null,
      "metadata": {
        "id": "5X3nUprofWBV"
      },
      "outputs": [],
      "source": [
        "# class_weights = class_weight.compute_class_weight('balanced', classes=np.unique(y_train), y=y_train)\n",
        "# class_weight_dict = dict(enumerate(class_weights))\n",
        "# class_weight_dict"
      ]
    },
    {
      "cell_type": "markdown",
      "metadata": {
        "id": "ZgIiUJLXLQI_"
      },
      "source": [
        "## Focal Loss"
      ]
    },
    {
      "cell_type": "code",
      "execution_count": null,
      "metadata": {
        "id": "5zIbGJLaLPRr"
      },
      "outputs": [],
      "source": [
        "def focal_loss(gamma=5, alpha=0.75):\n",
        "    def focal_loss_fixed(y_true, y_pred):\n",
        "        epsilon = tf.keras.backend.epsilon()\n",
        "        y_pred = tf.keras.backend.clip(y_pred, epsilon, 1. - epsilon)\n",
        "        pt = tf.where(tf.keras.backend.equal(y_true, 1), y_pred, 1 - y_pred)\n",
        "        return -tf.keras.backend.sum(alpha * tf.keras.backend.pow(1. - pt, gamma) * tf.keras.backend.log(pt))\n",
        "\n",
        "    return focal_loss_fixed"
      ]
    },
    {
      "cell_type": "markdown",
      "metadata": {
        "id": "0n4oZSEH4MY2"
      },
      "source": [
        "## LSTM Model Architecture"
      ]
    },
    {
      "cell_type": "code",
      "execution_count": null,
      "metadata": {
        "colab": {
          "base_uri": "https://localhost:8080/",
          "height": 463
        },
        "id": "DhnbkZcrfX_x",
        "outputId": "68105e56-b504-4482-b0e0-cd9a9ff03fa3"
      },
      "outputs": [
        {
          "name": "stderr",
          "output_type": "stream",
          "text": [
            "/usr/local/lib/python3.11/dist-packages/keras/src/layers/core/embedding.py:90: UserWarning: Argument `input_length` is deprecated. Just remove it.\n",
            "  warnings.warn(\n"
          ]
        },
        {
          "data": {
            "text/html": [
              "<pre style=\"white-space:pre;overflow-x:auto;line-height:normal;font-family:Menlo,'DejaVu Sans Mono',consolas,'Courier New',monospace\"><span style=\"font-weight: bold\">Model: \"sequential_2\"</span>\n",
              "</pre>\n"
            ],
            "text/plain": [
              "\u001b[1mModel: \"sequential_2\"\u001b[0m\n"
            ]
          },
          "metadata": {},
          "output_type": "display_data"
        },
        {
          "data": {
            "text/html": [
              "<pre style=\"white-space:pre;overflow-x:auto;line-height:normal;font-family:Menlo,'DejaVu Sans Mono',consolas,'Courier New',monospace\">┏━━━━━━━━━━━━━━━━━━━━━━━━━━━━━━━━━━━━━━┳━━━━━━━━━━━━━━━━━━━━━━━━━━━━━┳━━━━━━━━━━━━━━━━━┓\n",
              "┃<span style=\"font-weight: bold\"> Layer (type)                         </span>┃<span style=\"font-weight: bold\"> Output Shape                </span>┃<span style=\"font-weight: bold\">         Param # </span>┃\n",
              "┡━━━━━━━━━━━━━━━━━━━━━━━━━━━━━━━━━━━━━━╇━━━━━━━━━━━━━━━━━━━━━━━━━━━━━╇━━━━━━━━━━━━━━━━━┩\n",
              "│ embedding_2 (<span style=\"color: #0087ff; text-decoration-color: #0087ff\">Embedding</span>)              │ ?                           │         <span style=\"color: #00af00; text-decoration-color: #00af00\">300,000</span> │\n",
              "├──────────────────────────────────────┼─────────────────────────────┼─────────────────┤\n",
              "│ spatial_dropout1d_2                  │ ?                           │               <span style=\"color: #00af00; text-decoration-color: #00af00\">0</span> │\n",
              "│ (<span style=\"color: #0087ff; text-decoration-color: #0087ff\">SpatialDropout1D</span>)                   │                             │                 │\n",
              "├──────────────────────────────────────┼─────────────────────────────┼─────────────────┤\n",
              "│ lstm_1 (<span style=\"color: #0087ff; text-decoration-color: #0087ff\">LSTM</span>)                        │ ?                           │     <span style=\"color: #00af00; text-decoration-color: #00af00\">0</span> (unbuilt) │\n",
              "├──────────────────────────────────────┼─────────────────────────────┼─────────────────┤\n",
              "│ dropout_2 (<span style=\"color: #0087ff; text-decoration-color: #0087ff\">Dropout</span>)                  │ ?                           │               <span style=\"color: #00af00; text-decoration-color: #00af00\">0</span> │\n",
              "├──────────────────────────────────────┼─────────────────────────────┼─────────────────┤\n",
              "│ dense_2 (<span style=\"color: #0087ff; text-decoration-color: #0087ff\">Dense</span>)                      │ ?                           │     <span style=\"color: #00af00; text-decoration-color: #00af00\">0</span> (unbuilt) │\n",
              "└──────────────────────────────────────┴─────────────────────────────┴─────────────────┘\n",
              "</pre>\n"
            ],
            "text/plain": [
              "┏━━━━━━━━━━━━━━━━━━━━━━━━━━━━━━━━━━━━━━┳━━━━━━━━━━━━━━━━━━━━━━━━━━━━━┳━━━━━━━━━━━━━━━━━┓\n",
              "┃\u001b[1m \u001b[0m\u001b[1mLayer (type)                        \u001b[0m\u001b[1m \u001b[0m┃\u001b[1m \u001b[0m\u001b[1mOutput Shape               \u001b[0m\u001b[1m \u001b[0m┃\u001b[1m \u001b[0m\u001b[1m        Param #\u001b[0m\u001b[1m \u001b[0m┃\n",
              "┡━━━━━━━━━━━━━━━━━━━━━━━━━━━━━━━━━━━━━━╇━━━━━━━━━━━━━━━━━━━━━━━━━━━━━╇━━━━━━━━━━━━━━━━━┩\n",
              "│ embedding_2 (\u001b[38;5;33mEmbedding\u001b[0m)              │ ?                           │         \u001b[38;5;34m300,000\u001b[0m │\n",
              "├──────────────────────────────────────┼─────────────────────────────┼─────────────────┤\n",
              "│ spatial_dropout1d_2                  │ ?                           │               \u001b[38;5;34m0\u001b[0m │\n",
              "│ (\u001b[38;5;33mSpatialDropout1D\u001b[0m)                   │                             │                 │\n",
              "├──────────────────────────────────────┼─────────────────────────────┼─────────────────┤\n",
              "│ lstm_1 (\u001b[38;5;33mLSTM\u001b[0m)                        │ ?                           │     \u001b[38;5;34m0\u001b[0m (unbuilt) │\n",
              "├──────────────────────────────────────┼─────────────────────────────┼─────────────────┤\n",
              "│ dropout_2 (\u001b[38;5;33mDropout\u001b[0m)                  │ ?                           │               \u001b[38;5;34m0\u001b[0m │\n",
              "├──────────────────────────────────────┼─────────────────────────────┼─────────────────┤\n",
              "│ dense_2 (\u001b[38;5;33mDense\u001b[0m)                      │ ?                           │     \u001b[38;5;34m0\u001b[0m (unbuilt) │\n",
              "└──────────────────────────────────────┴─────────────────────────────┴─────────────────┘\n"
            ]
          },
          "metadata": {},
          "output_type": "display_data"
        },
        {
          "data": {
            "text/html": [
              "<pre style=\"white-space:pre;overflow-x:auto;line-height:normal;font-family:Menlo,'DejaVu Sans Mono',consolas,'Courier New',monospace\"><span style=\"font-weight: bold\"> Total params: </span><span style=\"color: #00af00; text-decoration-color: #00af00\">300,000</span> (1.14 MB)\n",
              "</pre>\n"
            ],
            "text/plain": [
              "\u001b[1m Total params: \u001b[0m\u001b[38;5;34m300,000\u001b[0m (1.14 MB)\n"
            ]
          },
          "metadata": {},
          "output_type": "display_data"
        },
        {
          "data": {
            "text/html": [
              "<pre style=\"white-space:pre;overflow-x:auto;line-height:normal;font-family:Menlo,'DejaVu Sans Mono',consolas,'Courier New',monospace\"><span style=\"font-weight: bold\"> Trainable params: </span><span style=\"color: #00af00; text-decoration-color: #00af00\">300,000</span> (1.14 MB)\n",
              "</pre>\n"
            ],
            "text/plain": [
              "\u001b[1m Trainable params: \u001b[0m\u001b[38;5;34m300,000\u001b[0m (1.14 MB)\n"
            ]
          },
          "metadata": {},
          "output_type": "display_data"
        },
        {
          "data": {
            "text/html": [
              "<pre style=\"white-space:pre;overflow-x:auto;line-height:normal;font-family:Menlo,'DejaVu Sans Mono',consolas,'Courier New',monospace\"><span style=\"font-weight: bold\"> Non-trainable params: </span><span style=\"color: #00af00; text-decoration-color: #00af00\">0</span> (0.00 B)\n",
              "</pre>\n"
            ],
            "text/plain": [
              "\u001b[1m Non-trainable params: \u001b[0m\u001b[38;5;34m0\u001b[0m (0.00 B)\n"
            ]
          },
          "metadata": {},
          "output_type": "display_data"
        }
      ],
      "source": [
        "from tensorflow.keras.layers import Embedding, LSTM, Bidirectional, Dropout, Dense, SpatialDropout1D, BatchNormalization\n",
        "from tensorflow.keras.regularizers import l2\n",
        "\n",
        "# Define LSTM Model\n",
        "model1 = Sequential()\n",
        "model1.add(Embedding(input_dim=vocab_size, output_dim=embedding_dim, weights=[embedding_matrix],\n",
        "              input_length=max_len, trainable=True))\n",
        "model1.add(SpatialDropout1D(0.2))\n",
        "model1.add(LSTM(32, return_sequences=False))\n",
        "model1.add(Dropout(0.2))\n",
        "model1.add(Dense(1, activation='tanh'))\n",
        "\n",
        "model1.compile(loss=focal_loss(), optimizer=tf.keras.optimizers.AdamW(learning_rate=1e-3, weight_decay=1e-5), metrics=['accuracy'])\n",
        "model1.summary()"
      ]
    },
    {
      "cell_type": "markdown",
      "metadata": {
        "id": "x_MxE2G_4OK1"
      },
      "source": [
        "## GRU Model Architecture"
      ]
    },
    {
      "cell_type": "code",
      "execution_count": null,
      "metadata": {
        "colab": {
          "base_uri": "https://localhost:8080/",
          "height": 323
        },
        "id": "JNfimsQHfZE-",
        "outputId": "f271192e-33f0-48fe-abb2-bfbff5acc997"
      },
      "outputs": [
        {
          "data": {
            "text/html": [
              "<pre style=\"white-space:pre;overflow-x:auto;line-height:normal;font-family:Menlo,'DejaVu Sans Mono',consolas,'Courier New',monospace\"><span style=\"font-weight: bold\">Model: \"sequential_3\"</span>\n",
              "</pre>\n"
            ],
            "text/plain": [
              "\u001b[1mModel: \"sequential_3\"\u001b[0m\n"
            ]
          },
          "metadata": {},
          "output_type": "display_data"
        },
        {
          "data": {
            "text/html": [
              "<pre style=\"white-space:pre;overflow-x:auto;line-height:normal;font-family:Menlo,'DejaVu Sans Mono',consolas,'Courier New',monospace\">┏━━━━━━━━━━━━━━━━━━━━━━━━━━━━━━━━━━━━━━┳━━━━━━━━━━━━━━━━━━━━━━━━━━━━━┳━━━━━━━━━━━━━━━━━┓\n",
              "┃<span style=\"font-weight: bold\"> Layer (type)                         </span>┃<span style=\"font-weight: bold\"> Output Shape                </span>┃<span style=\"font-weight: bold\">         Param # </span>┃\n",
              "┡━━━━━━━━━━━━━━━━━━━━━━━━━━━━━━━━━━━━━━╇━━━━━━━━━━━━━━━━━━━━━━━━━━━━━╇━━━━━━━━━━━━━━━━━┩\n",
              "│ embedding_3 (<span style=\"color: #0087ff; text-decoration-color: #0087ff\">Embedding</span>)              │ ?                           │         <span style=\"color: #00af00; text-decoration-color: #00af00\">300,000</span> │\n",
              "├──────────────────────────────────────┼─────────────────────────────┼─────────────────┤\n",
              "│ spatial_dropout1d_3                  │ ?                           │               <span style=\"color: #00af00; text-decoration-color: #00af00\">0</span> │\n",
              "│ (<span style=\"color: #0087ff; text-decoration-color: #0087ff\">SpatialDropout1D</span>)                   │                             │                 │\n",
              "├──────────────────────────────────────┼─────────────────────────────┼─────────────────┤\n",
              "│ gru_1 (<span style=\"color: #0087ff; text-decoration-color: #0087ff\">GRU</span>)                          │ ?                           │     <span style=\"color: #00af00; text-decoration-color: #00af00\">0</span> (unbuilt) │\n",
              "├──────────────────────────────────────┼─────────────────────────────┼─────────────────┤\n",
              "│ dropout_3 (<span style=\"color: #0087ff; text-decoration-color: #0087ff\">Dropout</span>)                  │ ?                           │               <span style=\"color: #00af00; text-decoration-color: #00af00\">0</span> │\n",
              "├──────────────────────────────────────┼─────────────────────────────┼─────────────────┤\n",
              "│ dense_3 (<span style=\"color: #0087ff; text-decoration-color: #0087ff\">Dense</span>)                      │ ?                           │     <span style=\"color: #00af00; text-decoration-color: #00af00\">0</span> (unbuilt) │\n",
              "└──────────────────────────────────────┴─────────────────────────────┴─────────────────┘\n",
              "</pre>\n"
            ],
            "text/plain": [
              "┏━━━━━━━━━━━━━━━━━━━━━━━━━━━━━━━━━━━━━━┳━━━━━━━━━━━━━━━━━━━━━━━━━━━━━┳━━━━━━━━━━━━━━━━━┓\n",
              "┃\u001b[1m \u001b[0m\u001b[1mLayer (type)                        \u001b[0m\u001b[1m \u001b[0m┃\u001b[1m \u001b[0m\u001b[1mOutput Shape               \u001b[0m\u001b[1m \u001b[0m┃\u001b[1m \u001b[0m\u001b[1m        Param #\u001b[0m\u001b[1m \u001b[0m┃\n",
              "┡━━━━━━━━━━━━━━━━━━━━━━━━━━━━━━━━━━━━━━╇━━━━━━━━━━━━━━━━━━━━━━━━━━━━━╇━━━━━━━━━━━━━━━━━┩\n",
              "│ embedding_3 (\u001b[38;5;33mEmbedding\u001b[0m)              │ ?                           │         \u001b[38;5;34m300,000\u001b[0m │\n",
              "├──────────────────────────────────────┼─────────────────────────────┼─────────────────┤\n",
              "│ spatial_dropout1d_3                  │ ?                           │               \u001b[38;5;34m0\u001b[0m │\n",
              "│ (\u001b[38;5;33mSpatialDropout1D\u001b[0m)                   │                             │                 │\n",
              "├──────────────────────────────────────┼─────────────────────────────┼─────────────────┤\n",
              "│ gru_1 (\u001b[38;5;33mGRU\u001b[0m)                          │ ?                           │     \u001b[38;5;34m0\u001b[0m (unbuilt) │\n",
              "├──────────────────────────────────────┼─────────────────────────────┼─────────────────┤\n",
              "│ dropout_3 (\u001b[38;5;33mDropout\u001b[0m)                  │ ?                           │               \u001b[38;5;34m0\u001b[0m │\n",
              "├──────────────────────────────────────┼─────────────────────────────┼─────────────────┤\n",
              "│ dense_3 (\u001b[38;5;33mDense\u001b[0m)                      │ ?                           │     \u001b[38;5;34m0\u001b[0m (unbuilt) │\n",
              "└──────────────────────────────────────┴─────────────────────────────┴─────────────────┘\n"
            ]
          },
          "metadata": {},
          "output_type": "display_data"
        },
        {
          "data": {
            "text/html": [
              "<pre style=\"white-space:pre;overflow-x:auto;line-height:normal;font-family:Menlo,'DejaVu Sans Mono',consolas,'Courier New',monospace\"><span style=\"font-weight: bold\"> Total params: </span><span style=\"color: #00af00; text-decoration-color: #00af00\">300,000</span> (1.14 MB)\n",
              "</pre>\n"
            ],
            "text/plain": [
              "\u001b[1m Total params: \u001b[0m\u001b[38;5;34m300,000\u001b[0m (1.14 MB)\n"
            ]
          },
          "metadata": {},
          "output_type": "display_data"
        },
        {
          "data": {
            "text/html": [
              "<pre style=\"white-space:pre;overflow-x:auto;line-height:normal;font-family:Menlo,'DejaVu Sans Mono',consolas,'Courier New',monospace\"><span style=\"font-weight: bold\"> Trainable params: </span><span style=\"color: #00af00; text-decoration-color: #00af00\">0</span> (0.00 B)\n",
              "</pre>\n"
            ],
            "text/plain": [
              "\u001b[1m Trainable params: \u001b[0m\u001b[38;5;34m0\u001b[0m (0.00 B)\n"
            ]
          },
          "metadata": {},
          "output_type": "display_data"
        },
        {
          "data": {
            "text/html": [
              "<pre style=\"white-space:pre;overflow-x:auto;line-height:normal;font-family:Menlo,'DejaVu Sans Mono',consolas,'Courier New',monospace\"><span style=\"font-weight: bold\"> Non-trainable params: </span><span style=\"color: #00af00; text-decoration-color: #00af00\">300,000</span> (1.14 MB)\n",
              "</pre>\n"
            ],
            "text/plain": [
              "\u001b[1m Non-trainable params: \u001b[0m\u001b[38;5;34m300,000\u001b[0m (1.14 MB)\n"
            ]
          },
          "metadata": {},
          "output_type": "display_data"
        }
      ],
      "source": [
        "# GRU Model\n",
        "model2 = Sequential()\n",
        "model2.add(Embedding(input_dim=vocab_size, output_dim=embedding_dim, weights=[embedding_matrix],\n",
        "              input_length=max_len, trainable=False))\n",
        "model2.add(SpatialDropout1D(0.4))\n",
        "model2.add(GRU(128, return_sequences = False))\n",
        "model2.add(Dropout(0.4))\n",
        "model2.add(Dense(1, activation = 'tanh'))\n",
        "\n",
        "model2.compile(loss=focal_loss(), optimizer=tf.keras.optimizers.AdamW(learning_rate=0.0005, weight_decay=1e-4), metrics=['accuracy'])\n",
        "model2.summary()"
      ]
    },
    {
      "cell_type": "markdown",
      "metadata": {
        "id": "UzJCpxZe4TR4"
      },
      "source": [
        "## Model Training"
      ]
    },
    {
      "cell_type": "markdown",
      "metadata": {
        "id": "N3RihRSl4XPZ"
      },
      "source": [
        "### LSTM"
      ]
    },
    {
      "cell_type": "markdown",
      "metadata": {
        "id": "3iwjIZRn4U4J"
      },
      "source": [
        "#### Training LSTM"
      ]
    },
    {
      "cell_type": "code",
      "execution_count": null,
      "metadata": {
        "id": "cOD936IBfaUS"
      },
      "outputs": [],
      "source": [
        "# # Train LSTM\n",
        "# history1 = model1.fit(training_padded, y_train, epochs=100, validation_data=(testing_padded, y_test), verbose=1, callbacks=[early_stop,lr_scheduler], batch_size=64)"
      ]
    },
    {
      "cell_type": "markdown",
      "metadata": {
        "id": "sbCCW1PjABYC"
      },
      "source": [
        "#### LSTM Model Performances"
      ]
    },
    {
      "cell_type": "code",
      "execution_count": null,
      "metadata": {
        "id": "-flUzHdUAChi"
      },
      "outputs": [],
      "source": [
        "# # Melakukan prediksi\n",
        "# y_pred_prob = model1.predict(testing_padded)\n",
        "# y_pred_binary = (y_pred_prob > 0.5).astype(int)\n",
        "\n",
        "# # Menampilkan classification report\n",
        "# print(classification_report(y_test, y_pred_binary))\n",
        "\n",
        "# print()\n",
        "\n",
        "# # Menghitung metrik lainnya\n",
        "# accuracy = accuracy_score(y_test, y_pred_binary)\n",
        "# precision = precision_score(y_test, y_pred_binary)\n",
        "# recall = recall_score(y_test, y_pred_binary)\n",
        "# f1 = f1_score(y_test, y_pred_binary)\n",
        "# f1_macro = f1_score(y_test, y_pred_binary, average='macro')\n",
        "# f1_weighted = f1_score(y_test, y_pred_binary, average='weighted')\n",
        "\n",
        "# # Menampilkan metrik secara terpisah\n",
        "# print(f'Accuracy: {accuracy:.2f}')\n",
        "# print(f'Precision: {precision:.2f}')\n",
        "# print(f'Recall: {recall:.2f}')\n",
        "# print(f'F1 Score: {f1:.2f}')\n",
        "# print(f'F1 Score (macro): {f1_macro:.2f}')\n",
        "# print(f'F1 Score (weighted): {f1_weighted:.2f}')"
      ]
    },
    {
      "cell_type": "markdown",
      "metadata": {
        "id": "XcRR88L-4ZvW"
      },
      "source": [
        "#### LSTM Result Visualization"
      ]
    },
    {
      "cell_type": "code",
      "execution_count": null,
      "metadata": {
        "id": "Js-6zwGwmlwx"
      },
      "outputs": [],
      "source": [
        "# plt.plot(history1.history['loss'])\n",
        "# plt.plot(history1.history['val_loss'])\n",
        "# plt.title('LSTM Model: Training and Validation Loss')\n",
        "# plt.ylabel('Loss')\n",
        "# plt.xlabel('Epoch')\n",
        "# plt.legend(['Train', 'Validation'], loc='upper left')\n",
        "# plt.show()"
      ]
    },
    {
      "cell_type": "markdown",
      "metadata": {
        "id": "Rr1nBtNn4dpI"
      },
      "source": [
        "### GRU"
      ]
    },
    {
      "cell_type": "markdown",
      "metadata": {
        "id": "ytr_dJuo4fFY"
      },
      "source": [
        "#### Training GRU"
      ]
    },
    {
      "cell_type": "code",
      "execution_count": null,
      "metadata": {
        "colab": {
          "background_save": true,
          "base_uri": "https://localhost:8080/"
        },
        "id": "VfGPQFJ4fbhE",
        "outputId": "5bb12893-e4b5-40ea-e9e0-e2b5251abb10"
      },
      "outputs": [
        {
          "name": "stdout",
          "output_type": "stream",
          "text": [
            "Epoch 1/75\n",
            "\u001b[1m8/8\u001b[0m \u001b[32m━━━━━━━━━━━━━━━━━━━━\u001b[0m\u001b[37m\u001b[0m \u001b[1m17s\u001b[0m 2s/step - accuracy: 0.7549 - loss: 40.0690 - val_accuracy: 0.4907 - val_loss: 5.8985 - learning_rate: 5.0000e-04\n",
            "Epoch 2/75\n",
            "\u001b[1m8/8\u001b[0m \u001b[32m━━━━━━━━━━━━━━━━━━━━\u001b[0m\u001b[37m\u001b[0m \u001b[1m13s\u001b[0m 2s/step - accuracy: 0.5460 - loss: 7.0715 - val_accuracy: 0.3426 - val_loss: 4.4602 - learning_rate: 5.0000e-04\n",
            "Epoch 3/75\n",
            "\u001b[1m8/8\u001b[0m \u001b[32m━━━━━━━━━━━━━━━━━━━━\u001b[0m\u001b[37m\u001b[0m \u001b[1m14s\u001b[0m 2s/step - accuracy: 0.4540 - loss: 13.5907 - val_accuracy: 0.3704 - val_loss: 3.9835 - learning_rate: 5.0000e-04\n",
            "Epoch 4/75\n",
            "\u001b[1m8/8\u001b[0m \u001b[32m━━━━━━━━━━━━━━━━━━━━\u001b[0m\u001b[37m\u001b[0m \u001b[1m19s\u001b[0m 2s/step - accuracy: 0.4650 - loss: 5.3624 - val_accuracy: 0.3981 - val_loss: 2.4228 - learning_rate: 5.0000e-04\n",
            "Epoch 5/75\n",
            "\u001b[1m8/8\u001b[0m \u001b[32m━━━━━━━━━━━━━━━━━━━━\u001b[0m\u001b[37m\u001b[0m \u001b[1m22s\u001b[0m 2s/step - accuracy: 0.5362 - loss: 9.6668 - val_accuracy: 0.4815 - val_loss: 1.9876 - learning_rate: 5.0000e-04\n",
            "Epoch 6/75\n",
            "\u001b[1m8/8\u001b[0m \u001b[32m━━━━━━━━━━━━━━━━━━━━\u001b[0m\u001b[37m\u001b[0m \u001b[1m19s\u001b[0m 2s/step - accuracy: 0.5773 - loss: 6.1661 - val_accuracy: 0.5000 - val_loss: 1.9353 - learning_rate: 5.0000e-04\n",
            "Epoch 7/75\n",
            "\u001b[1m8/8\u001b[0m \u001b[32m━━━━━━━━━━━━━━━━━━━━\u001b[0m\u001b[37m\u001b[0m \u001b[1m23s\u001b[0m 2s/step - accuracy: 0.5756 - loss: 3.3812 - val_accuracy: 0.5278 - val_loss: 2.0749 - learning_rate: 5.0000e-04\n",
            "Epoch 8/75\n",
            "\u001b[1m8/8\u001b[0m \u001b[32m━━━━━━━━━━━━━━━━━━━━\u001b[0m\u001b[37m\u001b[0m \u001b[1m21s\u001b[0m 2s/step - accuracy: 0.5301 - loss: 3.2498 - val_accuracy: 0.5093 - val_loss: 1.7626 - learning_rate: 5.0000e-04\n",
            "Epoch 9/75\n",
            "\u001b[1m8/8\u001b[0m \u001b[32m━━━━━━━━━━━━━━━━━━━━\u001b[0m\u001b[37m\u001b[0m \u001b[1m18s\u001b[0m 2s/step - accuracy: 0.5906 - loss: 2.6920 - val_accuracy: 0.4722 - val_loss: 1.9874 - learning_rate: 5.0000e-04\n",
            "Epoch 10/75\n",
            "\u001b[1m8/8\u001b[0m \u001b[32m━━━━━━━━━━━━━━━━━━━━\u001b[0m\u001b[37m\u001b[0m \u001b[1m15s\u001b[0m 2s/step - accuracy: 0.5546 - loss: 2.1995 - val_accuracy: 0.4815 - val_loss: 1.7085 - learning_rate: 5.0000e-04\n",
            "Epoch 11/75\n",
            "\u001b[1m8/8\u001b[0m \u001b[32m━━━━━━━━━━━━━━━━━━━━\u001b[0m\u001b[37m\u001b[0m \u001b[1m18s\u001b[0m 2s/step - accuracy: 0.6203 - loss: 4.8829 - val_accuracy: 0.5741 - val_loss: 1.6522 - learning_rate: 5.0000e-04\n",
            "Epoch 12/75\n",
            "\u001b[1m8/8\u001b[0m \u001b[32m━━━━━━━━━━━━━━━━━━━━\u001b[0m\u001b[37m\u001b[0m \u001b[1m22s\u001b[0m 2s/step - accuracy: 0.6446 - loss: 6.8983 - val_accuracy: 0.6204 - val_loss: 1.7134 - learning_rate: 5.0000e-04\n",
            "Epoch 13/75\n",
            "\u001b[1m8/8\u001b[0m \u001b[32m━━━━━━━━━━━━━━━━━━━━\u001b[0m\u001b[37m\u001b[0m \u001b[1m22s\u001b[0m 2s/step - accuracy: 0.6172 - loss: 6.4425 - val_accuracy: 0.5648 - val_loss: 1.4533 - learning_rate: 5.0000e-04\n",
            "Epoch 14/75\n",
            "\u001b[1m8/8\u001b[0m \u001b[32m━━━━━━━━━━━━━━━━━━━━\u001b[0m\u001b[37m\u001b[0m \u001b[1m22s\u001b[0m 2s/step - accuracy: 0.6154 - loss: 2.0013 - val_accuracy: 0.5556 - val_loss: 1.4552 - learning_rate: 5.0000e-04\n",
            "Epoch 15/75\n",
            "\u001b[1m8/8\u001b[0m \u001b[32m━━━━━━━━━━━━━━━━━━━━\u001b[0m\u001b[37m\u001b[0m \u001b[1m20s\u001b[0m 3s/step - accuracy: 0.6266 - loss: 8.4705 - val_accuracy: 0.5926 - val_loss: 1.4556 - learning_rate: 5.0000e-04\n",
            "Epoch 16/75\n",
            "\u001b[1m8/8\u001b[0m \u001b[32m━━━━━━━━━━━━━━━━━━━━\u001b[0m\u001b[37m\u001b[0m \u001b[1m19s\u001b[0m 2s/step - accuracy: 0.6080 - loss: 3.4032 - val_accuracy: 0.6111 - val_loss: 1.4548 - learning_rate: 5.0000e-04\n",
            "Epoch 17/75\n",
            "\u001b[1m8/8\u001b[0m \u001b[32m━━━━━━━━━━━━━━━━━━━━\u001b[0m\u001b[37m\u001b[0m \u001b[1m17s\u001b[0m 2s/step - accuracy: 0.6520 - loss: 6.3579 - val_accuracy: 0.6389 - val_loss: 1.4941 - learning_rate: 5.0000e-04\n",
            "Epoch 18/75\n",
            "\u001b[1m8/8\u001b[0m \u001b[32m━━━━━━━━━━━━━━━━━━━━\u001b[0m\u001b[37m\u001b[0m \u001b[1m18s\u001b[0m 2s/step - accuracy: 0.6874 - loss: 3.8684 - val_accuracy: 0.6296 - val_loss: 1.3647 - learning_rate: 5.0000e-04\n",
            "Epoch 19/75\n",
            "\u001b[1m8/8\u001b[0m \u001b[32m━━━━━━━━━━━━━━━━━━━━\u001b[0m\u001b[37m\u001b[0m \u001b[1m16s\u001b[0m 2s/step - accuracy: 0.6155 - loss: 1.7155 - val_accuracy: 0.6019 - val_loss: 1.3346 - learning_rate: 5.0000e-04\n",
            "Epoch 20/75\n",
            "\u001b[1m8/8\u001b[0m \u001b[32m━━━━━━━━━━━━━━━━━━━━\u001b[0m\u001b[37m\u001b[0m \u001b[1m14s\u001b[0m 2s/step - accuracy: 0.6030 - loss: 5.8266 - val_accuracy: 0.5556 - val_loss: 1.4582 - learning_rate: 5.0000e-04\n",
            "Epoch 21/75\n",
            "\u001b[1m8/8\u001b[0m \u001b[32m━━━━━━━━━━━━━━━━━━━━\u001b[0m\u001b[37m\u001b[0m \u001b[1m21s\u001b[0m 2s/step - accuracy: 0.5977 - loss: 2.4498 - val_accuracy: 0.5648 - val_loss: 1.3525 - learning_rate: 5.0000e-04\n",
            "Epoch 22/75\n",
            "\u001b[1m8/8\u001b[0m \u001b[32m━━━━━━━━━━━━━━━━━━━━\u001b[0m\u001b[37m\u001b[0m \u001b[1m13s\u001b[0m 2s/step - accuracy: 0.6725 - loss: 3.2887 - val_accuracy: 0.5833 - val_loss: 1.3424 - learning_rate: 5.0000e-04\n",
            "Epoch 23/75\n",
            "\u001b[1m8/8\u001b[0m \u001b[32m━━━━━━━━━━━━━━━━━━━━\u001b[0m\u001b[37m\u001b[0m \u001b[1m19s\u001b[0m 1s/step - accuracy: 0.6388 - loss: 5.4478 - val_accuracy: 0.6204 - val_loss: 1.2849 - learning_rate: 5.0000e-04\n",
            "Epoch 24/75\n",
            "\u001b[1m8/8\u001b[0m \u001b[32m━━━━━━━━━━━━━━━━━━━━\u001b[0m\u001b[37m\u001b[0m \u001b[1m23s\u001b[0m 2s/step - accuracy: 0.5816 - loss: 10.8418 - val_accuracy: 0.6667 - val_loss: 1.3127 - learning_rate: 5.0000e-04\n",
            "Epoch 25/75\n",
            "\u001b[1m8/8\u001b[0m \u001b[32m━━━━━━━━━━━━━━━━━━━━\u001b[0m\u001b[37m\u001b[0m \u001b[1m19s\u001b[0m 2s/step - accuracy: 0.6394 - loss: 6.0086 - val_accuracy: 0.6759 - val_loss: 1.2064 - learning_rate: 5.0000e-04\n",
            "Epoch 26/75\n",
            "\u001b[1m8/8\u001b[0m \u001b[32m━━━━━━━━━━━━━━━━━━━━\u001b[0m\u001b[37m\u001b[0m \u001b[1m20s\u001b[0m 2s/step - accuracy: 0.6715 - loss: 3.2268 - val_accuracy: 0.6481 - val_loss: 1.1678 - learning_rate: 5.0000e-04\n",
            "Epoch 27/75\n",
            "\u001b[1m8/8\u001b[0m \u001b[32m━━━━━━━━━━━━━━━━━━━━\u001b[0m\u001b[37m\u001b[0m \u001b[1m13s\u001b[0m 2s/step - accuracy: 0.6306 - loss: 1.9473 - val_accuracy: 0.6481 - val_loss: 1.1591 - learning_rate: 5.0000e-04\n",
            "Epoch 28/75\n",
            "\u001b[1m8/8\u001b[0m \u001b[32m━━━━━━━━━━━━━━━━━━━━\u001b[0m\u001b[37m\u001b[0m \u001b[1m14s\u001b[0m 2s/step - accuracy: 0.6313 - loss: 4.6961 - val_accuracy: 0.5463 - val_loss: 1.2342 - learning_rate: 5.0000e-04\n",
            "Epoch 29/75\n",
            "\u001b[1m8/8\u001b[0m \u001b[32m━━━━━━━━━━━━━━━━━━━━\u001b[0m\u001b[37m\u001b[0m \u001b[1m18s\u001b[0m 2s/step - accuracy: 0.6057 - loss: 4.2424 - val_accuracy: 0.4907 - val_loss: 1.4007 - learning_rate: 5.0000e-04\n",
            "Epoch 30/75\n",
            "\u001b[1m8/8\u001b[0m \u001b[32m━━━━━━━━━━━━━━━━━━━━\u001b[0m\u001b[37m\u001b[0m \u001b[1m21s\u001b[0m 2s/step - accuracy: 0.6301 - loss: 4.1039 - val_accuracy: 0.5648 - val_loss: 1.1429 - learning_rate: 5.0000e-04\n",
            "Epoch 31/75\n",
            "\u001b[1m8/8\u001b[0m \u001b[32m━━━━━━━━━━━━━━━━━━━━\u001b[0m\u001b[37m\u001b[0m \u001b[1m21s\u001b[0m 2s/step - accuracy: 0.6573 - loss: 4.7846 - val_accuracy: 0.6204 - val_loss: 1.1191 - learning_rate: 5.0000e-04\n",
            "Epoch 32/75\n",
            "\u001b[1m8/8\u001b[0m \u001b[32m━━━━━━━━━━━━━━━━━━━━\u001b[0m\u001b[37m\u001b[0m \u001b[1m21s\u001b[0m 2s/step - accuracy: 0.6677 - loss: 0.9381 - val_accuracy: 0.6574 - val_loss: 1.2860 - learning_rate: 5.0000e-04\n",
            "Epoch 33/75\n",
            "\u001b[1m8/8\u001b[0m \u001b[32m━━━━━━━━━━━━━━━━━━━━\u001b[0m\u001b[37m\u001b[0m \u001b[1m20s\u001b[0m 2s/step - accuracy: 0.7294 - loss: 3.9134 - val_accuracy: 0.5741 - val_loss: 1.1125 - learning_rate: 5.0000e-04\n",
            "Epoch 34/75\n",
            "\u001b[1m8/8\u001b[0m \u001b[32m━━━━━━━━━━━━━━━━━━━━\u001b[0m\u001b[37m\u001b[0m \u001b[1m21s\u001b[0m 2s/step - accuracy: 0.6392 - loss: 4.2117 - val_accuracy: 0.4907 - val_loss: 1.2106 - learning_rate: 5.0000e-04\n",
            "Epoch 35/75\n",
            "\u001b[1m8/8\u001b[0m \u001b[32m━━━━━━━━━━━━━━━━━━━━\u001b[0m\u001b[37m\u001b[0m \u001b[1m13s\u001b[0m 2s/step - accuracy: 0.6363 - loss: 2.8515 - val_accuracy: 0.5093 - val_loss: 1.1803 - learning_rate: 5.0000e-04\n",
            "Epoch 36/75\n",
            "\u001b[1m8/8\u001b[0m \u001b[32m━━━━━━━━━━━━━━━━━━━━\u001b[0m\u001b[37m\u001b[0m \u001b[1m22s\u001b[0m 2s/step - accuracy: 0.6586 - loss: 1.5322 - val_accuracy: 0.5556 - val_loss: 1.1007 - learning_rate: 5.0000e-04\n",
            "Epoch 37/75\n",
            "\u001b[1m8/8\u001b[0m \u001b[32m━━━━━━━━━━━━━━━━━━━━\u001b[0m\u001b[37m\u001b[0m \u001b[1m18s\u001b[0m 1s/step - accuracy: 0.6190 - loss: 5.2575 - val_accuracy: 0.5648 - val_loss: 1.0814 - learning_rate: 5.0000e-04\n",
            "Epoch 38/75\n",
            "\u001b[1m8/8\u001b[0m \u001b[32m━━━━━━━━━━━━━━━━━━━━\u001b[0m\u001b[37m\u001b[0m \u001b[1m21s\u001b[0m 2s/step - accuracy: 0.6476 - loss: 2.5177 - val_accuracy: 0.6204 - val_loss: 1.0866 - learning_rate: 5.0000e-04\n",
            "Epoch 39/75\n",
            "\u001b[1m8/8\u001b[0m \u001b[32m━━━━━━━━━━━━━━━━━━━━\u001b[0m\u001b[37m\u001b[0m \u001b[1m20s\u001b[0m 2s/step - accuracy: 0.5857 - loss: 1.5984 - val_accuracy: 0.5926 - val_loss: 1.0986 - learning_rate: 5.0000e-04\n",
            "Epoch 40/75\n",
            "\u001b[1m8/8\u001b[0m \u001b[32m━━━━━━━━━━━━━━━━━━━━\u001b[0m\u001b[37m\u001b[0m \u001b[1m22s\u001b[0m 2s/step - accuracy: 0.6262 - loss: 1.8087 - val_accuracy: 0.4815 - val_loss: 1.4387 - learning_rate: 5.0000e-04\n",
            "Epoch 41/75\n",
            "\u001b[1m8/8\u001b[0m \u001b[32m━━━━━━━━━━━━━━━━━━━━\u001b[0m\u001b[37m\u001b[0m \u001b[1m21s\u001b[0m 2s/step - accuracy: 0.6188 - loss: 2.2671 - val_accuracy: 0.4352 - val_loss: 2.1166 - learning_rate: 5.0000e-04\n",
            "Epoch 42/75\n",
            "\u001b[1m8/8\u001b[0m \u001b[32m━━━━━━━━━━━━━━━━━━━━\u001b[0m\u001b[37m\u001b[0m \u001b[1m19s\u001b[0m 2s/step - accuracy: 0.5391 - loss: 2.7403 - val_accuracy: 0.4815 - val_loss: 1.6335 - learning_rate: 5.0000e-04\n",
            "Epoch 43/75\n",
            "\u001b[1m8/8\u001b[0m \u001b[32m━━━━━━━━━━━━━━━━━━━━\u001b[0m\u001b[37m\u001b[0m \u001b[1m13s\u001b[0m 2s/step - accuracy: 0.6075 - loss: 1.5767 - val_accuracy: 0.5741 - val_loss: 1.3833 - learning_rate: 5.0000e-04\n",
            "Epoch 44/75\n",
            "\u001b[1m8/8\u001b[0m \u001b[32m━━━━━━━━━━━━━━━━━━━━\u001b[0m\u001b[37m\u001b[0m \u001b[1m17s\u001b[0m 2s/step - accuracy: 0.6776 - loss: 1.5513 - val_accuracy: 0.6019 - val_loss: 1.4611 - learning_rate: 5.0000e-04\n",
            "Epoch 45/75\n",
            "\u001b[1m8/8\u001b[0m \u001b[32m━━━━━━━━━━━━━━━━━━━━\u001b[0m\u001b[37m\u001b[0m \u001b[1m16s\u001b[0m 2s/step - accuracy: 0.6793 - loss: 3.0668 - val_accuracy: 0.6019 - val_loss: 1.5443 - learning_rate: 5.0000e-04\n",
            "Epoch 46/75\n",
            "\u001b[1m8/8\u001b[0m \u001b[32m━━━━━━━━━━━━━━━━━━━━\u001b[0m\u001b[37m\u001b[0m \u001b[1m22s\u001b[0m 2s/step - accuracy: 0.6917 - loss: 1.6508 - val_accuracy: 0.5463 - val_loss: 1.4320 - learning_rate: 5.0000e-04\n",
            "Epoch 47/75\n",
            "\u001b[1m8/8\u001b[0m \u001b[32m━━━━━━━━━━━━━━━━━━━━\u001b[0m\u001b[37m\u001b[0m \u001b[1m20s\u001b[0m 2s/step - accuracy: 0.6625 - loss: 1.4902 - val_accuracy: 0.5093 - val_loss: 1.7609 - learning_rate: 5.0000e-04\n",
            "Epoch 48/75\n",
            "\u001b[1m8/8\u001b[0m \u001b[32m━━━━━━━━━━━━━━━━━━━━\u001b[0m\u001b[37m\u001b[0m \u001b[1m20s\u001b[0m 2s/step - accuracy: 0.5871 - loss: 2.7279 - val_accuracy: 0.4815 - val_loss: 1.6187 - learning_rate: 5.0000e-04\n",
            "Epoch 49/75\n",
            "\u001b[1m8/8\u001b[0m \u001b[32m━━━━━━━━━━━━━━━━━━━━\u001b[0m\u001b[37m\u001b[0m \u001b[1m20s\u001b[0m 2s/step - accuracy: 0.6786 - loss: 3.5597 - val_accuracy: 0.5093 - val_loss: 1.6577 - learning_rate: 5.0000e-04\n",
            "Epoch 50/75\n",
            "\u001b[1m8/8\u001b[0m \u001b[32m━━━━━━━━━━━━━━━━━━━━\u001b[0m\u001b[37m\u001b[0m \u001b[1m13s\u001b[0m 2s/step - accuracy: 0.6921 - loss: 1.2487 - val_accuracy: 0.5648 - val_loss: 1.6642 - learning_rate: 5.0000e-04\n",
            "Epoch 51/75\n",
            "\u001b[1m8/8\u001b[0m \u001b[32m━━━━━━━━━━━━━━━━━━━━\u001b[0m\u001b[37m\u001b[0m \u001b[1m21s\u001b[0m 2s/step - accuracy: 0.7154 - loss: 2.5753 - val_accuracy: 0.5741 - val_loss: 1.6498 - learning_rate: 5.0000e-04\n",
            "Epoch 52/75\n",
            "\u001b[1m8/8\u001b[0m \u001b[32m━━━━━━━━━━━━━━━━━━━━\u001b[0m\u001b[37m\u001b[0m \u001b[1m25s\u001b[0m 2s/step - accuracy: 0.6940 - loss: 0.9986 - val_accuracy: 0.5833 - val_loss: 1.8393 - learning_rate: 5.0000e-04\n",
            "Epoch 53/75\n",
            "\u001b[1m8/8\u001b[0m \u001b[32m━━━━━━━━━━━━━━━━━━━━\u001b[0m\u001b[37m\u001b[0m \u001b[1m13s\u001b[0m 2s/step - accuracy: 0.7295 - loss: 1.1643 - val_accuracy: 0.6389 - val_loss: 4.7143 - learning_rate: 5.0000e-04\n",
            "Epoch 54/75\n",
            "\u001b[1m8/8\u001b[0m \u001b[32m━━━━━━━━━━━━━━━━━━━━\u001b[0m\u001b[37m\u001b[0m \u001b[1m14s\u001b[0m 2s/step - accuracy: 0.7285 - loss: 0.8575 - val_accuracy: 0.6667 - val_loss: 4.7435 - learning_rate: 5.0000e-04\n",
            "Epoch 55/75\n",
            "\u001b[1m8/8\u001b[0m \u001b[32m━━━━━━━━━━━━━━━━━━━━\u001b[0m\u001b[37m\u001b[0m \u001b[1m20s\u001b[0m 2s/step - accuracy: 0.7124 - loss: 1.7671 - val_accuracy: 0.5370 - val_loss: 1.4935 - learning_rate: 5.0000e-04\n",
            "Epoch 56/75\n",
            "\u001b[1m8/8\u001b[0m \u001b[32m━━━━━━━━━━━━━━━━━━━━\u001b[0m\u001b[37m\u001b[0m \u001b[1m21s\u001b[0m 2s/step - accuracy: 0.7062 - loss: 1.4011 - val_accuracy: 0.4815 - val_loss: 1.4349 - learning_rate: 5.0000e-04\n",
            "Epoch 57/75\n",
            "\u001b[1m8/8\u001b[0m \u001b[32m━━━━━━━━━━━━━━━━━━━━\u001b[0m\u001b[37m\u001b[0m \u001b[1m14s\u001b[0m 2s/step - accuracy: 0.6278 - loss: 1.9703 - val_accuracy: 0.4815 - val_loss: 1.4619 - learning_rate: 5.0000e-04\n"
          ]
        }
      ],
      "source": [
        "# Train GRU\n",
        "history2 = model2.fit(training_padded, y_train, epochs=75, validation_data=(testing_padded, y_test), verbose=1, callbacks=[early_stop,lr_scheduler])"
      ]
    },
    {
      "cell_type": "markdown",
      "metadata": {
        "id": "8T0h7H9EADMr"
      },
      "source": [
        "#### GRU Model Performances"
      ]
    },
    {
      "cell_type": "code",
      "execution_count": null,
      "metadata": {
        "colab": {
          "background_save": true
        },
        "id": "uEHFT5MxBALT",
        "outputId": "c05021fb-8d79-4ccb-d45d-5f03b896677e"
      },
      "outputs": [
        {
          "name": "stderr",
          "output_type": "stream",
          "text": [
            "WARNING:tensorflow:5 out of the last 13 calls to <function TensorFlowTrainer.make_predict_function.<locals>.one_step_on_data_distributed at 0x781869063240> triggered tf.function retracing. Tracing is expensive and the excessive number of tracings could be due to (1) creating @tf.function repeatedly in a loop, (2) passing tensors with different shapes, (3) passing Python objects instead of tensors. For (1), please define your @tf.function outside of the loop. For (2), @tf.function has reduce_retracing=True option that can avoid unnecessary retracing. For (3), please refer to https://www.tensorflow.org/guide/function#controlling_retracing and https://www.tensorflow.org/api_docs/python/tf/function for  more details.\n"
          ]
        },
        {
          "name": "stdout",
          "output_type": "stream",
          "text": [
            "\u001b[1m4/4\u001b[0m \u001b[32m━━━━━━━━━━━━━━━━━━━━\u001b[0m\u001b[37m\u001b[0m \u001b[1m2s\u001b[0m 404ms/step\n",
            "              precision    recall  f1-score   support\n",
            "\n",
            "           0       0.76      0.62      0.68        81\n",
            "           1       0.26      0.41      0.32        27\n",
            "\n",
            "    accuracy                           0.56       108\n",
            "   macro avg       0.51      0.51      0.50       108\n",
            "weighted avg       0.63      0.56      0.59       108\n",
            "\n",
            "\n",
            "Accuracy: 0.56\n",
            "Precision: 0.26\n",
            "Recall: 0.41\n",
            "F1 Score: 0.32\n",
            "F1 Score (macro): 0.50\n",
            "F1 Score (weighted): 0.59\n"
          ]
        }
      ],
      "source": [
        "# Melakukan prediksi\n",
        "y_pred_prob = model2.predict(testing_padded)\n",
        "y_pred_binary = (y_pred_prob > 0.5).astype(int)\n",
        "\n",
        "# Menampilkan classification report\n",
        "print(classification_report(y_test, y_pred_binary))\n",
        "\n",
        "print()\n",
        "\n",
        "# Menghitung metrik lainnya\n",
        "accuracy = accuracy_score(y_test, y_pred_binary)\n",
        "precision = precision_score(y_test, y_pred_binary)\n",
        "recall = recall_score(y_test, y_pred_binary)\n",
        "f1 = f1_score(y_test, y_pred_binary)\n",
        "f1_macro = f1_score(y_test, y_pred_binary, average='macro')\n",
        "f1_weighted = f1_score(y_test, y_pred_binary, average='weighted')\n",
        "\n",
        "# Menampilkan metrik secara terpisah\n",
        "print(f'Accuracy: {accuracy:.2f}')\n",
        "print(f'Precision: {precision:.2f}')\n",
        "print(f'Recall: {recall:.2f}')\n",
        "print(f'F1 Score: {f1:.2f}')\n",
        "print(f'F1 Score (macro): {f1_macro:.2f}')\n",
        "print(f'F1 Score (weighted): {f1_weighted:.2f}')"
      ]
    },
    {
      "cell_type": "markdown",
      "metadata": {
        "id": "1xn4RiBv4imL"
      },
      "source": [
        "#### GRU Result Visualization"
      ]
    },
    {
      "cell_type": "code",
      "execution_count": null,
      "metadata": {
        "colab": {
          "background_save": true
        },
        "id": "aCDWLNRYmpZf",
        "outputId": "56407753-9038-431d-aba4-ef4623342bc6"
      },
      "outputs": [
        {
          "data": {
            "image/png": "[encoded data removed]",
            "text/plain": [
              "<Figure size 640x480 with 1 Axes>"
            ]
          },
          "metadata": {},
          "output_type": "display_data"
        }
      ],
      "source": [
        "plt.plot(history2.history['loss'])\n",
        "plt.plot(history2.history['val_loss'])\n",
        "plt.title('GRU Model: Training and Validation Loss')\n",
        "plt.ylabel('Loss')\n",
        "plt.xlabel('Epoch')\n",
        "plt.legend(['Train', 'Validation'], loc='upper left')\n",
        "plt.show()"
      ]
    },
    {
      "cell_type": "markdown",
      "metadata": {
        "id": "HM8CJIMr46oM"
      },
      "source": [
        "## Soft Voting"
      ]
    },
    {
      "cell_type": "code",
      "execution_count": null,
      "metadata": {
        "colab": {
          "background_save": true
        },
        "id": "L_2ZXG5_fcah",
        "outputId": "ab0a489b-4e93-4b63-a773-23325f6e2ce0"
      },
      "outputs": [
        {
          "name": "stderr",
          "output_type": "stream",
          "text": [
            "WARNING:tensorflow:5 out of the last 13 calls to <function TensorFlowTrainer.make_predict_function.<locals>.one_step_on_data_distributed at 0x7818536c3ba0> triggered tf.function retracing. Tracing is expensive and the excessive number of tracings could be due to (1) creating @tf.function repeatedly in a loop, (2) passing tensors with different shapes, (3) passing Python objects instead of tensors. For (1), please define your @tf.function outside of the loop. For (2), @tf.function has reduce_retracing=True option that can avoid unnecessary retracing. For (3), please refer to https://www.tensorflow.org/guide/function#controlling_retracing and https://www.tensorflow.org/api_docs/python/tf/function for  more details.\n"
          ]
        },
        {
          "name": "stdout",
          "output_type": "stream",
          "text": [
            "\u001b[1m4/4\u001b[0m \u001b[32m━━━━━━━━━━━━━━━━━━━━\u001b[0m\u001b[37m\u001b[0m \u001b[1m1s\u001b[0m 161ms/step\n",
            "\u001b[1m4/4\u001b[0m \u001b[32m━━━━━━━━━━━━━━━━━━━━\u001b[0m\u001b[37m\u001b[0m \u001b[1m1s\u001b[0m 341ms/step\n"
          ]
        }
      ],
      "source": [
        "# Soft Voting\n",
        "y_pred_prob_lstm = model1.predict(testing_padded)\n",
        "y_pred_prob_gru = model2.predict(testing_padded)\n",
        "\n",
        "y_pred_prob = (y_pred_prob_lstm + y_pred_prob_gru) / 2\n",
        "y_pred_binary = (y_pred_prob > 0.5).astype(int)"
      ]
    },
    {
      "cell_type": "markdown",
      "metadata": {
        "id": "3F2NgWoW48vy"
      },
      "source": [
        "## Model Performances Report"
      ]
    },
    {
      "cell_type": "code",
      "execution_count": null,
      "metadata": {
        "colab": {
          "background_save": true
        },
        "id": "1IIYvk93feqg",
        "outputId": "ade8aca2-8dbe-4fb6-828b-bb326630cb2d"
      },
      "outputs": [
        {
          "name": "stdout",
          "output_type": "stream",
          "text": [
            "              precision    recall  f1-score   support\n",
            "\n",
            "           0       0.74      0.96      0.84        81\n",
            "           1       0.00      0.00      0.00        27\n",
            "\n",
            "    accuracy                           0.72       108\n",
            "   macro avg       0.37      0.48      0.42       108\n",
            "weighted avg       0.56      0.72      0.63       108\n",
            "\n",
            "\n",
            "Accuracy: 0.72\n",
            "Precision: 0.00\n",
            "Recall: 0.00\n",
            "F1 Score: 0.00\n",
            "F1 Score (macro): 0.42\n",
            "F1 Score (weighted): 0.63\n"
          ]
        }
      ],
      "source": [
        "print(classification_report(y_test, y_pred_binary))\n",
        "\n",
        "print()\n",
        "\n",
        "# Menghitung metrik lainnya\n",
        "accuracy = accuracy_score(y_test, y_pred_binary)\n",
        "precision = precision_score(y_test, y_pred_binary)\n",
        "recall = recall_score(y_test, y_pred_binary)\n",
        "f1 = f1_score(y_test, y_pred_binary)\n",
        "f1_macro = f1_score(y_test, y_pred_binary, average='macro')\n",
        "f1_weighted = f1_score(y_test, y_pred_binary, average='weighted')\n",
        "\n",
        "# Menampilkan metrik secara terpisah\n",
        "print(f'Accuracy: {accuracy:.2f}')\n",
        "print(f'Precision: {precision:.2f}')\n",
        "print(f'Recall: {recall:.2f}')\n",
        "print(f'F1 Score: {f1:.2f}')\n",
        "print(f'F1 Score (macro): {f1_macro:.2f}')\n",
        "print(f'F1 Score (weighted): {f1_weighted:.2f}')"
      ]
    }
  ],
  "metadata": {
    "accelerator": "GPU",
    "colab": {
      "gpuType": "T4",
      "provenance": []
    },
    "kernelspec": {
      "display_name": "Python 3",
      "name": "python3"
    },
    "language_info": {
      "name": "python"
    }
  },
  "nbformat": 4,
  "nbformat_minor": 0
}